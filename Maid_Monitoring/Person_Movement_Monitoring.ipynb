{
  "nbformat": 4,
  "nbformat_minor": 0,
  "metadata": {
    "colab": {
      "name": "Person_Movement_Monitoring.ipynb",
      "provenance": [],
      "collapsed_sections": []
    },
    "kernelspec": {
      "name": "python3",
      "display_name": "Python 3"
    },
    "language_info": {
      "name": "python"
    }
  },
  "cells": [
    {
      "cell_type": "code",
      "metadata": {
        "id": "MVGe9DBWMT6y",
        "colab": {
          "base_uri": "https://localhost:8080/"
        },
        "outputId": "7886e3e7-d7db-4d26-838c-13c8880cdeca"
      },
      "source": [
        "!pip install --user -U nltk"
      ],
      "execution_count": 1,
      "outputs": [
        {
          "output_type": "stream",
          "text": [
            "Requirement already up-to-date: nltk in /root/.local/lib/python3.7/site-packages (3.6.2)\n",
            "Requirement already satisfied, skipping upgrade: regex in /usr/local/lib/python3.7/dist-packages (from nltk) (2019.12.20)\n",
            "Requirement already satisfied, skipping upgrade: joblib in /usr/local/lib/python3.7/dist-packages (from nltk) (1.0.1)\n",
            "Requirement already satisfied, skipping upgrade: tqdm in /usr/local/lib/python3.7/dist-packages (from nltk) (4.41.1)\n",
            "Requirement already satisfied, skipping upgrade: click in /usr/local/lib/python3.7/dist-packages (from nltk) (8.0.0)\n"
          ],
          "name": "stdout"
        }
      ]
    },
    {
      "cell_type": "code",
      "metadata": {
        "id": "maR0Iy4UK0gC"
      },
      "source": [
        "from nltk.util import pad_sequence\n",
        "from nltk.util import bigrams\n",
        "from nltk.util import ngrams\n",
        "from nltk.util import everygrams\n",
        "from nltk.lm.preprocessing import pad_both_ends\n",
        "from nltk.lm.preprocessing import flatten"
      ],
      "execution_count": 2,
      "outputs": []
    },
    {
      "cell_type": "code",
      "metadata": {
        "id": "RPbCM97vMY_y"
      },
      "source": [
        "text = [['a', 'b', 'c'],['a','f','e','c', 'd', 'c', 'e', 'f'], ['a', 'c', 'd', 'c', 'e', 'f']]"
      ],
      "execution_count": 3,
      "outputs": []
    },
    {
      "cell_type": "code",
      "metadata": {
        "colab": {
          "base_uri": "https://localhost:8080/"
        },
        "id": "BoIsOgeDMj2y",
        "outputId": "15d796d4-974f-4a4f-dd76-8cd0f97c95e2"
      },
      "source": [
        "l=[]\n",
        "for t in text:\n",
        "  d=list(bigrams(t))\n",
        "  for li in d:\n",
        "    l.append(li)\n",
        "print(l);\n"
      ],
      "execution_count": 4,
      "outputs": [
        {
          "output_type": "stream",
          "text": [
            "[('a', 'b'), ('b', 'c'), ('a', 'f'), ('f', 'e'), ('e', 'c'), ('c', 'd'), ('d', 'c'), ('c', 'e'), ('e', 'f'), ('a', 'c'), ('c', 'd'), ('d', 'c'), ('c', 'e'), ('e', 'f')]\n"
          ],
          "name": "stdout"
        }
      ]
    },
    {
      "cell_type": "code",
      "metadata": {
        "colab": {
          "base_uri": "https://localhost:8080/"
        },
        "id": "39U5SVXCNgoI",
        "outputId": "3e87afa8-503c-46f0-a31e-0f6dbd88f77b"
      },
      "source": [
        "l=[]\n",
        "for t in text:\n",
        "  d=list(ngrams(t, n=3))\n",
        "  for li in d:\n",
        "    l.append(li)\n",
        "print(l);"
      ],
      "execution_count": 5,
      "outputs": [
        {
          "output_type": "stream",
          "text": [
            "[('a', 'b', 'c'), ('a', 'f', 'e'), ('f', 'e', 'c'), ('e', 'c', 'd'), ('c', 'd', 'c'), ('d', 'c', 'e'), ('c', 'e', 'f'), ('a', 'c', 'd'), ('c', 'd', 'c'), ('d', 'c', 'e'), ('c', 'e', 'f')]\n"
          ],
          "name": "stdout"
        }
      ]
    },
    {
      "cell_type": "code",
      "metadata": {
        "colab": {
          "base_uri": "https://localhost:8080/"
        },
        "id": "lBhJ0KWsNy52",
        "outputId": "38c589af-9df9-460c-926c-750d731b6fbc"
      },
      "source": [
        "from nltk.util import pad_sequence\n",
        "l=[]\n",
        "for t in text:\n",
        "  d=list(pad_sequence(t,\n",
        "                  pad_left=True, left_pad_symbol=\"<s>\",\n",
        "                  pad_right=True, right_pad_symbol=\"</s>\",\n",
        "                  n=2))\n",
        "l=[]\n",
        "for t in d:\n",
        "  e=list(ngrams(d, n=3))\n",
        "  for li in e:\n",
        "    l.append(li)\n",
        "print(l);\n"
      ],
      "execution_count": 6,
      "outputs": [
        {
          "output_type": "stream",
          "text": [
            "[('<s>', 'a', 'c'), ('a', 'c', 'd'), ('c', 'd', 'c'), ('d', 'c', 'e'), ('c', 'e', 'f'), ('e', 'f', '</s>'), ('<s>', 'a', 'c'), ('a', 'c', 'd'), ('c', 'd', 'c'), ('d', 'c', 'e'), ('c', 'e', 'f'), ('e', 'f', '</s>'), ('<s>', 'a', 'c'), ('a', 'c', 'd'), ('c', 'd', 'c'), ('d', 'c', 'e'), ('c', 'e', 'f'), ('e', 'f', '</s>'), ('<s>', 'a', 'c'), ('a', 'c', 'd'), ('c', 'd', 'c'), ('d', 'c', 'e'), ('c', 'e', 'f'), ('e', 'f', '</s>'), ('<s>', 'a', 'c'), ('a', 'c', 'd'), ('c', 'd', 'c'), ('d', 'c', 'e'), ('c', 'e', 'f'), ('e', 'f', '</s>'), ('<s>', 'a', 'c'), ('a', 'c', 'd'), ('c', 'd', 'c'), ('d', 'c', 'e'), ('c', 'e', 'f'), ('e', 'f', '</s>'), ('<s>', 'a', 'c'), ('a', 'c', 'd'), ('c', 'd', 'c'), ('d', 'c', 'e'), ('c', 'e', 'f'), ('e', 'f', '</s>'), ('<s>', 'a', 'c'), ('a', 'c', 'd'), ('c', 'd', 'c'), ('d', 'c', 'e'), ('c', 'e', 'f'), ('e', 'f', '</s>')]\n"
          ],
          "name": "stdout"
        }
      ]
    },
    {
      "cell_type": "code",
      "metadata": {
        "id": "6DcIXmX7R-fh"
      },
      "source": [
        "try: # Use the default NLTK tokenizer.\n",
        "    from nltk import word_tokenize, sent_tokenize \n",
        "    # Testing whether it works. \n",
        "    # Sometimes it doesn't work on some machines because of setup issues.\n",
        "    word_tokenize(sent_tokenize(\"This is a foobar sentence. Yes it is.\")[0])\n",
        "except: # Use a naive sentence tokenizer and toktok.\n",
        "    import re\n",
        "    from nltk.tokenize import ToktokTokenizer\n",
        "    # See https://stackoverflow.com/a/25736515/610569\n",
        "    sent_tokenize = lambda x: re.split(r'(?<=[^A-Z].[.?]) +(?=[A-Z])', x)\n",
        "    # Use the toktok tokenizer that requires no dependencies.\n",
        "    toktok = ToktokTokenizer()\n",
        "    word_tokenize = word_tokenize = toktok.tokenize"
      ],
      "execution_count": 7,
      "outputs": []
    },
    {
      "cell_type": "code",
      "metadata": {
        "id": "eeb_jEoNPrLs"
      },
      "source": [
        "import os\n",
        "import requests\n",
        "import io #codecs\n",
        "\n",
        "\n",
        "# Text version of https://kilgarriff.co.uk/Publications/2005-K-lineer.pdf\n",
        "if os.path.isfile('language-never-random.txt'):\n",
        "    with io.open('language-never-random.txt', encoding='utf8') as fin:\n",
        "        text = fin.read()\n",
        "else:\n",
        "    url = \"https://gist.githubusercontent.com/alvations/53b01e4076573fea47c6057120bb017a/raw/b01ff96a5f76848450e648f35da6497ca9454e4a/language-never-random.txt\"\n",
        "    text = requests.get(url).content.decode('utf8')\n",
        "    with io.open('language-never-random.txt', 'w', encoding='utf8') as fout:\n",
        "        fout.write(text)"
      ],
      "execution_count": 8,
      "outputs": []
    },
    {
      "cell_type": "code",
      "metadata": {
        "colab": {
          "base_uri": "https://localhost:8080/"
        },
        "id": "WTy5FuBrPOIZ",
        "outputId": "c8cfef60-511b-424f-8c76-5cbfe0a522ed"
      },
      "source": [
        "# Tokenize the text.\n",
        "tokenized_text = [list(map(str.lower, word_tokenize(sent))) \n",
        "                  for sent in sent_tokenize(text)]\n",
        "print(tokenized_text)"
      ],
      "execution_count": 9,
      "outputs": [
        {
          "output_type": "stream",
          "text": [
            "[['language', 'is', 'never', ',', 'ever', ',', 'ever', ',', 'random', 'adam', 'kilgarriff', 'abstract', 'language', 'users', 'never', 'choose', 'words', 'randomly', ',', 'and', 'language', 'is', 'essentially', 'non-random', '.'], ['statistical', 'hypothesis', 'testing', 'uses', 'a', 'null', 'hypothesis', ',', 'which', 'posits', 'randomness', '.'], ['hence', ',', 'when', 'we', 'look', 'at', 'linguistic', 'phenomena', 'in', 'cor-', 'pora', ',', 'the', 'null', 'hypothesis', 'will', 'never', 'be', 'true', '.'], ['moreover', ',', 'where', 'there', 'is', 'enough', 'data', ',', 'we', 'shall', '(', 'almost', ')', 'always', 'be', 'able', 'to', 'establish', 'that', 'it', 'is', 'not', 'true', '.'], ['in', 'corpus', 'studies', ',', 'we', 'frequently', 'do', 'have', 'enough', 'data', ',', 'so', 'the', 'fact', 'that', 'a', 'rela-', 'tion', 'between', 'two', 'phenomena', 'is', 'demonstrably', 'non-random', ',', 'does', 'not', 'sup-', 'port', 'the', 'inference', 'that', 'it', 'is', 'not', 'arbitrary', '.'], ['we', 'present', 'experimental', 'evidence', 'of', 'how', 'arbitrary', 'associations', 'between', 'word', 'frequencies', 'and', 'corpora', 'are', 'systematically', 'non-random', '.'], ['we', 'review', 'literature', 'in', 'which', 'hypothesis', 'test-', 'ing', 'has', 'been', 'used', ',', 'and', 'show', 'how', 'it', 'has', 'often', 'led', 'to', 'unhelpful', 'or', 'mislead-', 'ing', 'results.', 'keywords', ':', '쎲쎲쎲', '1', '.'], ['introduction', 'any', 'two', 'phenomena', 'might', 'or', 'might', 'not', 'be', 'related', '.'], ['the', 'range', 'of', 'pos-', 'sibilities', 'is', 'that', 'the', 'association', 'is', 'random', ',', 'arbitrary', ',', 'motivated', 'or', 'pre-', 'dictable', '(', 'r', ',', 'a', ',', 'm', ',', 'p', ')', '.', 'the', 'bulk', 'of', 'linguistic', 'questions', 'concern', 'the', 'dis-', 'tinction', 'between', 'a', 'and', 'm', '.'], ['a', 'linguistic', 'account', 'of', 'a', 'phenomenon', 'gen-', 'erally', 'gives', 'us', 'reason', 'to', 'view', 'the', 'relation', 'between', ',', 'for', 'example', ',', 'a', 'verb', '’', 's', 'syntax', 'and', 'its', 'semantics', ',', 'as', 'motivated', 'rather', 'than', 'arbitrary', '.'], ['however', ',', 'it', 'is', 'not', 'in', 'general', 'possible', 'to', 'model', 'the', 'a-m', 'distinction', 'mathematically.', 'the', 'distinction', 'that', 'can', 'be', 'modeled', 'mathematically', 'is', 'between', 'r', 'and', 'not-r', ',', 'that', 'is', ',', 'between', 'random', ',', 'or', 'uncorrelated', ',', 'pairs', 'and', 'pairs', 'where', 'there', 'is', 'some', 'correlation', ',', 'be', 'it', 'arbitrary', ',', 'motivated', 'or', 'predictable.1', 'the', 'mechanism', 'here', 'is', 'hypothesis-testing', '.'], ['a', 'null', 'hypothesis', ',', 'h0', 'is', 'con-', 'structed', 'to', 'model', 'the', 'situation', 'in', 'which', 'there', 'is', 'no', 'correlation', 'between', 'corpus', 'linguistics', 'and', 'linguistic', 'theory', '1⫺2', '(', '2005', ')', ',', '263⫺275', '1613-7027/05/0001⫺0263', '쑕', 'walter', 'de', 'gruyter', '264', 'a', '.'], ['kilgarriff', 'the', 'two', 'phenomena', '.'], ['as', 'the', 'mathematics', 'of', 'the', 'random', 'is', 'well', 'under-', 'stood', ',', 'we', 'can', 'compute', 'the', 'likelihood', 'of', 'the', 'null', 'hypothesis', 'given', 'the', 'data', '.'], ['if', 'the', 'likelihood', 'is', 'low', ',', 'we', 'reject', 'h0.', 'the', 'problem', 'for', 'empirical', 'linguistics', 'is', 'that', 'language', 'is', 'not', 'random', ',', 'so', 'the', 'null', 'hypothesis', 'is', 'never', 'true', '.'], ['language', 'is', 'not', 'random', 'because', 'we', 'speak', 'or', 'write', 'with', 'purposes', '.'], ['we', 'do', 'not', ',', 'indeed', ',', 'without', 'computational', 'help', 'are', 'not', 'capable', 'of', ',', 'producing', 'words', 'or', 'sounds', 'or', 'sentences', 'or', 'documents', 'randomly', '.'], ['we', 'do', 'not', 'always', 'have', 'enough', 'data', 'to', 'reject', 'the', 'null', 'hypothesis', ',', 'but', 'that', 'is', 'a', 'distinct', 'issue', ':', 'wherever', 'there', 'is', 'enough', 'data', ',', 'it', 'is', 'rejected', '.'], ['using', 'language', 'corpora', ',', 'we', 'are', 'frequently', 'in', 'the', 'fortunate', 'position', 'of', 'having', 'very', 'large', 'quantities', 'of', 'data', 'at', 'our', 'disposal.', 'then', ',', 'even', 'where', 'pairs', 'of', 'corpora', 'are', 'set', 'up', 'to', 'be', 'linguistically', 'identical', ',', 'the', 'null', 'hypothesis', 'is', 'resoundingly', 'defeated', '.'], ['in', 'section', '4', ',', 'we', 'present', 'an', 'experiment', 'demonstrating', 'this', 'counterintuitive', 'effect.', 'there', 'are', 'a', 'number', 'of', 'papers', 'in', 'the', 'empirical', 'linguistics', 'literature', 'where', 'researchers', 'seemed', 'to', 'be', 'testing', 'whether', 'an', 'association', 'was', 'lin-', 'guistically', 'salient', ',', 'or', 'used', 'the', 'confidence', 'with', 'which', 'h0', 'could', 'be', 're-', 'jected', 'as', 'a', 'measure', 'of', 'salience', ',', 'whereas', 'in', 'fact', 'they', 'were', 'merely', 'testing', 'whether', 'they', 'had', 'enough', 'data', 'to', 'reject', 'h0', 'with', 'confidence', '.'], ['some', 'such', 'cases', 'are', 'reviewed', 'in', 'section', '5', '.'], ['hypothesis', 'testing', 'has', 'been', 'widely', 'used', 'in', 'the', 'acquisition', 'of', 'subcategorization', 'frames', 'from', 'corpora', 'and', 'this', 'literature', 'is', 'considered', 'in', 'some', 'detail', '.'], ['alternatives', 'to', 'inappropriate', 'hy-', 'pothesis-testing', 'are', 'presented.', 'before', 'proceeding', ',', 'may', 'i', 'clarify', 'that', 'this', 'paper', 'is', 'in', 'no', 'way', 'critical', 'of', 'using', 'probability', 'models', ',', 'all', 'of', 'which', 'are', 'based', 'on', 'assumptions', 'of', 'randomness', ',', 'in', 'empirical', 'linguistics', 'in', 'general', '.'], ['probability', 'models', 'have', 'been', 'responsible', 'for', 'a', 'large', 'share', 'of', 'progress', 'in', 'the', 'field', 'in', 'the', 'last', 'decade', 'and', 'a', 'half', '.'], ['the', 'randomness', 'assumptions', 'are', 'always', 'untrue', ',', 'but', 'that', 'does', 'not', 'preclude', 'them', 'from', 'frequently', 'being', 'useful', '.'], ['making', 'false', 'assumptions', 'is', 'often', 'an', 'ingenious', 'way', 'to', 'proceed', ';', 'the', 'problem', 'arises', 'where', 'the', 'literal', 'falsity', 'of', 'the', 'assumption', 'is', 'overlooked', ',', 'and', 'inappropri-', 'ate', 'inferences', 'are', 'drawn.', '2', '.'], ['the', 'arbitrary', 'and', 'the', 'random', 'in', 'common', 'parlance', ',', 'random', 'and', 'arbitrary', 'are', 'synonyms', ',', 'with', 'diction-', 'aries', 'giving', 'near-identical', 'definitions', ':', 'ldoce', '(', '1995', ')', 'defines', 'random', 'as', 'happening', 'or', 'chosen', 'without', 'any', 'definite', 'plan', ',', 'or', 'pattern', 'and', 'arbitrary', 'as', '1', 'decided', 'or', 'arranged', 'without', 'any', 'reason', 'or', 'plan', ',', 'often', 'unfairly', '…', '2', 'happening', 'or', 'decided', 'by', 'chance', 'rather', 'than', 'a', 'plan', 'language', 'is', 'never', ',', 'ever', ',', 'ever', ',', 'random', '265', 'superficially', ',', 'randomness', ',', 'as', 'defined', 'here', ',', 'is', 'what', 'the', 'technical', 'sense', 'of', 'random', 'captures', 'and', 'makes', 'explicit', '.'], ['the', 'technical', 'sense', 'is', 'defined', 'in', 'terms', 'of', 'statistical', 'independence', '.'], ['first', ',', 'we', 'formalize', 'the', 'framework', ':', 'for', 'a', 'population', 'of', 'events', ',', 'the', 'first', 'phenomenon', 'holds', 'where', 'x', 'is', 'true', 'of', 'the', 'event', ',', 'the', 'second', 'holds', 'where', 'y', 'is', 'true', 'of', 'the', 'event.', 'now', ',', 'the', 'relation', 'between', 'the', 'phenomena', 'is', 'random', 'iff', 'the', 'prob-', 'ability', 'of', 'x', ',', 'for', 'that', 'subset', 'of', 'events', 'where', 'y', 'does', 'hold', ',', 'is', 'identical', 'to', 'its', 'probability', 'for', 'the', 'subset', 'where', 'y', 'does', 'not', 'hold', ',', 'that', 'is', 'p', '(', 'x', '&#124;', 'y', ')', '⫽', 'p', '(', 'x', '&#124;', 'ÿ', 'y', ')', 'the', 'relation', 'is', 'symmetric', ':', 'p', '(', 'x', '&#124;', 'y', ')', '⫽', 'p', '(', 'x', '&#124;', 'ÿ', 'y', ')', 'entails', 'p', '(', 'y', '&#124;', 'x', ')', '⫽', 'p', '(', 'y', '&#124;', 'ÿ', 'x', ')', '.'], ['hereafter', 'i', 'use', '‘random', '’', 'for', 'the', 'technical', 'meaning', 'and', '‘arbi-', 'trary', '’', 'for', 'the', 'non-technical', 'one.', 'arbitrary', 'events', 'are', 'very', 'rarely', 'random', ',', 'and', 'random', 'events', 'are', 'very', 'rarely', 'arbitrary', '.'], ['it', 'takes', 'considerable', 'ingenuity', 'and', 'sophisticated', 'mathe-', 'matics', 'to', 'produce', 'a', 'pseudo-random', 'sequence', 'algorithmically', ',', 'and', 'true', 'randomness', 'is', 'not', 'possible', 'at', 'all', '.'], ['events', 'happening', '“without', 'any', 'defi-', 'nite', 'plan', ',', 'aim', 'or', 'pattern', '”', 'are', ',', 'by', 'definition', ',', 'arbitrary', ',', 'but', 'are', 'vanish-', 'ingly', 'unlikely', 'to', 'be', 'random', '.'], ['outside', 'the', 'sub-atomic', 'realm', ',', 'natural', 'events', 'are', 'very', 'rarely', 'random.', 'consider', ',', 'for', 'example', ',', 'cat', 'food', 'purchases', 'and', 'shoe-polish', 'purchases', 'within', 'the', 'space', 'of', 'all', 'uk', 'supermarket-shopping', 'events', ':', 'does', 'the', 'fact', 'that', 'cat', 'food', 'was', 'bought', 'predict', '(', 'positively', 'or', 'negatively', ')', 'whether', 'shoe', 'polish', 'was', 'bought', 'in', 'the', 'same', 'shopping', 'trip', '?'], ['there', 'is', 'no', 'obvious', 'reason', 'why', 'it', 'should', ',', 'and', 'we', 'can', 'happily', 'declare', 'the', 'relation', 'arbitrary', '.'], ['but', 'perhaps', 'either', 'cat', 'food', 'or', 'shoe-polish', 'are', 'more', '(', 'or', 'less', ')', 'often', 'bought', 'in', 'hot', '(', 'or', 'cold', ')', 'weather', ',', 'or', 'on', 'saturday', 'nights', ',', 'or', 'sunday', 'mornings', ',', 'or', 'monday', 'lunchtimes', ',', 'or', 'by', 'richer', '(', 'or', 'poorer', ')', 'people', ',', 'or', 'by', 'men', '(', 'or', 'women', ')', ',', 'or', 'by', 'people', 'in', '(', 'or', 'out', 'of', ')', 'towns', '…', 'there', 'is', 'an', 'unlimited', 'number', 'of', 'hypotheses', 'connecting', 'the', 'two', '(', 'positively', 'or', 'negatively', ')', ';', 'if', 'just', 'one', 'of', 'these', 'has', 'any', 'validity', ',', 'however', 'weak', ',', 'then', 'the', 'null', 'hypothesis', 'is', 'false.', 'at', 'this', 'point', ',', 'you', 'may', 'question', 'why', 'the', 'null', 'hypothesis', 'is', 'ever', 'a', 'useful', 'construct.', 'for', 'a', 'wide', 'range', 'of', 'tasks', ',', 'although', 'h0', 'is', 'false', ',', 'there', 'is', 'only', 'enough', 'evidence', 'to', 'establish', 'the', 'fact', 'if', 'there', 'is', 'a', 'strong', 'relation', 'between', 'the', 'two', 'phenomena', '.'], ['thus', ',', 'given', 'evidence', 'from', '1,000', 'shopping', 'trips', ',', 'it', 'is', 'un-', 'likely', 'we', 'shall', 'be', 'able', 'to', 'reject', 'h0', 'concerning', 'cat', 'food', 'and', 'shoe-polish', ',', 'whereas', 'we', 'shall', 'be', 'able', 'to', 'reject', 'it', 'concerning', 'strawberry-buying', 'and', 'cream-buying', '.'], ['given', 'further', 'evidence', ',', 'perhaps', 'from', '1,000,000', 'shopping', '266', 'a', '.'], ['kilgarriff', 'trips', ',', 'we', 'shall', 'also', 'be', 'able', 'to', 'reject', 'the', 'null', 'hypothesis', 'regarding', 'nappy2-', 'buying', 'and', 'beer-sixpack-buying.', '(', 'the', 'correlation', ',', 'the', 'most', 'newsworthy', 'product', 'of', 'large-scale', 'data', 'mining', 'by', 'supermarkets', ',', 'was', 'widely', 'reported', 'in', 'the', 'british', 'media.', ')', 'but', 'still', 'not', 'for', 'catf', 'ood', 'and', 'shoe-polish', '.'], ['but', ',', 'given', '1,000,000,000', 'events', ',', 'we', 'shall', 'in', 'all', 'likelihood', 'also', 'be', 'able', 'to', 'reject', 'it', 'for', 'cat', 'food', 'and', 'shoe-polish.', 'whether', 'or', 'not', 'we', 'can', 'reject', 'the', 'null', 'hypothesis', '(', 'with', 'eg.', '95', '%', 'confi-', 'dence', ')', 'is', 'a', 'function', 'of', 'sample', 'size', 'and', 'level', 'of', 'correlation', '.'], ['where', 'sample', 'size', 'is', 'held', 'constant', '(', 'and', 'is', 'not', 'enormous', ')', ',', 'whether', 'or', 'not', 'we', 'can', 'reject', 'h0', 'can', 'be', 'seen', 'as', 'a', 'way', 'of', 'providing', 'statistical', 'support', 'for', 'distinguish-', 'ing', 'the', 'arbitrary', 'and', 'the', 'motivated', '.'], ['this', 'is', 'a', 'role', 'that', 'hypothesis', 'testing', 'plays', 'across', 'the', 'social', 'sciences', '.'], ['however', 'where', 'the', 'sample', 'size', 'varies', 'by', 'an', 'order', 'of', 'magnitude', ',', 'or', 'where', 'it', 'is', 'enormous', ',', 'it', 'is', 'wrong', 'to', 'identify', 'the', 'accept-h0/reject-h0', 'distinction', 'with', 'the', 'arbitrary/motivated', 'one.', 'the', 'uneasy', 'relationship', 'between', 'hypothesis-testing', ',', 'and', 'quantity', 'of', 'data', ',', 'is', 'familiar', 'to', 'statisticians', 'though', 'frequently', 'overlooked', 'or', 'mis-', 'understood', 'by', 'users', 'of', 'statistics', '(', 'carver', '1993', ',', 'stubbs', '1995', ',', 'brandstätter', '1999', ')', '.'], ['one', 'statistics', 'textbook', 'warns', 'thus', ':', 'none', 'of', 'the', 'null', 'hypotheses', 'we', 'have', 'considered', 'with', 'respect', 'to', 'good-', 'ness', 'of', 'fit', 'can', 'be', 'exactly', 'true', ',', 'so', 'if', 'we', 'increase', 'the', 'sample', 'size', '(', 'and', 'hence', 'the', 'value', 'of', 'χ2', ')', 'we', 'would', 'ultimately', 'reach', 'the', 'point', 'when', 'all', 'null', 'hypotheses', 'would', 'be', 'rejected', '.'], ['all', 'that', 'the', 'χ2', 'test', 'can', 'tell', 'us', ',', 'then', ',', 'is', 'that', 'the', 'sample', 'size', 'is', 'too', 'small', 'to', 'reject', 'the', 'null', 'hypothesis', '!', '(', 'owen', 'and', 'jones', ',', '1977', ',', 'p', '359', ')', '.', 'the', 'issue', 'is', 'particularly', 'salient', 'for', 'empirical', 'linguistics', 'because', ',', 'firstly', ',', 'we', 'have', 'access', 'to', 'extremely', 'large', 'sample', 'sizes', ',', 'and', 'secondly', ',', 'the', 'distri-', 'bution', 'of', 'many', 'language', 'phenomena', 'is', 'zipfian', '.'], ['the', 'has', '6,000,000', 'oc-', 'currences', 'in', 'the', 'bnc', 'whereas', 'cat', 'food', '(', 'spelled', 'as', 'one', 'word', 'or', 'two', ')', 'has', '66', '.'], ['for', 'a', 'vast', 'number', 'of', 'third', 'phenomena', 'x', ',', 'the', 'null', 'hypothesis', 'that', 'the', 'and', 'x', 'are', 'uncorrelated', 'will', 'be', 'rejected', ',', 'whereas', 'the', 'null', 'hypothesis', 'that', 'cat', 'food', 'and', 'x', 'are', 'uncorrelated', 'will', 'not', '.'], ['it', 'would', 'be', 'wrong', 'to', 'draw', 'inferences', 'about', 'what', 'was', 'arbitrary', ',', 'what', 'motivated.', '3', '.'], ['objections', 'to', 'maximum', 'likelihood', 'estimates', '(', 'mles', ')', 'church', 'and', 'hanks', '(', '1990', ')', 'inaugurated', 'the', 'research', 'area', 'of', 'lexical', 'statis-', 'tics', 'with', 'their', 'presentation', 'of', 'mutual', 'information', '(', 'i', ')', ',', 'a', 'measure', 'of', 'how', 'closely', 'associated', 'two', 'phenomena', 'are', '.'], ['it', 'can', 'be', 'applied', 'to', 'finding', 'words', 'which', 'occur', 'together', 'to', 'a', 'noteworthy', 'degree', ',', 'or', 'to', 'finding', 'words', 'which', 'are', 'particularly', 'associated', 'with', 'one', 'corpus', 'as', 'against', 'another', ',', 'or', 'for', 'various', 'other', 'purposes.3', 'they', 'define', 'the', 'mutual', 'information', 'between', 'two', 'words', 'x', 'and', 'y', 'as', 'language', 'is', 'never', ',', 'ever', ',', 'ever', ',', 'random', '267', 'i', '(', 'x', ';', 'y', ')', '⫽', 'log', '2', '冉', 'p', '(', 'xandy', ')', 'p', '(', 'x', ')', '·', 'p(', 'y', ')', '冊', 'and', 'then', 'estimate', 'probabilities', 'directly', 'from', 'frequencies', ',', 'that', 'is', 'using', 'the', '‘maximum', 'likelihood', 'estimate', '’', '(', 'mle', ')', 'of', 'f', '(', 'x', ')', '/', 'n', 'for', 'p', '(', 'x', ')', ',', 'f', '(', 'y', ')', '/', 'n', 'for', 'p', '(', 'y', ')', ',', 'f', '(', 'x-and-y', ')', '/', 'n', 'for', 'p', '(', 'x-and-y', ')', ',', 'thereby', 'giving', 'i', '(', 'x', ';', 'y', ')', '⫽', 'log', '2', '冉', 'n', '·', 'f', '(', 'x', '⫺', 'and', '⫺', 'y', ')', 'f', '(', 'x', ')', '·', 'f', '(', 'y', ')', '冊', 'dunning', '(', '1993', ')', 'presents', 'a', 'critique', 'of', 'the', 'use', 'of', 'mutual', 'information', 'in', 'empirical', 'linguistics', '.'], ['his', 'objection', 'has', 'been', 'confused', 'with', 'the', 'critique', 'of', 'hypothesis-testing', 'i', 'make', 'here', 'so', 'i', 'mention', 'his', 'work', 'in', 'order', 'to', 'clarify', 'that', 'the', 'two', 'objections', ',', 'while', 'both', 'valid', ',', 'are', 'different', 'in', 'nature', 'and', 'independent.', 'dunning', 'demonstrates', 'how', 'mles', 'fare', 'poorly', 'when', 'estimating', 'the', 'probabilities', 'of', 'rare', 'events', '.'], ['the', 'problem', 'is', 'essentially', 'this', ':', 'if', 'a', 'word', '(', 'or', 'bigram', ',', 'or', 'trigram', ',', 'or', 'character-sequence', 'etc.', ')', 'occurs', 'just', 'once', 'or', 'twice', 'in', 'a', 'corpus', 'of', 'n', 'words', '(', 'bigrams', ',', 'etc.', ')', ',', 'then', 'the', 'simplest', 'way', 'to', 'estimate', 'the', 'probability', 'is', 'the', 'nile', ',', 'which', 'gives', '1/n', 'or', '2/n', '.'], ['however', 'this', 'does', 'not', 'factor', 'in', 'the', 'arbitrariness', 'of', 'the', 'word', 'occurring', 'at', 'all', 'in', 'the', 'corpus', ':', 'in', 'a', 'corpus', 'ten', 'times', 'the', 'size', ',', 'there', 'would', 'be', 'roughly', 'ten', 'times', 'the', 'number', 'of', 'singletons', 'and', 'doubletons', 'in', 'the', 'corpus', ',', 'most', 'of', 'which', 'would', 'not', 'have', 'occurred', 'at', 'all', 'in', 'the', 'original', 'corpus', '.'], ['thus', 'some', 'of', 'the', 'prob-', 'ability', 'mass', 'contributing', 'to', 'the', '1/n', 'or', '2/n', 'mles', 'should', 'have', 'been', 'put', 'aside', 'for', 'the', 'words', '(', 'bigrams', 'etc.', ')', 'which', 'did', 'not', 'occur', 'at', 'all', 'in', 'this', 'particular', 'corpus', '.'], ['viewed', 'another', 'way', ',', 'the', '1/n', 'and', '2/n', 'should', 'be', 'dis-', 'counted', 'to', 'allow', 'for', 'the', 'fact', 'that', 'one', 'or', 'two', 'occurrences', 'are', 'very', 'low', 'bases', 'of', 'evidence', 'on', 'which', 'to', 'assert', 'probabilities.', 'there', 'are', 'various', 'ways', 'in', 'which', 'the', 'discounting', 'can', 'be', 'done', ',', 'for', 'example', 'the', 'good-turing', 'method', '(', 'good', '1953', ')', ',', 'usefully', 'applied', 'to', 'em-', 'pirical', 'linguistics', 'in', 'gale', 'and', 'sampson', '(', '1995', ')', ',', 'bod', '(', '1995', ')', '.'], ['dunning', 'presents', 'and', 'advocates', 'the', 'use', 'of', 'the', 'log-likelihood', 'statistic', ',', 'which', ',', 'like', 'the', 'χ2', 'statistic', ',', 'is', 'χ2-distributed,4', 'but', 'more', 'accurately', 'estimates', 'probabil-', 'ities', 'where', 'counts', 'are', 'low', '.'], ['the', 'log-likelihood', 'statistic', 'still', 'only', 'estimates', 'probabilities', ':', 'since', 'dunning', '’', 's', 'work', ',', 'pedersen', '(', '1996', ')', 'has', 'shown', 'how', 'fisher', '’', 's', 'exact', 'method', 'can', 'be', 'applied', 'to', 'the', 'problem', ',', 'to', 'identify', 'the', 'exact', 'probability', 'of', 'a', 'word', '(', 'bigram', 'etc.', ')', 'rather', 'than', 'estimating', 'it', 'at', 'all.', 'thus', 'dunning', '’', 's', 'objection', 'to', 'mutual', 'information', 'is', 'that', 'it', 'fails', 'to', 'accurately', 'represent', 'probabilities', 'when', 'counts', 'are', 'low', '(', 'where', '‘low', '’', 'is', 'generally', 'taken', 'as', 'less', 'than', 'five', ')', '.'], ['if', 'the', 'probabilities', 'can', 'be', 'accurately', 'represented', ',', 'dunning', '’', 's', 'anxieties', 'will', 'be', 'set', 'at', 'ease.', '268', 'a', '.'], ['kilgarriff', 'the', 'critique', 'in', 'this', 'paper', 'does', 'not', 'concern', 'whether', 'probabilities', 'are', 'accurately', 'calculated', '.'], ['rather', ',', 'the', 'objection', 'is', 'that', 'the', 'probability', 'model', ',', 'with', 'its', 'assumptions', 'of', 'randomness', ',', 'is', 'inappropriate', ',', 'particularly', 'where', 'counts', 'are', 'high', '(', 'eg', ',', 'thousands', 'or', 'more', ')', '.', 'where', 'the', 'task', 'is', 'to', 'determine', 'whether', 'there', 'is', 'an', 'interesting', 'associa-', 'tion', 'between', 'two', 'rare', 'events', ',', 'dunning', '’', 's', 'concern', 'must', 'be', 'heeded', '.'], ['where', 'it', 'is', 'to', 'determine', 'whether', 'there', 'is', 'an', 'interesting', 'association', 'between', 'high-frequency', 'events', ',', 'the', 'concerns', 'of', 'this', 'paper', 'must', 'be.', '4', '.'], ['experiment', 'given', 'enough', 'data', ',', 'h0', 'is', 'almost', 'always', 'rejected', 'however', 'arbitrary', 'the', 'data', ',', 'as', 'the', 'author', 'discovered', 'when', 'grappling', 'with', 'the', 'following', 'data.', 'two', 'corpora', 'were', 'set', 'up', 'to', 'be', 'indisputably', 'of', 'the', 'same', 'language', 'type', ',', 'with', 'only', 'arbitrary', 'differences', 'between', 'them', ':', 'each', 'was', 'a', 'random', 'subset', 'of', 'the', 'written', 'part', 'of', 'the', 'british', 'national', 'corpus', '(', 'bnc', ')', '.', 'the', 'sampling', 'was', 'as', 'follows', ':', 'all', 'texts', 'shorter', 'than', '20,000', 'words', 'were', 'excluded', '.'], ['this', 'left', '820', 'texts', '.'], ['half', 'the', 'texts', 'were', 'then', 'randomly', 'assigned', 'to', 'each', 'of', 'two', 'corpora.', 'the', 'null', 'hypotheses', 'were', '(', '1', ')', 'that', 'the', 'two', 'subcorpora', ',', 'viewed', 'as', 'col-', 'lections', 'of', 'words', 'rather', 'than', 'documents', ',', 'were', 'random', 'samples', 'drawn', 'from', 'the', 'same', 'population', ';', 'and', 'consequently', ',', '(', '2', ')', 'that', 'the', 'deviation', 'in', 'frequency', 'of', 'occurrence', 'for', 'each', 'individual', 'word', 'between', 'the', 'two', 'sub-', 'corpora', 'was', 'explicable', 'as', 'random', 'fluctuation', '.'], ['the', 'ho', 'were', 'tested', 'using', 'the', 'χ2-test', ':', 'is', 'χ2', 'σ(', '&#124;', 'o', '⫺', 'e', '&#124;', '⫺', '0.5', ')', '2', '/', 'e', 'greater', 'than', 'the', 'critical', 'value', '?'], ['the', 'sum', 'is', 'over', 'the', 'four', 'cells', 'of', 'the', 'contingency', 'table', 'corpus', '1', 'corpus', '2', 'word', 'w', 'a', 'b', 'not', 'word', 'w', 'c', 'd', 'if', 'we', 'randomly', 'assign', 'words', '(', 'as', 'opposed', 'to', 'documents', ')', 'to', 'the', 'one', 'corpus', 'or', 'the', 'other', ',', 'then', 'we', 'have', 'a', 'straightforward', 'random', 'distribution', ',', 'with', 'the', 'value', 'of', 'the', 'χ2-statistic', 'equal', 'to', 'or', 'greater', 'than', 'the', '99.5', '%', 'confidence', 'threshold', 'of', '7.88', 'for', 'just', '0.5', '%', 'of', 'words', '.'], ['the', 'average', 'value', 'of', 'the', 'error', 'term', ',', 'language', 'is', 'never', ',', 'ever', ',', 'ever', ',', 'random', '269', '(', '&#124;', 'o', '⫺', 'e', '&#124;', '⫺', '0.5', ')', '2', '/', 'e', 'is', 'then', '0.5.5', 'the', 'hypothesis', 'can', ',', 'therefore', ',', 'be', 'couched', 'as', ':', 'are', 'the', 'error', 'terms', 'systematically', 'greater', 'than', '0.5', '?'], ['if', 'they', 'are', ',', 'we', 'should', 'be', 'wary', 'of', 'attributing', 'high', 'error', 'terms', 'to', 'significant', 'differences', 'between', 'text', 'types', ',', 'since', 'we', 'also', 'obtain', 'many', 'high', 'error', 'terms', 'where', 'there', 'are', 'no', 'significant', 'differences', 'between', 'text', 'types.', 'frequency', 'lists', 'for', 'word-pos', 'pairs', 'for', 'each', 'subcorpus', 'were', 'gener-', 'ated', '.'], ['for', 'each', 'word', 'occurring', 'in', 'either', 'subcorpus', ',', 'the', 'error', 'term', 'which', 'would', 'have', 'contributed', 'to', 'a', 'χ2', 'calculation', 'was', 'determined', '.'], ['as', 'table', '4', 'shows', ',', 'average', 'values', 'for', 'the', 'error', 'term', 'are', 'far', 'greater', 'than', '0.5', ',', 'and', 'tend', 'to', 'increase', 'as', 'word', 'frequency', 'increases.', 'as', 'the', 'averages', 'indicate', ',', 'the', 'error', 'term', 'is', 'very', 'often', 'greater', 'than', '0.5', '*', '7.88', '⫽', '3.94', ',', 'the', 'relevant', 'critical', 'value', 'of', 'the', 'chi-square', 'statistic', '.'], ['for', 'very', 'many', 'words', ',', 'including', 'most', 'common', 'words', ',', 'the', 'null', 'hypothesis', 'is', 'resoundingly', 'defeated', '(', 'as', 'is', 'the', 'null', 'hypthesis', 'regarding', 'the', 'two', 'subc-', 'orpora', 'as', 'wholes', ')', '.', 'there', 'is', 'no', 'a', 'priori', 'reason', 'to', 'expect', 'words', 'to', 'behave', 'as', 'if', 'they', 'had', 'been', 'selected', 'at', 'random', ',', 'and', 'indeed', 'they', 'do', 'not', '.'], ['it', 'is', 'in', 'the', 'nature', 'of', 'table', '1', '.'], ['comparing', 'two', 'same-genre', 'corpora', 'using', 'χ2', 'class', 'first', 'item', 'in', 'class', 'mean', 'error', 'term', '(', 'words', 'in', 'freq.', 'order', ')', 'for', 'items', 'in', 'class', 'word', 'pos', 'first', '10', 'items', 'the', 'det', '18.76', 'next', '10', 'items', 'for', 'prp', '17.45', 'next', '20', 'items', 'not', 'xx', '14.39', 'next', '40', 'items', 'have', 'vhb', '10.71', 'next', '80', 'items', 'also', 'avo', '7.03', 'next', '160', 'items', 'know', 'vvi', '6.40', 'next', '320', 'items', 'six', 'crd', '5.30', 'next', '640', 'items', 'finally', 'av0', '6.71', 'next', '1280', 'items', 'plants', 'nn2', '6.05', 'next', '2560', 'items', 'pocket', 'nn1', '5.82', 'next', '5120', 'items', 'represent', 'vvb', '4.53', 'next', '10240', 'items', 'peking', 'np0', '3.07', 'next', '20480', 'items', 'fondly', 'av0', '1.87', 'next', '40960', 'items', 'chandelier', 'nn1', '1.15', 'table', 'note', '.'], ['mean', 'error', 'term', 'is', 'far', 'greater', 'than', '0.5', ',', 'and', 'increases', 'with', 'frequency.', 'pos', 'tags', 'are', 'drawn', 'from', 'the', 'claws-5', 'tagset', 'as', 'used', 'in', 'the', 'bnc', '(', 'see', 'http', ':', '/', 'info.ox.', 'ac.uk/bnc', ')', '270', 'a', '.'], ['kilgarriff', 'language', 'that', 'any', 'two', 'collections', 'of', 'texts', ',', 'covering', 'a', 'wide', 'range', 'of', 'registers', '(', 'and', 'comprising', ',', 'say', ',', 'less', 'than', 'a', 'thousand', 'samples', 'of', 'over', 'a', 'thousand', 'words', 'each', ')', 'will', 'show', 'such', 'differences', '.'], ['while', 'it', 'might', 'seem', 'plausible', 'that', 'oddities', 'would', 'in', 'some', 'way', 'balance', 'out', 'to', 'give', 'a', 'popula-', 'tion', 'that', 'was', 'indistinguishable', 'from', 'one', 'where', 'the', 'individual', 'words', '(', 'as', 'opposed', 'to', 'the', 'texts', ')', 'had', 'been', 'randomly', 'selected', ',', 'this', 'turns', 'out', 'not', 'to', 'be', 'the', 'case.', 'the', 'key', 'word', 'in', 'the', 'last', 'paragraph', 'is', '‘indistinguishable', '’', '.'], ['in', 'hypothesis', 'testing', ',', 'the', 'objective', 'is', 'generally', 'to', 'see', 'if', 'the', 'population', 'can', 'be', 'distin-', 'guished', 'from', 'one', 'that', 'has', 'been', 'randomly', 'generated', '⫺', 'or', ',', 'in', 'our', 'case', ',', 'to', 'see', 'if', 'the', 'two', 'populations', 'are', 'distinguishable', 'from', 'two', 'populations', 'which', 'have', 'been', 'randomly', 'generated', 'on', 'the', 'basis', 'of', 'the', 'frequencies', 'in', 'the', 'joint', 'corpus', '.'], ['since', 'words', 'in', 'a', 'text', 'are', 'not', 'random', ',', 'we', 'know', 'that', 'our', 'corpora', 'are', 'not', 'randomly', 'generated', ',', 'and', 'the', 'hypothesis', 'test', 'con-', 'firms', 'the', 'fact.', '5', '.'], ['re-analysis', 'of', 'previous', 'work', '5.1', '.'], ['brown', 'and', 'lob', 'hofland', 'and', 'johansson', '(', '1982', ')', 'wanted', 'to', 'find', 'words', 'which', 'were', 'signifi-', 'cantly', 'different', 'in', 'their', 'frequencies', 'between', 'british', 'and', 'american', 'eng-', 'lish', ',', 'as', 'represented', 'in', 'the', 'brown', 'corpus', 'for', 'american', 'english', 'and', 'lob', 'corpus', 'for', 'british', '.'], ['for', 'each', 'word', ',', 'they', 'tested', 'the', 'null', 'hypothesis', 'that', 'the', 'difference', 'in', 'frequency', 'between', 'the', 'two', 'corpora', 'could', 'be', 'explained', 'as', 'random', 'variation', ',', 'with', 'the', 'samples', 'being', 'random', 'samples', 'from', 'the', 'same', 'source', ',', 'and', 'in', 'their', 'frequency', 'lists', ',', 'they', 'mark', 'words', 'where', 'the', 'null', 'hypothesis', 'was', 'defeated', '(', 'at', 'a', '95', ',', '99', 'or', '99.9', '%', 'confidence', 'level', ')', '.', 'looking', 'at', 'these', 'lists', 'suggests', 'that', 'virtually', 'all', 'common', 'words', 'are', 'markedly', 'different', 'in', 'their', 'levels', 'of', 'use', 'between', 'the', 'us', 'and', 'the', 'uk', ':', 'they', 'are', 'all', 'marked', 'as', 'such', '.'], ['by', 'contrast', ',', 'most', 'of', 'the', 'rarer', 'marked', 'words', 'are', 'words', 'we', 'know', 'to', 'be', 'american', 'or', 'british', ',', 'or', 'to', 'refer', 'to', 'items', 'that', 'are', 'more', 'common', 'or', 'more', 'salient', 'in', 'the', 'us', 'or', 'the', 'uk.', 'as', 'the', 'argument', 'of', 'the', 'previous', 'section', 'explains', ',', 'most', 'of', 'the', 'marked', 'high-frequency', 'words', 'are', 'marked', 'simply', 'as', 'a', 'consequence', 'of', 'the', 'essen-', 'tially', 'non-random', 'nature', 'of', 'language', '.'], ['it', 'would', 'not', 'be', 'surprising', 'for', 'a', 'high-frequency', 'word', 'marked', 'as', 'british', 'english', 'in', 'these', 'lists', 'to', 'be', 'marked', 'as', 'american', 'english', 'in', 'a', 'repeat', 'of', 'the', 'experiment', 'using', 'new', 'data.', 'similar', 'strategies', 'are', 'used', 'by', ',', 'and', 'a', 'similar', 'critique', 'is', 'applicable', 'to', ',', 'leech', 'and', 'fallon', '(', '1992', ')', '(', 'again', ',', 'for', 'comparing', 'lob', 'and', 'brown', ')', ',', 'ray-', 'language', 'is', 'never', ',', 'ever', ',', 'ever', ',', 'random', '271', 'son', ',', 'leech', ',', 'and', 'hodges', '(', '1997', ')', 'for', 'comparing', 'the', 'conversation', 'of', 'dif-', 'ferent', 'social', 'groups', ',', 'and', 'rayson', 'and', 'garside', '(', '2000', ')', 'for', 'contrasting', 'the', 'language', 'of', 'a', 'specialist', 'genre', 'with', '‘general', 'language', '’', ',', 'as', 'represented', 'by', 'the', 'british', 'national', 'corpus.', '5.2', 'subcategorization', 'frame', '(', 'scf', ')', 'learning', 'hypothesis-testing', 'has', 'been', 'used', 'in', 'a', 'number', 'of', 'papers', 'concerning', 'the', 'automatic', 'acquisition', 'of', 'subcategorization', 'frames', '(', 'scfs', ')', 'for', 'verbs', 'from', 'corpora', '.'], ['the', 'problem', 'is', 'this', '.'], ['dictionaries', ',', 'even', 'where', 'they', 'do', 'present', 'explicit', 'and', 'accurate', 'scfs', 'for', 'verbs', ',', 'are', 'not', 'complete', ':', 'they', 'do', 'not', 'pre-', 'sent', 'all', 'the', 'frames', 'for', 'each', 'verb', '.'], ['this', 'gives', 'rise', 'to', 'many', 'parsing', 'errors.', 'researchers', 'including', 'brent', '(', '1993', ')', ',', 'briscoe', 'and', 'carroll', '(', '1997', ')', 'and', 'kor-', 'honen', '(', '2000', ')', 'have', 'developed', 'methods', 'for', 'scf', 'acquisition', '.'], ['however', ',', 'their', 'methods', 'are', 'inevitably', 'noisy', ',', 'suffering', ',', 'for', 'example', ',', 'from', 'just', 'those', 'parser', 'errors', 'that', 'the', 'whole', 'process', 'is', 'designed', 'to', 'address', ',', 'and', 'they', 'do', 'not', 'wish', 'to', 'accept', 'any', 'scf', 'for', 'which', 'there', 'is', 'any', 'evidence', 'as', 'a', 'true', 'scf', 'for', 'the', 'verb', '.'], ['they', 'wish', 'to', 'filter', 'out', 'those', 'scfs', 'where', 'the', 'evidence', 'is', 'not', 'strong', 'enough', '.'], ['brent', 'and', 'briscoe', 'and', 'carroll', 'used', 'hypothesis', 'testing', 'to', 'this', 'end', '.'], ['however', ',', 'problems', 'are', 'noted', ':', 'further', 'evaluation', 'of', 'the', 'results', '...', 'reveals', 'that', 'the', 'filtering', 'phase', 'is', 'the', 'weak', 'link', 'in', 'the', 'system', '…', 'the', 'performance', 'of', 'the', 'filter', 'for', 'classes', 'with', 'less', 'than', '10', 'exemplars', 'is', 'around', 'chance', ',', 'and', 'a', 'simple', 'heuristic', 'of', 'accepting', 'all', 'classes', 'with', 'more', 'then', '10', 'exemplars', 'would', 'have', 'pro-', 'duced', 'broadly', 'similar', 'results', 'for', 'these', 'verbs', '(', 'briscoe', 'and', 'carroll', '1997', ':', '360⫺36', ')', '.', 'korhonen', ',', 'correll', ',', 'and', 'mccarthy', '(', '2000', ')', 'explore', 'the', 'issue', 'in', 'detail.', 'using', 'briscoe', 'and', 'carroll', '’', 's', 'scf', 'acquisition', 'system', ',', 'they', 'explore', 'the', 'impact', 'of', 'four', 'different', 'strategies', 'for', 'filtering', 'out', 'noise', ':', 'baseline', 'no', 'filter', 'bht', 'binomial', 'hypothesis', 'test', ':', 'reject', 'the', 'scf', 'if', 'ho', 'is', 'not', 'defeated6', 'llr', 'hypothesis', 'test', 'using', 'log-likelihood', 'ratio', ':', 'reject', 'the', 'scf', 'if', 'ho', 'is', 'not', 'defeated', 'mle', 'threshold', 'based', 'on', 'the', 'relative', 'frequency', '(', 'which', 'is', 'also', 'the', 'maximum', 'likelihood', 'estimate', '(', 'mle', ')', 'of', 'the', 'probability', ')', 'of', 'the', 'verb', 'occurring', 'in', 'the', 'scf', 'given', 'the', 'verb', ',', 'with', 'the', 'thresh-', 'old', 'determined', 'empirically', '272', 'a', '.'], ['kilgarriff', 'they', 'observe', 'mle', 'thresholding', 'produced', 'better', 'results', 'than', 'the', 'two', 'statistical', 'tests', 'used', '.'], ['precision', 'improved', 'considerably', ',', 'showing', 'that', 'the', 'classes', 'occur-', 'ring', 'in', 'the', 'data', 'with', 'the', 'highest', 'frequency', 'are', 'often', 'correct', '…', 'mle', 'is', 'not', 'adept', 'at', 'finding', 'low', 'frequency', 'scfs', '…', '(', 'korhonen', ',', 'correll', ',', 'and', 'mccarthy', '2000', ':', '202', ')', 'this', 'concurs', 'with', 'the', 'theoretical', 'argument', 'above', '.'], ['hypothesis', 'tests', 'are', 'inappropriate', 'for', 'the', 'task', ',', 'because', 'the', 'relations', 'between', 'verb', 'and', 'scf', 'will', 'never', 'be', 'random', 'and', 'the', 'hypothesis', 'test', 'will', 'merely', 'reject', 'the', 'null', 'hypothesis', 'wherever', 'there', 'is', 'enough', 'data', ',', 'in', 'a', 'manner', 'not', 'closely', 'corre-', 'lated', 'with', 'whether', 'the', 'scf-verb', 'link', 'is', 'motivated', '.'], ['where', 'there', 'is', 'enough', 'data', ',', 'then', 'the', 'relationship', 'between', 'verb', 'and', 'scf', 'is', 'easy', 'to', 'see', 'so', 'even', 'a', 'simple', 'threshold', 'method', 'will', 'identify', 'the', 'verb', '’', 's', 'scfs.', 'where', 'data', 'is', 'very', 'sparse', ',', 'no', 'method', 'works', 'well.', 'korhonen', '(', '2000', ')', 'extends', 'this', 'line', 'of', 'work', ',', 'exploring', 'thresholding', 'methods', 'where', 'a', 'more', 'accurate', 'estimate', 'of', 'the', 'probability', 'is', 'obtained', 'by', 'using', 'data', 'from', 'semantically', 'similar', 'but', 'higher', 'frequency', 'verbs', '.'], ['she', 'achieves', 'modest', 'improvements', 'over', 'the', 'baseline', 'which', 'uses', 'korhonen', ',', 'correll', 'and', 'mccarthy', '’', 's', 'mle', ',', 'particularly', 'when', 'combining', 'the', 'fre-', 'quencies', 'of', 'the', 'target', 'verb', 'and', 'its', 'semantic', 'neighbour', 'using', 'a', 'linear', 'method', 'based', 'on', 'the', 'quantity', 'of', 'evidence', 'available', 'for', 'each.', 'the', 'problem', 'is', 'not', 'one', 'of', 'distinguishing', 'random', 'and', 'non-random', 'relationships', ',', 'but', 'of', 'sparseness', 'of', 'data', '.'], ['where', 'the', 'data', 'is', 'not', 'sparse', ',', 'the', 'difference', 'between', 'arbitrary', 'and', 'motivated', 'connections', 'is', 'evident', 'in', 'greatly', 'differing', 'relative', 'frequencies', '.'], ['this', 'makes', 'the', 'moral', 'of', 'the', 'story', 'plain', '.'], ['data', 'is', 'abundant', '.'], ['a', 'modest-frequency', 'verb', 'like', 'devastate', 'occurs', '(', 'google', 'tells', 'us', ')', 'in', 'well', 'over', 'a', 'million', 'web', 'pages', '.'], ['with', 'just', '1', '%', 'of', 'them', ',', 'devastate', 'becomes', 'one', 'of', 'the', 'verbs', 'for', 'which', 'we', 'have', 'plenty', 'of', 'data', ',', 'and', 'crude', 'thresholding', 'methods', 'will', 'distinguish', 'associated', 'scfs', 'from', 'noise', '.'], ['it', 'is', 'possible', 'that', 'parsing', 'errors', 'are', 'systematic', 'and', 'thus', 'that', 'the', 'same', 'errors', 'occur', 'very', 'often', 'in', 'very', 'large', 'corpora', 'although', 'our', 'experi-', 'ence', 'from', 'looking', 'at', 'large', 'corpora', 'in', 'the', 'word', 'sketch', 'engine', '(', 'kilgarriff', 'et', 'al', '2004', ')', 'suggests', 'not', '.'], ['harvesting', 'the', 'web', '(', 'or', 'other', 'huge', 'corpora', ')', 'is', 'the', 'way', 'to', 'build', 'an', 'accurate', 'scf', 'lexicon.7', '6', '.'], ['conclusion', 'language', 'is', 'non-random', 'and', 'hence', ',', 'when', 'we', 'look', 'at', 'linguistic', 'phenom-', 'ena', 'in', 'corpora', ',', 'the', 'null', 'hypothesis', 'will', 'never', 'be', 'true', '.'], ['moreover', ',', 'where', 'there', 'is', 'enough', 'data', ',', 'we', 'shall', '(', 'almost', ')', 'always', 'be', 'able', 'to', 'establish', 'that', 'it', 'is', 'not', 'true', '.'], ['in', 'corpus', 'studies', ',', 'we', 'frequently', 'do', 'have', 'enough', 'data', ',', 'so', 'language', 'is', 'never', ',', 'ever', ',', 'ever', ',', 'random', '273', 'the', 'fact', 'that', 'a', 'relation', 'between', 'two', 'phenomena', 'is', 'demonstrably', 'non-', 'random', ',', 'does', 'not', 'support', 'the', 'inference', 'that', 'it', 'is', 'not', 'arbitrary', '.'], ['hypoth-', 'esis', 'testing', 'is', 'rarely', 'useful', 'for', 'distinguishing', 'associated', 'from', 'non-associ-', 'ated', 'pairs', 'of', 'phenomena', 'in', 'large', 'corpora', '.'], ['where', 'used', ',', 'it', 'has', 'often', 'led', 'to', 'unhelpful', 'or', 'misleading', 'results.', 'hypothesis', 'testing', 'has', 'been', 'used', 'to', 'reach', 'conclusions', ',', 'where', 'the', 'diffi-', 'culty', 'in', 'reaching', 'a', 'conclusion', 'is', 'caused', 'by', 'sparsity', 'of', 'data', '.'], ['but', 'language', 'data', ',', 'in', 'this', 'age', 'of', 'information', 'glut', ',', 'is', 'available', 'in', 'vast', 'quantities', '.'], ['a', 'better', 'strategy', 'will', 'generally', 'be', 'to', 'use', 'more', 'data', 'then', 'the', 'difference', 'between', 'the', 'motivated', 'and', 'the', 'arbitrary', 'will', 'be', 'evident', 'without', 'the', 'use', 'of', 'compromised', 'hypothesis', 'testing', '.'], ['as', 'lord', 'rutherford', 'put', 'it', ':', '“if', 'your', 'experiment', 'needs', 'statistics', ',', 'you', 'ought', 'to', 'have', 'done', 'a', 'better', 'experi-', 'ment.', '”', 'received', 'july', '2004', 'lexical', 'computing', 'ltd.', 'revisions', 'received', 'may', '2005', 'final', 'acceptance', 'may', '2005', 'notes', '*', 'this', 'work', 'was', 'supported', 'by', 'the', 'uk', 'epsrc', ',', 'under', 'grants', 'gr/k18931', '(', 'seal', ')', 'and', 'gr/m54971', '(', 'wasps', ')', '.', '1', '.'], ['in', 'this', 'paper', 'we', 'do', 'not', 'consider', 'the', 'distinction', 'between', 'the', 'predictable', 'and', 'the', '‘merely', '’', 'motivated.', '2', '.'], ['diapers', ',', 'in', 'american', 'english', '3', '.'], ['there', 'is', 'some', 'confusion', 'over', 'names', '.'], ['in', 'information', 'theory', ',', 'mutual', 'information', 'is', 'usually', 'defined', 'over', 'a', 'whole', 'population', 'of', 'words', ',', 'rather', 'than', 'being', 'specified', 'for', 'a', 'particular', 'word-pair', ',', 'as', 'here', ',', 'and', 'the', 'definition', 'incorporates', 'information', 'from', 'all', 'cells', 'of', 'the', 'contingency', 'table', '.'], ['church', 'and', 'hanks', 'only', 'use', 'a', 'subset', 'of', 'that', 'information', '.'], ['church-and-hanks', 'mutual', 'information', 'has', 'been', 'called', 'pointwise', 'mutual', 'information.', 'see', 'manning', 'and', 'schütze', '(', '1999', ':', '66', 'ff.', ')', 'for', 'a', 'fuller', 'discus-', 'sion', '.'], ['here', 'we', 'use', 'church', 'and', 'hanks', '’', 's', 'definition', 'and', 'name.', '4', '.'], ['this', 'sentence', 'will', 'be', 'confusing', 'to', 'non-mathematicians', '.'], ['the', 'χ2', 'statistic', 'is', 'a', 'statis-', 'tic', ',', 'that', 'is', ',', 'it', 'can', 'be', 'calculated', 'from', 'a', 'data', 'sample', 'using', 'actual', 'numbers', '.'], ['the', 'χ2', 'distribution', 'is', 'a', 'theoretical', 'construct', '.'], ['if', 'a', 'sufficiently', 'large', 'number', 'of', 'chi-square', 'statistics', 'are', 'calculated', ',', 'all', 'from', 'true', 'random', 'samples', 'of', 'the', 'same', 'population', ',', 'then', 'this', 'population', 'of', 'χ2', 'statistics', 'will', ',', 'provably', ',', 'fit', 'a', 'χ2', 'distribution', '.'], ['this', 'is', 'also', 'true', 'for', 'other', 'statistics', ':', 'that', 'is', ',', 'if', 'a', 'sufficiently', 'large', 'number', 'of', 'log-likelihood', 'statistics', 'are', 'calculated', ',', 'all', 'from', 'true', 'random', 'samples', 'of', 'the', 'same', 'population', ',', 'then', 'this', 'population', 'of', 'log-likelihood', 'statistics', 'will', ',', 'provably', ',', 'fit', 'a', 'χ2', 'distribution.', 'some', 'texts', 'call', 'the', 'statistic', 'χ2', 'rather', 'than', 'χ2', 'to', 'distinguish', 'it', 'more', 'clearly', 'from', 'the', 'distribution', ',', 'but', 'this', 'practice', 'is', 'in', 'the', 'minority', 'and', 'is', 'not', 'adopted', 'here.', '5', '.'], ['see', 'appendix', '6', '.'], ['the', 'model', 'used', 'was', 'a', 'sophisticated', 'one', 'incorporating', 'evidence', 'about', 'type', 'fre-', 'quencies', 'of', 'verbs', 'from', 'the', 'anlt', 'lexicon', ':', 'see', 'briscoe', 'and', 'carroll', '(', '1997', ')', 'or', 'kor-', 'honen', ',', 'correll', ',', 'and', 'mccarthy', '(', '2000', ')', 'for', 'details.', '7', '.'], ['see', 'kilgarriff', 'and', 'grefenstette', '(', '2003', ')', 'and', 'papers', 'therein', '.'], ['the', 'web', 'is', 'a', 'vast', 're-', 'source', 'for', 'many', 'languages', '.'], ['see', 'also', 'banko', 'and', 'brill', '(', '2001', ')', 'for', 'the', 'benefits', 'of', 'large', 'data', 'over', 'sophisticated', 'mathematics.', '274', 'a', '.'], ['kilgarriff', 'appendix', 'the', 'average', 'value', 'of', 'the', 'error', 'term', 'is', '0.5', '.'], ['we', 'explain', 'this', 'as', 'follows.', 'if', 'we', 'do', 'in', 'fact', 'have', 'a', 'random', 'distribution', ',', 'then', 'by', 'the', 'definition', 'of', 'the', 'χ2', 'distribution', ',', 'the', 'sum', 'of', 'the', 'cells', 'in', 'the', 'contingency', 'table', 'is', '1', ':', 'a⫹b⫹c⫹d⫽1', 'each', 'of', 'these', 'error', 'terms', 'is', 'calculated', 'as', '(', 'o', '⫺', 'e', '⫺', '0.5', ')', '2/e', 'in', 'our', 'situation', ',', 'there', 'are', 'very', 'large', 'datasets', 'and', 'the', 'phenomenon', 'of', 'interest', 'only', 'accounts', 'for', 'a', 'very', 'small', 'proportion', 'of', 'cases', '.'], ['the', 'fre-', 'quency', 'of', 'not', 'word', 'w', 'is', 'very', 'high', '.'], ['thus', 'the', 'expected', 'values', ',', 'e', ',', 'for', 'not', 'word', 'w', 'to', 'be', 'used', 'when', 'calculating', 'c', 'and', 'd', 'for', 'the', 'contingency', 'table', 'are', 'very', 'high', '.'], ['as', 'we', 'divide', 'by', 'very', 'large', 'e', ',', 'c', 'and', 'd', 'are', 'vanishingly', 'small', ',', 'so', 'a⫹b⫹c⫹d⫽1', 'reduces', 'to', 'a⫹b⫽1', 'since', 'we', 'have', 'set', 'the', 'situation', 'up', 'symmetrically', ',', 'a', 'and', 'b', 'are', 'the', 'same', 'size', ',', 'so', 'each', 'will', 'be', ',', 'on', 'average', ',', '0.5.', 'references', 'banko', ',', 'michele', 'and', 'eric', 'brill', '2001', 'scaling', 'to', 'very', 'very', 'large', 'corpora', 'for', 'natural', 'language', 'disambiguation.', 'proceedings', 'of', 'the', '39th', 'annual', 'meeting', 'of', 'the', 'association', 'for', 'computa-', 'tional', 'linguistics', 'and', 'the', '10th', 'conference', 'of', 'the', 'european', 'chapter', 'of', 'the', 'association', 'for', 'computational', 'linguistics.', 'bod', ',', 'rens', '1995', 'enriching', 'linguistics', 'with', 'statistics', ':', 'performance', 'models', 'of', 'natural', 'lan-', 'guage', '.'], ['ph.d.', 'dissertation', ',', 'university', 'of', 'amsterdam.', 'brandstätter', ',', 'e.', '1999', 'confidence', 'intervals', 'as', 'an', 'alternative', 'to', 'significance', 'testing', '.'], ['methods', 'of', 'psychological', 'research', 'outline', '4(', '2', ')', ',', '33⫺46.', 'brent', ',', 'michael', 'r.', '1993', 'from', 'grammar', 'to', 'lexicon', ':', 'unsupervised', 'learning', 'of', 'lexical', 'syntax', '.'], ['com-', 'putational', 'linguistics', '19(', '2', ')', ',', '243⫺262.', 'briscoe', ',', 'ted', 'and', 'john', 'carroll', '1997', 'automatic', 'extraction', 'of', 'subcategorization', 'from', 'corpora', '.'], ['proceedings', 'of', 'the', 'fifth', 'conference', 'on', 'applied', 'natural', 'language', 'processing', ',', '356⫺363.', 'language', 'is', 'never', ',', 'ever', ',', 'ever', ',', 'random', '275', 'carver', ',', 'r', '.'], ['p.', '1993', 'the', 'case', 'against', 'statistical', 'significance', 'testing', ',', 'revisited', '.'], ['journal', 'of', 'ex-', 'perimental', 'education', '61', ',', '287⫺292.', 'church', ',', 'kenneth', 'and', 'patrick', 'hanks', '1990', 'word', 'association', 'norms', ',', 'mutual', 'information', 'and', 'lexicography', '.'], ['compu-', 'tational', 'linguistics', '16(', '1', ')', ',', '22⫺29.', 'dunning', ',', 'ted', '1993', 'accurate', 'methods', 'for', 'the', 'statistics', 'of', 'surprise', 'and', 'coincidence', '.'], ['compu-', 'tational', 'linguistics', '19(', '1', ')', ',', '61⫺74.', 'gale', ',', 'william', 'and', 'geoffrey', 'sampson', '1995', 'good-turing', 'frequency', 'estimation', 'without', 'tears', '.'], ['journal', 'of', 'quantitative', 'linguistics', '2(', '3', ')', ',', 'good', ',', 'i', '.'], ['j.', '1953', 'the', 'population', 'frequencies', 'of', 'species', 'and', 'the', 'estimation', 'of', 'population', 'parameters', '.'], ['biometrika', '40', ',', '237⫺264.', 'grefenstette', ',', 'gregory', 'and', 'julien', 'nioche', '2000', 'estimation', 'of', 'english', 'and', 'non-english', 'language', 'use', 'on', 'the', 'www', '.'], ['in', 'proceedings', 'of', 'riao', '(', 'recherche', 'd', '’', 'informations', 'assiste´', 'e', 'par', 'ordinateur', ')', ',', '237⫺246.', 'hofland', ',', 'knud', 'and', 'stig', 'johanson', '(', 'eds.', ')', '1982', 'word', 'frequencies', 'in', 'british', 'and', 'american', 'english', '.'], ['bergen', ':', 'the', 'norwe-', 'gian', 'computing', 'centre', 'for', 'the', 'humanities.', 'korhonen', ',', 'anna', '2000', 'using', 'semantically', 'motivated', 'estimates', 'to', 'help', 'subcategorization', 'acquisition', '.'], ['proceedings', 'of', 'the', 'joint', 'conference', 'on', 'empirical', 'methods', 'in', 'nlp', 'and', 'very', 'large', 'corpora', ',', '216⫺223.', 'korhonen', ',', 'anna', ',', 'genevieve', 'gorrell', ',', 'and', 'diana', 'mccarthy', '2000', 'statistical', 'filtering', 'and', 'subcategorization', 'frame', 'acquisition', '.'], ['proceedings', 'of', 'the', 'joint', 'conference', 'on', 'empirical', 'methods', 'in', 'nlp', 'and', 'very', 'large', 'corpora', ',', '199⫺206.', 'ldoce', '1995', 'longman', 'dictionary', 'of', 'contemporary', 'english', ',', '3rd', 'edition', '.'], ['ed.', 'della', 'summers', '.'], ['harlow', ':', 'longman.', 'leech', ',', 'geoffrey', 'and', 'roger', 'fallon', '1992', 'computer', 'corpora', '—', 'what', 'do', 'they', 'tell', 'us', 'about', 'culture', '?'], ['icame', 'journal', '16', ',', '29⫺50.', 'manning', ',', 'christopher', 'and', 'hinrich', 'schütze', '1999', 'foundations', 'of', 'statistical', 'natural', 'language', 'processing', '.'], ['cambridge', ',', 'ma', ':', 'mit', 'press.', 'owen', ',', 'frank', 'and', 'ronald', 'jones', '1977', 'statistics', '.'], ['polytech', 'publishers.', 'pedersen', ',', 'ted', '1996', 'fishing', 'for', 'exactness', '.'], ['proceedings', 'of', 'the', 'conference', 'of', 'the', 'south-central', 'sas', 'users', 'group', ',', '188⫺200.', 'rayson', ',', 'paul', 'and', 'roger', 'garside', '2000', 'comparing', 'corpora', 'using', 'frequency', 'profiling', '.'], ['proceedings', 'of', 'the', 'work-', 'shop', 'on', 'comparing', 'corpora', ',', '38th', 'acl', ',', '1⫺6.', 'rayson', ',', 'paul', ',', 'geoffrey', 'leech', ',', 'and', 'mary', 'hodges', '1997', 'social', 'differentiation', 'in', 'the', 'use', 'of', 'english', 'vocabulary', ':', 'some', 'analysis', 'of', 'the', 'conversational', 'component', 'of', 'the', 'british', 'national', 'corpus', '.'], ['interna-', 'tional', 'journal', 'of', 'corpus', 'linguistics', '2(', '1', ')', ',', '133⫺152.', 'stubbs', ',', 'michael', '1995', 'collocations', 'and', 'semantic', 'profiles', ':', 'on', 'the', 'cause', 'of', 'the', 'trouble', 'with', 'quantitative', 'studies', '.'], ['functions', 'of', 'language', '2(', '1', ')', ',', '23⫺55.']]\n"
          ],
          "name": "stdout"
        }
      ]
    },
    {
      "cell_type": "code",
      "metadata": {
        "id": "-jKphWvHSHYj"
      },
      "source": [
        "from nltk.util import everygrams\n",
        "from nltk.lm.preprocessing import padded_everygram_pipeline\n",
        "n = 3\n",
        "train_data, padded_sents = padded_everygram_pipeline(n, tokenized_text)"
      ],
      "execution_count": 10,
      "outputs": []
    },
    {
      "cell_type": "code",
      "metadata": {
        "id": "7Db-0uxiSiLq"
      },
      "source": [
        ""
      ],
      "execution_count": 10,
      "outputs": []
    },
    {
      "cell_type": "code",
      "metadata": {
        "colab": {
          "base_uri": "https://localhost:8080/"
        },
        "id": "DdpOWwOoS_zC",
        "outputId": "9151b096-abc7-4190-d20a-06393ce1461d"
      },
      "source": [
        "from nltk.lm import MLE\n",
        "model = MLE(n) # Lets train a 3-grams model, previously we set n=3\n",
        "len(model.vocab)\n",
        "model.fit(train_data, padded_sents)\n",
        "print(model.vocab)"
      ],
      "execution_count": 11,
      "outputs": [
        {
          "output_type": "stream",
          "text": [
            "<Vocabulary with cutoff=1 unk_label='<UNK>' and 1429 items>\n"
          ],
          "name": "stdout"
        }
      ]
    },
    {
      "cell_type": "code",
      "metadata": {
        "colab": {
          "base_uri": "https://localhost:8080/"
        },
        "id": "o4ga56NTTTSR",
        "outputId": "fafa6e31-c576-47d9-b43c-4527076e96c9"
      },
      "source": [
        "len(model.vocab)"
      ],
      "execution_count": 12,
      "outputs": [
        {
          "output_type": "execute_result",
          "data": {
            "text/plain": [
              "1429"
            ]
          },
          "metadata": {
            "tags": []
          },
          "execution_count": 12
        }
      ]
    },
    {
      "cell_type": "code",
      "metadata": {
        "colab": {
          "base_uri": "https://localhost:8080/"
        },
        "id": "mblniihBTXXH",
        "outputId": "db1f0a64-da91-4b0c-af68-fdab33d0c06c"
      },
      "source": [
        "print(model.vocab.lookup(tokenized_text[3]))"
      ],
      "execution_count": 13,
      "outputs": [
        {
          "output_type": "stream",
          "text": [
            "('moreover', ',', 'where', 'there', 'is', 'enough', 'data', ',', 'we', 'shall', '(', 'almost', ')', 'always', 'be', 'able', 'to', 'establish', 'that', 'it', 'is', 'not', 'true', '.')\n"
          ],
          "name": "stdout"
        }
      ]
    },
    {
      "cell_type": "code",
      "metadata": {
        "colab": {
          "base_uri": "https://localhost:8080/"
        },
        "id": "Qi3aiR_rTsuT",
        "outputId": "dcac3800-3f5c-461b-c3f7-3c15927ef47a"
      },
      "source": [
        "model.counts['enough'] # i.e. Count('language')"
      ],
      "execution_count": 14,
      "outputs": [
        {
          "output_type": "execute_result",
          "data": {
            "text/plain": [
              "12"
            ]
          },
          "metadata": {
            "tags": []
          },
          "execution_count": 14
        }
      ]
    },
    {
      "cell_type": "code",
      "metadata": {
        "colab": {
          "base_uri": "https://localhost:8080/"
        },
        "id": "wUZAlSHYT9lA",
        "outputId": "a964e25f-f108-4d3c-9289-bcc39a21c1d9"
      },
      "source": [
        "model.counts[['language']]['is'] # i.e. Count('is'|'language')"
      ],
      "execution_count": 15,
      "outputs": [
        {
          "output_type": "execute_result",
          "data": {
            "text/plain": [
              "11"
            ]
          },
          "metadata": {
            "tags": []
          },
          "execution_count": 15
        }
      ]
    },
    {
      "cell_type": "code",
      "metadata": {
        "colab": {
          "base_uri": "https://localhost:8080/"
        },
        "id": "Ks247NsHT-Xj",
        "outputId": "a7e01740-f6b8-46a0-b5fb-4d7af23a354d"
      },
      "source": [
        "model.counts[['language', 'is']]['never'] # i.e. Count('never'|'language i"
      ],
      "execution_count": 16,
      "outputs": [
        {
          "output_type": "execute_result",
          "data": {
            "text/plain": [
              "7"
            ]
          },
          "metadata": {
            "tags": []
          },
          "execution_count": 16
        }
      ]
    },
    {
      "cell_type": "code",
      "metadata": {
        "colab": {
          "base_uri": "https://localhost:8080/"
        },
        "id": "mTZgvx6gUDFq",
        "outputId": "2e18e325-2ac5-421d-de5a-bb9ad179535a"
      },
      "source": [
        "model.score('language') # P('language')"
      ],
      "execution_count": 17,
      "outputs": [
        {
          "output_type": "execute_result",
          "data": {
            "text/plain": [
              "0.003916040100250626"
            ]
          },
          "metadata": {
            "tags": []
          },
          "execution_count": 17
        }
      ]
    },
    {
      "cell_type": "code",
      "metadata": {
        "colab": {
          "base_uri": "https://localhost:8080/"
        },
        "id": "llUglibBUJEA",
        "outputId": "6dbb4f3a-c535-449b-8370-f92dbe623b8c"
      },
      "source": [
        "model.score('is', 'there'.split())  # P('is'|'language')"
      ],
      "execution_count": 18,
      "outputs": [
        {
          "output_type": "execute_result",
          "data": {
            "text/plain": [
              "0.7619047619047619"
            ]
          },
          "metadata": {
            "tags": []
          },
          "execution_count": 18
        }
      ]
    },
    {
      "cell_type": "code",
      "metadata": {
        "colab": {
          "base_uri": "https://localhost:8080/"
        },
        "id": "v0Wq7-_9UJyb",
        "outputId": "e9295609-f945-46d4-cc93-7f2c716b4bcd"
      },
      "source": [
        "model.counts['there']  # P('never'|'language is')"
      ],
      "execution_count": 19,
      "outputs": [
        {
          "output_type": "execute_result",
          "data": {
            "text/plain": [
              "21"
            ]
          },
          "metadata": {
            "tags": []
          },
          "execution_count": 19
        }
      ]
    },
    {
      "cell_type": "code",
      "metadata": {
        "colab": {
          "base_uri": "https://localhost:8080/"
        },
        "id": "IvovXb98VOLu",
        "outputId": "c527bf8e-4c04-4350-d296-dcffb53a94aa"
      },
      "source": [
        "model.counts[['is','enough']]['data']"
      ],
      "execution_count": 20,
      "outputs": [
        {
          "output_type": "execute_result",
          "data": {
            "text/plain": [
              "5"
            ]
          },
          "metadata": {
            "tags": []
          },
          "execution_count": 20
        }
      ]
    },
    {
      "cell_type": "code",
      "metadata": {
        "colab": {
          "base_uri": "https://localhost:8080/"
        },
        "id": "MZX0tINUpTNm",
        "outputId": "6231bea9-cb41-4d7f-adeb-01ca07ced38a"
      },
      "source": [
        "model.score('data', 'there is enough'.split())"
      ],
      "execution_count": 21,
      "outputs": [
        {
          "output_type": "execute_result",
          "data": {
            "text/plain": [
              "0"
            ]
          },
          "metadata": {
            "tags": []
          },
          "execution_count": 21
        }
      ]
    },
    {
      "cell_type": "code",
      "metadata": {
        "colab": {
          "base_uri": "https://localhost:8080/"
        },
        "id": "IlyxvVn81Y4B",
        "outputId": "34834869-ae17-4949-f890-8e53402c2672"
      },
      "source": [
        "import pandas as pd\n",
        "\n",
        "df = pd.read_csv('/content/drive/MyDrive/IoT Proj/Maid-monitoring.csv')\n",
        "\n",
        "print(df.loc[0][2]) "
      ],
      "execution_count": 22,
      "outputs": [
        {
          "output_type": "stream",
          "text": [
            "Hallway\n"
          ],
          "name": "stdout"
        }
      ]
    },
    {
      "cell_type": "code",
      "metadata": {
        "colab": {
          "base_uri": "https://localhost:8080/"
        },
        "id": "XWMXq7bd2pHe",
        "outputId": "d9ed31b4-d1b1-49f2-c06c-612a305f5dda"
      },
      "source": [
        "final_data=[]\n",
        "day_data=[]\n",
        "for i in range (0,len(df.index)):  \n",
        "  if i==1:\n",
        "    day_data.append(df.loc[i][2])\n",
        "  \n",
        "  elif (i>1) and (df.loc[i][0]==df.loc[i-1][0]):\n",
        "    day_data.append(df.loc[i][2])\n",
        "  \n",
        "  else:\n",
        "    final_data.append(day_data)\n",
        "    day_data.clear()\n",
        "    day_data.append(df.loc[i][2])\n",
        "print(final_data)\n"
      ],
      "execution_count": 54,
      "outputs": [
        {
          "output_type": "stream",
          "text": [
            "[['Hallway', 'Utility', 'Kitchen', 'Utility', 'Kitchen', 'Utility', 'Hallway', 'Living', 'Kitchen', 'Bedroom', 'Utility', 'Hallway', 'Living', 'Kitchen', 'Bedroom', 'Utility', 'Kitchen', 'Utility'], ['Hallway', 'Utility', 'Kitchen', 'Utility', 'Kitchen', 'Utility', 'Hallway', 'Living', 'Kitchen', 'Bedroom', 'Utility', 'Hallway', 'Living', 'Kitchen', 'Bedroom', 'Utility', 'Kitchen', 'Utility'], ['Hallway', 'Utility', 'Kitchen', 'Utility', 'Kitchen', 'Utility', 'Hallway', 'Living', 'Kitchen', 'Bedroom', 'Utility', 'Hallway', 'Living', 'Kitchen', 'Bedroom', 'Utility', 'Kitchen', 'Utility']]\n"
          ],
          "name": "stdout"
        }
      ]
    },
    {
      "cell_type": "code",
      "metadata": {
        "id": "sKE7FBRL9bL9"
      },
      "source": [
        "\n",
        "import nltk\n",
        "from nltk.corpus import stopwords\n",
        "# add appropriate words that will be ignored in the analysis\n",
        "\n",
        "import matplotlib.pyplot as plt"
      ],
      "execution_count": 55,
      "outputs": []
    },
    {
      "cell_type": "code",
      "metadata": {
        "colab": {
          "base_uri": "https://localhost:8080/"
        },
        "id": "KwZhyiKK8LYW",
        "outputId": "bf5dcd2f-ffaa-40b4-e631-6010effd9c5d"
      },
      "source": [
        "from nltk.util import pad_sequence\n",
        "l=[]\n",
        "final=[]\n",
        "for t in final_data:\n",
        "  d=list(pad_sequence(t,pad_left=True, left_pad_symbol=\"<s>\",pad_right=True, right_pad_symbol=\"</s>\",n=2))\n",
        "  final.append(d)\n",
        "l=[]\n",
        "print(final)\n",
        "for t in final:\n",
        "  e=list(ngrams(t, n=3))\n",
        "  for li in e:\n",
        "    l.append(li)\n",
        "print(l);\n"
      ],
      "execution_count": 59,
      "outputs": [
        {
          "output_type": "stream",
          "text": [
            "[['<s>', 'Hallway', 'Utility', 'Kitchen', 'Utility', 'Kitchen', 'Utility', 'Hallway', 'Living', 'Kitchen', 'Bedroom', 'Utility', 'Hallway', 'Living', 'Kitchen', 'Bedroom', 'Utility', 'Kitchen', 'Utility', '</s>'], ['<s>', 'Hallway', 'Utility', 'Kitchen', 'Utility', 'Kitchen', 'Utility', 'Hallway', 'Living', 'Kitchen', 'Bedroom', 'Utility', 'Hallway', 'Living', 'Kitchen', 'Bedroom', 'Utility', 'Kitchen', 'Utility', '</s>'], ['<s>', 'Hallway', 'Utility', 'Kitchen', 'Utility', 'Kitchen', 'Utility', 'Hallway', 'Living', 'Kitchen', 'Bedroom', 'Utility', 'Hallway', 'Living', 'Kitchen', 'Bedroom', 'Utility', 'Kitchen', 'Utility', '</s>']]\n",
            "[('<s>', 'Hallway', 'Utility'), ('Hallway', 'Utility', 'Kitchen'), ('Utility', 'Kitchen', 'Utility'), ('Kitchen', 'Utility', 'Kitchen'), ('Utility', 'Kitchen', 'Utility'), ('Kitchen', 'Utility', 'Hallway'), ('Utility', 'Hallway', 'Living'), ('Hallway', 'Living', 'Kitchen'), ('Living', 'Kitchen', 'Bedroom'), ('Kitchen', 'Bedroom', 'Utility'), ('Bedroom', 'Utility', 'Hallway'), ('Utility', 'Hallway', 'Living'), ('Hallway', 'Living', 'Kitchen'), ('Living', 'Kitchen', 'Bedroom'), ('Kitchen', 'Bedroom', 'Utility'), ('Bedroom', 'Utility', 'Kitchen'), ('Utility', 'Kitchen', 'Utility'), ('Kitchen', 'Utility', '</s>'), ('<s>', 'Hallway', 'Utility'), ('Hallway', 'Utility', 'Kitchen'), ('Utility', 'Kitchen', 'Utility'), ('Kitchen', 'Utility', 'Kitchen'), ('Utility', 'Kitchen', 'Utility'), ('Kitchen', 'Utility', 'Hallway'), ('Utility', 'Hallway', 'Living'), ('Hallway', 'Living', 'Kitchen'), ('Living', 'Kitchen', 'Bedroom'), ('Kitchen', 'Bedroom', 'Utility'), ('Bedroom', 'Utility', 'Hallway'), ('Utility', 'Hallway', 'Living'), ('Hallway', 'Living', 'Kitchen'), ('Living', 'Kitchen', 'Bedroom'), ('Kitchen', 'Bedroom', 'Utility'), ('Bedroom', 'Utility', 'Kitchen'), ('Utility', 'Kitchen', 'Utility'), ('Kitchen', 'Utility', '</s>'), ('<s>', 'Hallway', 'Utility'), ('Hallway', 'Utility', 'Kitchen'), ('Utility', 'Kitchen', 'Utility'), ('Kitchen', 'Utility', 'Kitchen'), ('Utility', 'Kitchen', 'Utility'), ('Kitchen', 'Utility', 'Hallway'), ('Utility', 'Hallway', 'Living'), ('Hallway', 'Living', 'Kitchen'), ('Living', 'Kitchen', 'Bedroom'), ('Kitchen', 'Bedroom', 'Utility'), ('Bedroom', 'Utility', 'Hallway'), ('Utility', 'Hallway', 'Living'), ('Hallway', 'Living', 'Kitchen'), ('Living', 'Kitchen', 'Bedroom'), ('Kitchen', 'Bedroom', 'Utility'), ('Bedroom', 'Utility', 'Kitchen'), ('Utility', 'Kitchen', 'Utility'), ('Kitchen', 'Utility', '</s>')]\n"
          ],
          "name": "stdout"
        }
      ]
    },
    {
      "cell_type": "code",
      "metadata": {
        "colab": {
          "base_uri": "https://localhost:8080/",
          "height": 500
        },
        "id": "SkaJv4zA9KhX",
        "outputId": "bd5c5b73-e4b8-4567-b48e-bcef83643258"
      },
      "source": [
        "trigrams_series = pd.Series(l).value_counts()\n",
        "trigrams_series.sort_values().plot.barh(color='blue', width=.9, figsize=(12, 8))"
      ],
      "execution_count": 60,
      "outputs": [
        {
          "output_type": "execute_result",
          "data": {
            "text/plain": [
              "<matplotlib.axes._subplots.AxesSubplot at 0x7f83188c0510>"
            ]
          },
          "metadata": {
            "tags": []
          },
          "execution_count": 60
        },
        {
          "output_type": "display_data",
          "data": {
            "image/png": "[encoded data removed]",
            "text/plain": [
              "<Figure size 864x576 with 1 Axes>"
            ]
          },
          "metadata": {
            "tags": [],
            "needs_background": "light"
          }
        }
      ]
    },
    {
      "cell_type": "code",
      "metadata": {
        "colab": {
          "base_uri": "https://localhost:8080/"
        },
        "id": "Ef5FP2x3__La",
        "outputId": "46cb3032-1625-4d35-86ac-74a9bfda15ee"
      },
      "source": [
        "print(final)"
      ],
      "execution_count": 61,
      "outputs": [
        {
          "output_type": "stream",
          "text": [
            "[['<s>', 'Hallway', 'Utility', 'Kitchen', 'Utility', 'Kitchen', 'Utility', 'Hallway', 'Living', 'Kitchen', 'Bedroom', 'Utility', 'Hallway', 'Living', 'Kitchen', 'Bedroom', 'Utility', 'Kitchen', 'Utility', '</s>'], ['<s>', 'Hallway', 'Utility', 'Kitchen', 'Utility', 'Kitchen', 'Utility', 'Hallway', 'Living', 'Kitchen', 'Bedroom', 'Utility', 'Hallway', 'Living', 'Kitchen', 'Bedroom', 'Utility', 'Kitchen', 'Utility', '</s>'], ['<s>', 'Hallway', 'Utility', 'Kitchen', 'Utility', 'Kitchen', 'Utility', 'Hallway', 'Living', 'Kitchen', 'Bedroom', 'Utility', 'Hallway', 'Living', 'Kitchen', 'Bedroom', 'Utility', 'Kitchen', 'Utility', '</s>']]\n"
          ],
          "name": "stdout"
        }
      ]
    },
    {
      "cell_type": "code",
      "metadata": {
        "colab": {
          "base_uri": "https://localhost:8080/"
        },
        "id": "FflbkE2jWE5S",
        "outputId": "ec5698ca-f88e-4f59-e83a-cfe49360b9ea"
      },
      "source": [
        "from nltk.util import everygrams\n",
        "from nltk.lm.preprocessing import padded_everygram_pipeline\n",
        "n = 3\n",
        "train_data, padded_sents = padded_everygram_pipeline(n, final)\n",
        "from nltk.lm import MLE\n",
        "model = MLE(n) # Lets train a 3-grams model, previously we set n=3\n",
        "print(\"Length of Model Before Training: \",len(model.vocab))\n",
        "model.fit(train_data, padded_sents)\n",
        "print(\"Length of Model After Training: \",len(model.vocab))"
      ],
      "execution_count": 62,
      "outputs": [
        {
          "output_type": "stream",
          "text": [
            "Length of Model Before Training:  0\n",
            "Length of Model After Training:  8\n"
          ],
          "name": "stdout"
        }
      ]
    },
    {
      "cell_type": "code",
      "metadata": {
        "colab": {
          "base_uri": "https://localhost:8080/"
        },
        "id": "4liwA_aFafyc",
        "outputId": "96da0c82-e267-45ba-99df-f52fe4c84c19"
      },
      "source": [
        "print(model.vocab.lookup(final[2]))"
      ],
      "execution_count": 64,
      "outputs": [
        {
          "output_type": "stream",
          "text": [
            "('<s>', 'Hallway', 'Utility', 'Kitchen', 'Utility', 'Kitchen', 'Utility', 'Hallway', 'Living', 'Kitchen', 'Bedroom', 'Utility', 'Hallway', 'Living', 'Kitchen', 'Bedroom', 'Utility', 'Kitchen', 'Utility', '</s>')\n"
          ],
          "name": "stdout"
        }
      ]
    },
    {
      "cell_type": "code",
      "metadata": {
        "colab": {
          "base_uri": "https://localhost:8080/"
        },
        "id": "cC7_FuRZbcWM",
        "outputId": "926c71c1-50d8-43b8-9794-1b0f0c0bfc09"
      },
      "source": [
        "print(model.counts)"
      ],
      "execution_count": 65,
      "outputs": [
        {
          "output_type": "stream",
          "text": [
            "<NgramCounter with 3 ngram orders and 207 ngrams>\n"
          ],
          "name": "stdout"
        }
      ]
    },
    {
      "cell_type": "code",
      "metadata": {
        "colab": {
          "base_uri": "https://localhost:8080/"
        },
        "id": "JbqP3ls8cB3U",
        "outputId": "d00141af-cdb1-4320-9f4d-35764dcc0305"
      },
      "source": [
        "model.counts[['Utility', 'Kitchen']]['Utility'] # i.e. Count('Utility'|'Utility Kitchen')"
      ],
      "execution_count": 66,
      "outputs": [
        {
          "output_type": "execute_result",
          "data": {
            "text/plain": [
              "9"
            ]
          },
          "metadata": {
            "tags": []
          },
          "execution_count": 66
        }
      ]
    },
    {
      "cell_type": "code",
      "metadata": {
        "colab": {
          "base_uri": "https://localhost:8080/"
        },
        "id": "6Yj1npoycamb",
        "outputId": "3e517cb4-3b24-4072-c637-7ae506455a59"
      },
      "source": [
        "model.score('Utility', 'Utility Kitchen'.split())"
      ],
      "execution_count": 94,
      "outputs": [
        {
          "output_type": "execute_result",
          "data": {
            "text/plain": [
              "1.0"
            ]
          },
          "metadata": {
            "tags": []
          },
          "execution_count": 94
        }
      ]
    },
    {
      "cell_type": "code",
      "metadata": {
        "id": "UDll-pWhyhkA"
      },
      "source": [
        "import dill as pickle \n",
        "\n",
        "with open('maid_monitoring.pkl', 'wb') as fout:\n",
        "    pickle.dump(model, fout)\n",
        "with open('maid_monitoring.pkl', 'rb') as fin:\n",
        "    model_loaded = pickle.load(fin)"
      ],
      "execution_count": 95,
      "outputs": []
    },
    {
      "cell_type": "code",
      "metadata": {
        "colab": {
          "base_uri": "https://localhost:8080/"
        },
        "id": "XXA_yB7PzcVT",
        "outputId": "8aa6ae52-0a89-468a-f017-ff3630584a7d"
      },
      "source": [
        "model_loaded.score('Utility', 'Utility Kitchen'.split())"
      ],
      "execution_count": 96,
      "outputs": [
        {
          "output_type": "execute_result",
          "data": {
            "text/plain": [
              "1.0"
            ]
          },
          "metadata": {
            "tags": []
          },
          "execution_count": 96
        }
      ]
    }
  ]
}