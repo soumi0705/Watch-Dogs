{
  "nbformat": 4,
  "nbformat_minor": 0,
  "metadata": {
    "colab": {
      "name": "Person_Movement_Monitoring.ipynb",
      "provenance": [],
      "collapsed_sections": []
    },
    "kernelspec": {
      "name": "python385jvsc74a57bd04500983d90979413176fc9c20b2b655425fea6654ae7e20d697ad4832436127b",
      "display_name": "Python 3.8.5 64-bit ('base': conda)"
    },
    "language_info": {
      "name": "python",
      "version": "3.8.5"
    }
  },
  "cells": [
    {
      "cell_type": "code",
      "metadata": {
        "id": "MVGe9DBWMT6y",
        "colab": {
          "base_uri": "https://localhost:8080/"
        },
        "outputId": "7886e3e7-d7db-4d26-838c-13c8880cdeca"
      },
      "source": [
        "#!pip install --user -U nltk"
      ],
      "execution_count": 1,
      "outputs": []
    },
    {
      "cell_type": "code",
      "metadata": {
        "id": "maR0Iy4UK0gC"
      },
      "source": [
        "from nltk.util import pad_sequence\n",
        "from nltk.util import bigrams\n",
        "from nltk.util import ngrams\n",
        "from nltk.util import everygrams\n",
        "from nltk.lm.preprocessing import pad_both_ends\n",
        "from nltk.lm.preprocessing import flatten"
      ],
      "execution_count": 2,
      "outputs": []
    },
    {
      "cell_type": "code",
      "metadata": {
        "id": "RPbCM97vMY_y"
      },
      "source": [
        "text = [['a', 'b', 'c'],['a','f','e','c', 'd', 'c', 'e', 'f'], ['a', 'c', 'd', 'c', 'e', 'f']]"
      ],
      "execution_count": 3,
      "outputs": []
    },
    {
      "cell_type": "code",
      "metadata": {
        "colab": {
          "base_uri": "https://localhost:8080/"
        },
        "id": "BoIsOgeDMj2y",
        "outputId": "15d796d4-974f-4a4f-dd76-8cd0f97c95e2"
      },
      "source": [
        "l=[]\n",
        "for t in text:\n",
        "  d=list(bigrams(t))\n",
        "  for li in d:\n",
        "    l.append(li)\n",
        "print(l);\n"
      ],
      "execution_count": 4,
      "outputs": [
        {
          "output_type": "stream",
          "name": "stdout",
          "text": [
            "[('a', 'b'), ('b', 'c'), ('a', 'f'), ('f', 'e'), ('e', 'c'), ('c', 'd'), ('d', 'c'), ('c', 'e'), ('e', 'f'), ('a', 'c'), ('c', 'd'), ('d', 'c'), ('c', 'e'), ('e', 'f')]\n"
          ]
        }
      ]
    },
    {
      "cell_type": "code",
      "metadata": {
        "colab": {
          "base_uri": "https://localhost:8080/"
        },
        "id": "39U5SVXCNgoI",
        "outputId": "3e87afa8-503c-46f0-a31e-0f6dbd88f77b"
      },
      "source": [
        "l=[]\n",
        "for t in text:\n",
        "  d=list(ngrams(t, n=3))\n",
        "  for li in d:\n",
        "    l.append(li)\n",
        "print(l);"
      ],
      "execution_count": 5,
      "outputs": [
        {
          "output_type": "stream",
          "name": "stdout",
          "text": [
            "[('a', 'b', 'c'), ('a', 'f', 'e'), ('f', 'e', 'c'), ('e', 'c', 'd'), ('c', 'd', 'c'), ('d', 'c', 'e'), ('c', 'e', 'f'), ('a', 'c', 'd'), ('c', 'd', 'c'), ('d', 'c', 'e'), ('c', 'e', 'f')]\n"
          ]
        }
      ]
    },
    {
      "cell_type": "code",
      "metadata": {
        "colab": {
          "base_uri": "https://localhost:8080/"
        },
        "id": "lBhJ0KWsNy52",
        "outputId": "38c589af-9df9-460c-926c-750d731b6fbc"
      },
      "source": [
        "from nltk.util import pad_sequence\n",
        "l=[]\n",
        "for t in text:\n",
        "  d=list(pad_sequence(t,\n",
        "                  pad_left=True, left_pad_symbol=\"<s>\",\n",
        "                  pad_right=True, right_pad_symbol=\"</s>\",\n",
        "                  n=2))\n",
        "l=[]\n",
        "for t in d:\n",
        "  e=list(ngrams(d, n=3))\n",
        "  for li in e:\n",
        "    l.append(li)\n",
        "print(l);\n"
      ],
      "execution_count": 6,
      "outputs": [
        {
          "output_type": "stream",
          "name": "stdout",
          "text": [
            "[('<s>', 'a', 'c'), ('a', 'c', 'd'), ('c', 'd', 'c'), ('d', 'c', 'e'), ('c', 'e', 'f'), ('e', 'f', '</s>'), ('<s>', 'a', 'c'), ('a', 'c', 'd'), ('c', 'd', 'c'), ('d', 'c', 'e'), ('c', 'e', 'f'), ('e', 'f', '</s>'), ('<s>', 'a', 'c'), ('a', 'c', 'd'), ('c', 'd', 'c'), ('d', 'c', 'e'), ('c', 'e', 'f'), ('e', 'f', '</s>'), ('<s>', 'a', 'c'), ('a', 'c', 'd'), ('c', 'd', 'c'), ('d', 'c', 'e'), ('c', 'e', 'f'), ('e', 'f', '</s>'), ('<s>', 'a', 'c'), ('a', 'c', 'd'), ('c', 'd', 'c'), ('d', 'c', 'e'), ('c', 'e', 'f'), ('e', 'f', '</s>'), ('<s>', 'a', 'c'), ('a', 'c', 'd'), ('c', 'd', 'c'), ('d', 'c', 'e'), ('c', 'e', 'f'), ('e', 'f', '</s>'), ('<s>', 'a', 'c'), ('a', 'c', 'd'), ('c', 'd', 'c'), ('d', 'c', 'e'), ('c', 'e', 'f'), ('e', 'f', '</s>'), ('<s>', 'a', 'c'), ('a', 'c', 'd'), ('c', 'd', 'c'), ('d', 'c', 'e'), ('c', 'e', 'f'), ('e', 'f', '</s>')]\n"
          ]
        }
      ]
    },
    {
      "cell_type": "code",
      "metadata": {
        "id": "6DcIXmX7R-fh"
      },
      "source": [
        "try: # Use the default NLTK tokenizer.\n",
        "    from nltk import word_tokenize, sent_tokenize \n",
        "    # Testing whether it works. \n",
        "    # Sometimes it doesn't work on some machines because of setup issues.\n",
        "    word_tokenize(sent_tokenize(\"This is a foobar sentence. Yes it is.\")[0])\n",
        "except: # Use a naive sentence tokenizer and toktok.\n",
        "    import re\n",
        "    from nltk.tokenize import ToktokTokenizer\n",
        "    # See https://stackoverflow.com/a/25736515/610569\n",
        "    sent_tokenize = lambda x: re.split(r'(?<=[^A-Z].[.?]) +(?=[A-Z])', x)\n",
        "    # Use the toktok tokenizer that requires no dependencies.\n",
        "    toktok = ToktokTokenizer()\n",
        "    word_tokenize = word_tokenize = toktok.tokenize"
      ],
      "execution_count": 7,
      "outputs": []
    },
    {
      "cell_type": "code",
      "metadata": {
        "id": "eeb_jEoNPrLs"
      },
      "source": [
        "import os\n",
        "import requests\n",
        "import io #codecs\n",
        "\n",
        "\n",
        "# Text version of https://kilgarriff.co.uk/Publications/2005-K-lineer.pdf\n",
        "if os.path.isfile('language-never-random.txt'):\n",
        "    with io.open('language-never-random.txt', encoding='utf8') as fin:\n",
        "        text = fin.read()\n",
        "else:\n",
        "    url = \"https://gist.githubusercontent.com/alvations/53b01e4076573fea47c6057120bb017a/raw/b01ff96a5f76848450e648f35da6497ca9454e4a/language-never-random.txt\"\n",
        "    text = requests.get(url).content.decode('utf8')\n",
        "    with io.open('language-never-random.txt', 'w', encoding='utf8') as fout:\n",
        "        fout.write(text)"
      ],
      "execution_count": 8,
      "outputs": []
    },
    {
      "cell_type": "code",
      "metadata": {
        "colab": {
          "base_uri": "https://localhost:8080/"
        },
        "id": "WTy5FuBrPOIZ",
        "outputId": "c8cfef60-511b-424f-8c76-5cbfe0a522ed",
        "tags": [
          "outputPrepend"
        ]
      },
      "source": [
        "# Tokenize the text.\n",
        "tokenized_text = [list(map(str.lower, word_tokenize(sent))) \n",
        "                  for sent in sent_tokenize(text)]\n",
        "print(tokenized_text)"
      ],
      "execution_count": 9,
      "outputs": [
        {
          "output_type": "stream",
          "name": "stdout",
          "text": [
            "are', 'words', 'we', 'know', 'to', 'be', 'american', 'or', 'british', ',', 'or', 'to', 'refer', 'to', 'items', 'that', 'are', 'more', 'common', 'or', 'more', 'salient', 'in', 'the', 'us', 'or', 'the', 'uk.', 'as', 'the', 'argument', 'of', 'the', 'previous', 'section', 'explains', ',', 'most', 'of', 'the', 'marked', 'high-frequency', 'words', 'are', 'marked', 'simply', 'as', 'a', 'consequence', 'of', 'the', 'essen-', 'tially', 'non-random', 'nature', 'of', 'language', '.'], ['it', 'would', 'not', 'be', 'surprising', 'for', 'a', 'high-frequency', 'word', 'marked', 'as', 'british', 'english', 'in', 'these', 'lists', 'to', 'be', 'marked', 'as', 'american', 'english', 'in', 'a', 'repeat', 'of', 'the', 'experiment', 'using', 'new', 'data.', 'similar', 'strategies', 'are', 'used', 'by', ',', 'and', 'a', 'similar', 'critique', 'is', 'applicable', 'to', ',', 'leech', 'and', 'fallon', '(', '1992', ')', '(', 'again', ',', 'for', 'comparing', 'lob', 'and', 'brown', ')', ',', 'ray-', 'language', 'is', 'never', ',', 'ever', ',', 'ever', ',', 'random', '271', 'son', ',', 'leech', ',', 'and', 'hodges', '(', '1997', ')', 'for', 'comparing', 'the', 'conversation', 'of', 'dif-', 'ferent', 'social', 'groups', ',', 'and', 'rayson', 'and', 'garside', '(', '2000', ')', 'for', 'contrasting', 'the', 'language', 'of', 'a', 'specialist', 'genre', 'with', '‘general', 'language', '’', ',', 'as', 'represented', 'by', 'the', 'british', 'national', 'corpus.', '5.2', 'subcategorization', 'frame', '(', 'scf', ')', 'learning', 'hypothesis-testing', 'has', 'been', 'used', 'in', 'a', 'number', 'of', 'papers', 'concerning', 'the', 'automatic', 'acquisition', 'of', 'subcategorization', 'frames', '(', 'scfs', ')', 'for', 'verbs', 'from', 'corpora', '.'], ['the', 'problem', 'is', 'this', '.'], ['dictionaries', ',', 'even', 'where', 'they', 'do', 'present', 'explicit', 'and', 'accurate', 'scfs', 'for', 'verbs', ',', 'are', 'not', 'complete', ':', 'they', 'do', 'not', 'pre-', 'sent', 'all', 'the', 'frames', 'for', 'each', 'verb', '.'], ['this', 'gives', 'rise', 'to', 'many', 'parsing', 'errors.', 'researchers', 'including', 'brent', '(', '1993', ')', ',', 'briscoe', 'and', 'carroll', '(', '1997', ')', 'and', 'kor-', 'honen', '(', '2000', ')', 'have', 'developed', 'methods', 'for', 'scf', 'acquisition', '.'], ['however', ',', 'their', 'methods', 'are', 'inevitably', 'noisy', ',', 'suffering', ',', 'for', 'example', ',', 'from', 'just', 'those', 'parser', 'errors', 'that', 'the', 'whole', 'process', 'is', 'designed', 'to', 'address', ',', 'and', 'they', 'do', 'not', 'wish', 'to', 'accept', 'any', 'scf', 'for', 'which', 'there', 'is', 'any', 'evidence', 'as', 'a', 'true', 'scf', 'for', 'the', 'verb', '.'], ['they', 'wish', 'to', 'filter', 'out', 'those', 'scfs', 'where', 'the', 'evidence', 'is', 'not', 'strong', 'enough', '.'], ['brent', 'and', 'briscoe', 'and', 'carroll', 'used', 'hypothesis', 'testing', 'to', 'this', 'end', '.'], ['however', ',', 'problems', 'are', 'noted', ':', 'further', 'evaluation', 'of', 'the', 'results', '...', 'reveals', 'that', 'the', 'filtering', 'phase', 'is', 'the', 'weak', 'link', 'in', 'the', 'system', '…', 'the', 'performance', 'of', 'the', 'filter', 'for', 'classes', 'with', 'less', 'than', '10', 'exemplars', 'is', 'around', 'chance', ',', 'and', 'a', 'simple', 'heuristic', 'of', 'accepting', 'all', 'classes', 'with', 'more', 'then', '10', 'exemplars', 'would', 'have', 'pro-', 'duced', 'broadly', 'similar', 'results', 'for', 'these', 'verbs', '(', 'briscoe', 'and', 'carroll', '1997', ':', '360⫺36', ')', '.', 'korhonen', ',', 'correll', ',', 'and', 'mccarthy', '(', '2000', ')', 'explore', 'the', 'issue', 'in', 'detail.', 'using', 'briscoe', 'and', 'carroll', '’', 's', 'scf', 'acquisition', 'system', ',', 'they', 'explore', 'the', 'impact', 'of', 'four', 'different', 'strategies', 'for', 'filtering', 'out', 'noise', ':', 'baseline', 'no', 'filter', 'bht', 'binomial', 'hypothesis', 'test', ':', 'reject', 'the', 'scf', 'if', 'ho', 'is', 'not', 'defeated6', 'llr', 'hypothesis', 'test', 'using', 'log-likelihood', 'ratio', ':', 'reject', 'the', 'scf', 'if', 'ho', 'is', 'not', 'defeated', 'mle', 'threshold', 'based', 'on', 'the', 'relative', 'frequency', '(', 'which', 'is', 'also', 'the', 'maximum', 'likelihood', 'estimate', '(', 'mle', ')', 'of', 'the', 'probability', ')', 'of', 'the', 'verb', 'occurring', 'in', 'the', 'scf', 'given', 'the', 'verb', ',', 'with', 'the', 'thresh-', 'old', 'determined', 'empirically', '272', 'a', '.'], ['kilgarriff', 'they', 'observe', 'mle', 'thresholding', 'produced', 'better', 'results', 'than', 'the', 'two', 'statistical', 'tests', 'used', '.'], ['precision', 'improved', 'considerably', ',', 'showing', 'that', 'the', 'classes', 'occur-', 'ring', 'in', 'the', 'data', 'with', 'the', 'highest', 'frequency', 'are', 'often', 'correct', '…', 'mle', 'is', 'not', 'adept', 'at', 'finding', 'low', 'frequency', 'scfs', '…', '(', 'korhonen', ',', 'correll', ',', 'and', 'mccarthy', '2000', ':', '202', ')', 'this', 'concurs', 'with', 'the', 'theoretical', 'argument', 'above', '.'], ['hypothesis', 'tests', 'are', 'inappropriate', 'for', 'the', 'task', ',', 'because', 'the', 'relations', 'between', 'verb', 'and', 'scf', 'will', 'never', 'be', 'random', 'and', 'the', 'hypothesis', 'test', 'will', 'merely', 'reject', 'the', 'null', 'hypothesis', 'wherever', 'there', 'is', 'enough', 'data', ',', 'in', 'a', 'manner', 'not', 'closely', 'corre-', 'lated', 'with', 'whether', 'the', 'scf-verb', 'link', 'is', 'motivated', '.'], ['where', 'there', 'is', 'enough', 'data', ',', 'then', 'the', 'relationship', 'between', 'verb', 'and', 'scf', 'is', 'easy', 'to', 'see', 'so', 'even', 'a', 'simple', 'threshold', 'method', 'will', 'identify', 'the', 'verb', '’', 's', 'scfs.', 'where', 'data', 'is', 'very', 'sparse', ',', 'no', 'method', 'works', 'well.', 'korhonen', '(', '2000', ')', 'extends', 'this', 'line', 'of', 'work', ',', 'exploring', 'thresholding', 'methods', 'where', 'a', 'more', 'accurate', 'estimate', 'of', 'the', 'probability', 'is', 'obtained', 'by', 'using', 'data', 'from', 'semantically', 'similar', 'but', 'higher', 'frequency', 'verbs', '.'], ['she', 'achieves', 'modest', 'improvements', 'over', 'the', 'baseline', 'which', 'uses', 'korhonen', ',', 'correll', 'and', 'mccarthy', '’', 's', 'mle', ',', 'particularly', 'when', 'combining', 'the', 'fre-', 'quencies', 'of', 'the', 'target', 'verb', 'and', 'its', 'semantic', 'neighbour', 'using', 'a', 'linear', 'method', 'based', 'on', 'the', 'quantity', 'of', 'evidence', 'available', 'for', 'each.', 'the', 'problem', 'is', 'not', 'one', 'of', 'distinguishing', 'random', 'and', 'non-random', 'relationships', ',', 'but', 'of', 'sparseness', 'of', 'data', '.'], ['where', 'the', 'data', 'is', 'not', 'sparse', ',', 'the', 'difference', 'between', 'arbitrary', 'and', 'motivated', 'connections', 'is', 'evident', 'in', 'greatly', 'differing', 'relative', 'frequencies', '.'], ['this', 'makes', 'the', 'moral', 'of', 'the', 'story', 'plain', '.'], ['data', 'is', 'abundant', '.'], ['a', 'modest-frequency', 'verb', 'like', 'devastate', 'occurs', '(', 'google', 'tells', 'us', ')', 'in', 'well', 'over', 'a', 'million', 'web', 'pages', '.'], ['with', 'just', '1', '%', 'of', 'them', ',', 'devastate', 'becomes', 'one', 'of', 'the', 'verbs', 'for', 'which', 'we', 'have', 'plenty', 'of', 'data', ',', 'and', 'crude', 'thresholding', 'methods', 'will', 'distinguish', 'associated', 'scfs', 'from', 'noise', '.'], ['it', 'is', 'possible', 'that', 'parsing', 'errors', 'are', 'systematic', 'and', 'thus', 'that', 'the', 'same', 'errors', 'occur', 'very', 'often', 'in', 'very', 'large', 'corpora', 'although', 'our', 'experi-', 'ence', 'from', 'looking', 'at', 'large', 'corpora', 'in', 'the', 'word', 'sketch', 'engine', '(', 'kilgarriff', 'et', 'al', '2004', ')', 'suggests', 'not', '.'], ['harvesting', 'the', 'web', '(', 'or', 'other', 'huge', 'corpora', ')', 'is', 'the', 'way', 'to', 'build', 'an', 'accurate', 'scf', 'lexicon.7', '6', '.'], ['conclusion', 'language', 'is', 'non-random', 'and', 'hence', ',', 'when', 'we', 'look', 'at', 'linguistic', 'phenom-', 'ena', 'in', 'corpora', ',', 'the', 'null', 'hypothesis', 'will', 'never', 'be', 'true', '.'], ['moreover', ',', 'where', 'there', 'is', 'enough', 'data', ',', 'we', 'shall', '(', 'almost', ')', 'always', 'be', 'able', 'to', 'establish', 'that', 'it', 'is', 'not', 'true', '.'], ['in', 'corpus', 'studies', ',', 'we', 'frequently', 'do', 'have', 'enough', 'data', ',', 'so', 'language', 'is', 'never', ',', 'ever', ',', 'ever', ',', 'random', '273', 'the', 'fact', 'that', 'a', 'relation', 'between', 'two', 'phenomena', 'is', 'demonstrably', 'non-', 'random', ',', 'does', 'not', 'support', 'the', 'inference', 'that', 'it', 'is', 'not', 'arbitrary', '.'], ['hypoth-', 'esis', 'testing', 'is', 'rarely', 'useful', 'for', 'distinguishing', 'associated', 'from', 'non-associ-', 'ated', 'pairs', 'of', 'phenomena', 'in', 'large', 'corpora', '.'], ['where', 'used', ',', 'it', 'has', 'often', 'led', 'to', 'unhelpful', 'or', 'misleading', 'results.', 'hypothesis', 'testing', 'has', 'been', 'used', 'to', 'reach', 'conclusions', ',', 'where', 'the', 'diffi-', 'culty', 'in', 'reaching', 'a', 'conclusion', 'is', 'caused', 'by', 'sparsity', 'of', 'data', '.'], ['but', 'language', 'data', ',', 'in', 'this', 'age', 'of', 'information', 'glut', ',', 'is', 'available', 'in', 'vast', 'quantities', '.'], ['a', 'better', 'strategy', 'will', 'generally', 'be', 'to', 'use', 'more', 'data', 'then', 'the', 'difference', 'between', 'the', 'motivated', 'and', 'the', 'arbitrary', 'will', 'be', 'evident', 'without', 'the', 'use', 'of', 'compromised', 'hypothesis', 'testing', '.'], ['as', 'lord', 'rutherford', 'put', 'it', ':', '“if', 'your', 'experiment', 'needs', 'statistics', ',', 'you', 'ought', 'to', 'have', 'done', 'a', 'better', 'experi-', 'ment.', '”', 'received', 'july', '2004', 'lexical', 'computing', 'ltd.', 'revisions', 'received', 'may', '2005', 'final', 'acceptance', 'may', '2005', 'notes', '*', 'this', 'work', 'was', 'supported', 'by', 'the', 'uk', 'epsrc', ',', 'under', 'grants', 'gr/k18931', '(', 'seal', ')', 'and', 'gr/m54971', '(', 'wasps', ')', '.', '1', '.'], ['in', 'this', 'paper', 'we', 'do', 'not', 'consider', 'the', 'distinction', 'between', 'the', 'predictable', 'and', 'the', '‘merely', '’', 'motivated.', '2', '.'], ['diapers', ',', 'in', 'american', 'english', '3', '.'], ['there', 'is', 'some', 'confusion', 'over', 'names', '.'], ['in', 'information', 'theory', ',', 'mutual', 'information', 'is', 'usually', 'defined', 'over', 'a', 'whole', 'population', 'of', 'words', ',', 'rather', 'than', 'being', 'specified', 'for', 'a', 'particular', 'word-pair', ',', 'as', 'here', ',', 'and', 'the', 'definition', 'incorporates', 'information', 'from', 'all', 'cells', 'of', 'the', 'contingency', 'table', '.'], ['church', 'and', 'hanks', 'only', 'use', 'a', 'subset', 'of', 'that', 'information', '.'], ['church-and-hanks', 'mutual', 'information', 'has', 'been', 'called', 'pointwise', 'mutual', 'information.', 'see', 'manning', 'and', 'schütze', '(', '1999', ':', '66', 'ff.', ')', 'for', 'a', 'fuller', 'discus-', 'sion', '.'], ['here', 'we', 'use', 'church', 'and', 'hanks', '’', 's', 'definition', 'and', 'name.', '4', '.'], ['this', 'sentence', 'will', 'be', 'confusing', 'to', 'non-mathematicians', '.'], ['the', 'χ2', 'statistic', 'is', 'a', 'statis-', 'tic', ',', 'that', 'is', ',', 'it', 'can', 'be', 'calculated', 'from', 'a', 'data', 'sample', 'using', 'actual', 'numbers', '.'], ['the', 'χ2', 'distribution', 'is', 'a', 'theoretical', 'construct', '.'], ['if', 'a', 'sufficiently', 'large', 'number', 'of', 'chi-square', 'statistics', 'are', 'calculated', ',', 'all', 'from', 'true', 'random', 'samples', 'of', 'the', 'same', 'population', ',', 'then', 'this', 'population', 'of', 'χ2', 'statistics', 'will', ',', 'provably', ',', 'fit', 'a', 'χ2', 'distribution', '.'], ['this', 'is', 'also', 'true', 'for', 'other', 'statistics', ':', 'that', 'is', ',', 'if', 'a', 'sufficiently', 'large', 'number', 'of', 'log-likelihood', 'statistics', 'are', 'calculated', ',', 'all', 'from', 'true', 'random', 'samples', 'of', 'the', 'same', 'population', ',', 'then', 'this', 'population', 'of', 'log-likelihood', 'statistics', 'will', ',', 'provably', ',', 'fit', 'a', 'χ2', 'distribution.', 'some', 'texts', 'call', 'the', 'statistic', 'χ2', 'rather', 'than', 'χ2', 'to', 'distinguish', 'it', 'more', 'clearly', 'from', 'the', 'distribution', ',', 'but', 'this', 'practice', 'is', 'in', 'the', 'minority', 'and', 'is', 'not', 'adopted', 'here.', '5', '.'], ['see', 'appendix', '6', '.'], ['the', 'model', 'used', 'was', 'a', 'sophisticated', 'one', 'incorporating', 'evidence', 'about', 'type', 'fre-', 'quencies', 'of', 'verbs', 'from', 'the', 'anlt', 'lexicon', ':', 'see', 'briscoe', 'and', 'carroll', '(', '1997', ')', 'or', 'kor-', 'honen', ',', 'correll', ',', 'and', 'mccarthy', '(', '2000', ')', 'for', 'details.', '7', '.'], ['see', 'kilgarriff', 'and', 'grefenstette', '(', '2003', ')', 'and', 'papers', 'therein', '.'], ['the', 'web', 'is', 'a', 'vast', 're-', 'source', 'for', 'many', 'languages', '.'], ['see', 'also', 'banko', 'and', 'brill', '(', '2001', ')', 'for', 'the', 'benefits', 'of', 'large', 'data', 'over', 'sophisticated', 'mathematics.', '274', 'a', '.'], ['kilgarriff', 'appendix', 'the', 'average', 'value', 'of', 'the', 'error', 'term', 'is', '0.5', '.'], ['we', 'explain', 'this', 'as', 'follows.', 'if', 'we', 'do', 'in', 'fact', 'have', 'a', 'random', 'distribution', ',', 'then', 'by', 'the', 'definition', 'of', 'the', 'χ2', 'distribution', ',', 'the', 'sum', 'of', 'the', 'cells', 'in', 'the', 'contingency', 'table', 'is', '1', ':', 'a⫹b⫹c⫹d⫽1', 'each', 'of', 'these', 'error', 'terms', 'is', 'calculated', 'as', '(', 'o', '⫺', 'e', '⫺', '0.5', ')', '2/e', 'in', 'our', 'situation', ',', 'there', 'are', 'very', 'large', 'datasets', 'and', 'the', 'phenomenon', 'of', 'interest', 'only', 'accounts', 'for', 'a', 'very', 'small', 'proportion', 'of', 'cases', '.'], ['the', 'fre-', 'quency', 'of', 'not', 'word', 'w', 'is', 'very', 'high', '.'], ['thus', 'the', 'expected', 'values', ',', 'e', ',', 'for', 'not', 'word', 'w', 'to', 'be', 'used', 'when', 'calculating', 'c', 'and', 'd', 'for', 'the', 'contingency', 'table', 'are', 'very', 'high', '.'], ['as', 'we', 'divide', 'by', 'very', 'large', 'e', ',', 'c', 'and', 'd', 'are', 'vanishingly', 'small', ',', 'so', 'a⫹b⫹c⫹d⫽1', 'reduces', 'to', 'a⫹b⫽1', 'since', 'we', 'have', 'set', 'the', 'situation', 'up', 'symmetrically', ',', 'a', 'and', 'b', 'are', 'the', 'same', 'size', ',', 'so', 'each', 'will', 'be', ',', 'on', 'average', ',', '0.5.', 'references', 'banko', ',', 'michele', 'and', 'eric', 'brill', '2001', 'scaling', 'to', 'very', 'very', 'large', 'corpora', 'for', 'natural', 'language', 'disambiguation.', 'proceedings', 'of', 'the', '39th', 'annual', 'meeting', 'of', 'the', 'association', 'for', 'computa-', 'tional', 'linguistics', 'and', 'the', '10th', 'conference', 'of', 'the', 'european', 'chapter', 'of', 'the', 'association', 'for', 'computational', 'linguistics.', 'bod', ',', 'rens', '1995', 'enriching', 'linguistics', 'with', 'statistics', ':', 'performance', 'models', 'of', 'natural', 'lan-', 'guage', '.'], ['ph.d.', 'dissertation', ',', 'university', 'of', 'amsterdam.', 'brandstätter', ',', 'e.', '1999', 'confidence', 'intervals', 'as', 'an', 'alternative', 'to', 'significance', 'testing', '.'], ['methods', 'of', 'psychological', 'research', 'outline', '4(', '2', ')', ',', '33⫺46.', 'brent', ',', 'michael', 'r.', '1993', 'from', 'grammar', 'to', 'lexicon', ':', 'unsupervised', 'learning', 'of', 'lexical', 'syntax', '.'], ['com-', 'putational', 'linguistics', '19(', '2', ')', ',', '243⫺262.', 'briscoe', ',', 'ted', 'and', 'john', 'carroll', '1997', 'automatic', 'extraction', 'of', 'subcategorization', 'from', 'corpora', '.'], ['proceedings', 'of', 'the', 'fifth', 'conference', 'on', 'applied', 'natural', 'language', 'processing', ',', '356⫺363.', 'language', 'is', 'never', ',', 'ever', ',', 'ever', ',', 'random', '275', 'carver', ',', 'r', '.'], ['p.', '1993', 'the', 'case', 'against', 'statistical', 'significance', 'testing', ',', 'revisited', '.'], ['journal', 'of', 'ex-', 'perimental', 'education', '61', ',', '287⫺292.', 'church', ',', 'kenneth', 'and', 'patrick', 'hanks', '1990', 'word', 'association', 'norms', ',', 'mutual', 'information', 'and', 'lexicography', '.'], ['compu-', 'tational', 'linguistics', '16(', '1', ')', ',', '22⫺29.', 'dunning', ',', 'ted', '1993', 'accurate', 'methods', 'for', 'the', 'statistics', 'of', 'surprise', 'and', 'coincidence', '.'], ['compu-', 'tational', 'linguistics', '19(', '1', ')', ',', '61⫺74.', 'gale', ',', 'william', 'and', 'geoffrey', 'sampson', '1995', 'good-turing', 'frequency', 'estimation', 'without', 'tears', '.'], ['journal', 'of', 'quantitative', 'linguistics', '2(', '3', ')', ',', 'good', ',', 'i', '.'], ['j.', '1953', 'the', 'population', 'frequencies', 'of', 'species', 'and', 'the', 'estimation', 'of', 'population', 'parameters', '.'], ['biometrika', '40', ',', '237⫺264.', 'grefenstette', ',', 'gregory', 'and', 'julien', 'nioche', '2000', 'estimation', 'of', 'english', 'and', 'non-english', 'language', 'use', 'on', 'the', 'www', '.'], ['in', 'proceedings', 'of', 'riao', '(', 'recherche', 'd', '’', 'informations', 'assiste´', 'e', 'par', 'ordinateur', ')', ',', '237⫺246.', 'hofland', ',', 'knud', 'and', 'stig', 'johanson', '(', 'eds.', ')', '1982', 'word', 'frequencies', 'in', 'british', 'and', 'american', 'english', '.'], ['bergen', ':', 'the', 'norwe-', 'gian', 'computing', 'centre', 'for', 'the', 'humanities.', 'korhonen', ',', 'anna', '2000', 'using', 'semantically', 'motivated', 'estimates', 'to', 'help', 'subcategorization', 'acquisition', '.'], ['proceedings', 'of', 'the', 'joint', 'conference', 'on', 'empirical', 'methods', 'in', 'nlp', 'and', 'very', 'large', 'corpora', ',', '216⫺223.', 'korhonen', ',', 'anna', ',', 'genevieve', 'gorrell', ',', 'and', 'diana', 'mccarthy', '2000', 'statistical', 'filtering', 'and', 'subcategorization', 'frame', 'acquisition', '.'], ['proceedings', 'of', 'the', 'joint', 'conference', 'on', 'empirical', 'methods', 'in', 'nlp', 'and', 'very', 'large', 'corpora', ',', '199⫺206.', 'ldoce', '1995', 'longman', 'dictionary', 'of', 'contemporary', 'english', ',', '3rd', 'edition', '.'], ['ed.', 'della', 'summers', '.'], ['harlow', ':', 'longman.', 'leech', ',', 'geoffrey', 'and', 'roger', 'fallon', '1992', 'computer', 'corpora', '—', 'what', 'do', 'they', 'tell', 'us', 'about', 'culture', '?'], ['icame', 'journal', '16', ',', '29⫺50.', 'manning', ',', 'christopher', 'and', 'hinrich', 'schütze', '1999', 'foundations', 'of', 'statistical', 'natural', 'language', 'processing', '.'], ['cambridge', ',', 'ma', ':', 'mit', 'press.', 'owen', ',', 'frank', 'and', 'ronald', 'jones', '1977', 'statistics', '.'], ['polytech', 'publishers.', 'pedersen', ',', 'ted', '1996', 'fishing', 'for', 'exactness', '.'], ['proceedings', 'of', 'the', 'conference', 'of', 'the', 'south-central', 'sas', 'users', 'group', ',', '188⫺200.', 'rayson', ',', 'paul', 'and', 'roger', 'garside', '2000', 'comparing', 'corpora', 'using', 'frequency', 'profiling', '.'], ['proceedings', 'of', 'the', 'work-', 'shop', 'on', 'comparing', 'corpora', ',', '38th', 'acl', ',', '1⫺6.', 'rayson', ',', 'paul', ',', 'geoffrey', 'leech', ',', 'and', 'mary', 'hodges', '1997', 'social', 'differentiation', 'in', 'the', 'use', 'of', 'english', 'vocabulary', ':', 'some', 'analysis', 'of', 'the', 'conversational', 'component', 'of', 'the', 'british', 'national', 'corpus', '.'], ['interna-', 'tional', 'journal', 'of', 'corpus', 'linguistics', '2(', '1', ')', ',', '133⫺152.', 'stubbs', ',', 'michael', '1995', 'collocations', 'and', 'semantic', 'profiles', ':', 'on', 'the', 'cause', 'of', 'the', 'trouble', 'with', 'quantitative', 'studies', '.'], ['functions', 'of', 'language', '2(', '1', ')', ',', '23⫺55.']]\n"
          ]
        }
      ]
    },
    {
      "cell_type": "code",
      "metadata": {
        "id": "-jKphWvHSHYj"
      },
      "source": [
        "from nltk.util import everygrams\n",
        "from nltk.lm.preprocessing import padded_everygram_pipeline\n",
        "n = 3\n",
        "train_data, padded_sents = padded_everygram_pipeline(n, tokenized_text)"
      ],
      "execution_count": 10,
      "outputs": []
    },
    {
      "cell_type": "code",
      "metadata": {
        "id": "7Db-0uxiSiLq"
      },
      "source": [],
      "execution_count": 10,
      "outputs": []
    },
    {
      "cell_type": "code",
      "metadata": {
        "colab": {
          "base_uri": "https://localhost:8080/"
        },
        "id": "DdpOWwOoS_zC",
        "outputId": "9151b096-abc7-4190-d20a-06393ce1461d"
      },
      "source": [
        "from nltk.lm import MLE\n",
        "model = MLE(n) # Lets train a 3-grams model, previously we set n=3\n",
        "len(model.vocab)\n",
        "model.fit(train_data, padded_sents)\n",
        "print(model.vocab)"
      ],
      "execution_count": 11,
      "outputs": [
        {
          "output_type": "stream",
          "name": "stdout",
          "text": [
            "<Vocabulary with cutoff=1 unk_label='<UNK>' and 1429 items>\n"
          ]
        }
      ]
    },
    {
      "cell_type": "code",
      "metadata": {
        "colab": {
          "base_uri": "https://localhost:8080/"
        },
        "id": "o4ga56NTTTSR",
        "outputId": "fafa6e31-c576-47d9-b43c-4527076e96c9"
      },
      "source": [
        "len(model.vocab)"
      ],
      "execution_count": 12,
      "outputs": [
        {
          "output_type": "execute_result",
          "data": {
            "text/plain": [
              "1429"
            ]
          },
          "metadata": {},
          "execution_count": 12
        }
      ]
    },
    {
      "cell_type": "code",
      "metadata": {
        "colab": {
          "base_uri": "https://localhost:8080/"
        },
        "id": "mblniihBTXXH",
        "outputId": "db1f0a64-da91-4b0c-af68-fdab33d0c06c"
      },
      "source": [
        "print(model.vocab.lookup(tokenized_text[3]))"
      ],
      "execution_count": 13,
      "outputs": [
        {
          "output_type": "stream",
          "name": "stdout",
          "text": [
            "('moreover', ',', 'where', 'there', 'is', 'enough', 'data', ',', 'we', 'shall', '(', 'almost', ')', 'always', 'be', 'able', 'to', 'establish', 'that', 'it', 'is', 'not', 'true', '.')\n"
          ]
        }
      ]
    },
    {
      "cell_type": "code",
      "metadata": {
        "colab": {
          "base_uri": "https://localhost:8080/"
        },
        "id": "Qi3aiR_rTsuT",
        "outputId": "dcac3800-3f5c-461b-c3f7-3c15927ef47a"
      },
      "source": [
        "model.counts['enough'] # i.e. Count('language')"
      ],
      "execution_count": 14,
      "outputs": [
        {
          "output_type": "execute_result",
          "data": {
            "text/plain": [
              "12"
            ]
          },
          "metadata": {},
          "execution_count": 14
        }
      ]
    },
    {
      "cell_type": "code",
      "metadata": {
        "colab": {
          "base_uri": "https://localhost:8080/"
        },
        "id": "wUZAlSHYT9lA",
        "outputId": "a964e25f-f108-4d3c-9289-bcc39a21c1d9"
      },
      "source": [
        "model.counts[['language']]['is'] # i.e. Count('is'|'language')"
      ],
      "execution_count": 15,
      "outputs": [
        {
          "output_type": "execute_result",
          "data": {
            "text/plain": [
              "11"
            ]
          },
          "metadata": {},
          "execution_count": 15
        }
      ]
    },
    {
      "cell_type": "code",
      "metadata": {
        "colab": {
          "base_uri": "https://localhost:8080/"
        },
        "id": "Ks247NsHT-Xj",
        "outputId": "a7e01740-f6b8-46a0-b5fb-4d7af23a354d"
      },
      "source": [
        "model.counts[['language', 'is']]['never'] # i.e. Count('never'|'language i"
      ],
      "execution_count": 16,
      "outputs": [
        {
          "output_type": "execute_result",
          "data": {
            "text/plain": [
              "7"
            ]
          },
          "metadata": {},
          "execution_count": 16
        }
      ]
    },
    {
      "cell_type": "code",
      "metadata": {
        "colab": {
          "base_uri": "https://localhost:8080/"
        },
        "id": "mTZgvx6gUDFq",
        "outputId": "2e18e325-2ac5-421d-de5a-bb9ad179535a"
      },
      "source": [
        "model.score('language') # P('language')"
      ],
      "execution_count": 17,
      "outputs": [
        {
          "output_type": "execute_result",
          "data": {
            "text/plain": [
              "0.003916040100250626"
            ]
          },
          "metadata": {},
          "execution_count": 17
        }
      ]
    },
    {
      "cell_type": "code",
      "metadata": {
        "colab": {
          "base_uri": "https://localhost:8080/"
        },
        "id": "llUglibBUJEA",
        "outputId": "6dbb4f3a-c535-449b-8370-f92dbe623b8c"
      },
      "source": [
        "model.score('is', 'there'.split())  # P('is'|'language')"
      ],
      "execution_count": 18,
      "outputs": [
        {
          "output_type": "execute_result",
          "data": {
            "text/plain": [
              "0.7619047619047619"
            ]
          },
          "metadata": {},
          "execution_count": 18
        }
      ]
    },
    {
      "cell_type": "code",
      "metadata": {
        "colab": {
          "base_uri": "https://localhost:8080/"
        },
        "id": "v0Wq7-_9UJyb",
        "outputId": "e9295609-f945-46d4-cc93-7f2c716b4bcd"
      },
      "source": [
        "model.counts['there']  # P('never'|'language is')"
      ],
      "execution_count": 19,
      "outputs": [
        {
          "output_type": "execute_result",
          "data": {
            "text/plain": [
              "21"
            ]
          },
          "metadata": {},
          "execution_count": 19
        }
      ]
    },
    {
      "cell_type": "code",
      "metadata": {
        "colab": {
          "base_uri": "https://localhost:8080/"
        },
        "id": "IvovXb98VOLu",
        "outputId": "c527bf8e-4c04-4350-d296-dcffb53a94aa"
      },
      "source": [
        "model.counts[['is','enough']]['data']"
      ],
      "execution_count": 20,
      "outputs": [
        {
          "output_type": "execute_result",
          "data": {
            "text/plain": [
              "5"
            ]
          },
          "metadata": {},
          "execution_count": 20
        }
      ]
    },
    {
      "cell_type": "code",
      "metadata": {
        "colab": {
          "base_uri": "https://localhost:8080/"
        },
        "id": "MZX0tINUpTNm",
        "outputId": "6231bea9-cb41-4d7f-adeb-01ca07ced38a"
      },
      "source": [
        "model.score('data', 'there is enough'.split())"
      ],
      "execution_count": 21,
      "outputs": [
        {
          "output_type": "execute_result",
          "data": {
            "text/plain": [
              "0"
            ]
          },
          "metadata": {},
          "execution_count": 21
        }
      ]
    },
    {
      "cell_type": "code",
      "metadata": {
        "colab": {
          "base_uri": "https://localhost:8080/"
        },
        "id": "IlyxvVn81Y4B",
        "outputId": "34834869-ae17-4949-f890-8e53402c2672"
      },
      "source": [
        "import pandas as pd\n",
        "\n",
        "df = pd.read_csv('./Maid-monitoring.csv')\n",
        "\n",
        "print(df.loc[0][2]) "
      ],
      "execution_count": 22,
      "outputs": [
        {
          "output_type": "stream",
          "name": "stdout",
          "text": [
            "Hallway\n"
          ]
        }
      ]
    },
    {
      "cell_type": "code",
      "metadata": {
        "colab": {
          "base_uri": "https://localhost:8080/"
        },
        "id": "XWMXq7bd2pHe",
        "outputId": "d9ed31b4-d1b1-49f2-c06c-612a305f5dda"
      },
      "source": [
        "final_data=[]\n",
        "day_data=[]\n",
        "for i in range (0,len(df.index)):  \n",
        "  if i==1:\n",
        "    day_data.append(df.loc[i][2])\n",
        "  \n",
        "  elif (i>1) and (df.loc[i][0]==df.loc[i-1][0]):\n",
        "    day_data.append(df.loc[i][2])\n",
        "  \n",
        "  else:\n",
        "    final_data.append(day_data)\n",
        "    day_data.clear()\n",
        "    day_data.append(df.loc[i][2])\n",
        "print(final_data)\n"
      ],
      "execution_count": 23,
      "outputs": [
        {
          "output_type": "stream",
          "name": "stdout",
          "text": [
            "[['Hallway', 'Utility', 'Kitchen', 'Utility', 'Kitchen', 'Utility', 'Hallway', 'Living', 'Kitchen', 'Bedroom', 'Utility', 'Hallway', 'Living', 'Kitchen', 'Bedroom', 'Hallway', 'Utility', 'Kitchen', 'Utility'], ['Hallway', 'Utility', 'Kitchen', 'Utility', 'Kitchen', 'Utility', 'Hallway', 'Living', 'Kitchen', 'Bedroom', 'Utility', 'Hallway', 'Living', 'Kitchen', 'Bedroom', 'Hallway', 'Utility', 'Kitchen', 'Utility'], ['Hallway', 'Utility', 'Kitchen', 'Utility', 'Kitchen', 'Utility', 'Hallway', 'Living', 'Kitchen', 'Bedroom', 'Utility', 'Hallway', 'Living', 'Kitchen', 'Bedroom', 'Hallway', 'Utility', 'Kitchen', 'Utility'], ['Hallway', 'Utility', 'Kitchen', 'Utility', 'Kitchen', 'Utility', 'Hallway', 'Living', 'Kitchen', 'Bedroom', 'Utility', 'Hallway', 'Living', 'Kitchen', 'Bedroom', 'Hallway', 'Utility', 'Kitchen', 'Utility'], ['Hallway', 'Utility', 'Kitchen', 'Utility', 'Kitchen', 'Utility', 'Hallway', 'Living', 'Kitchen', 'Bedroom', 'Utility', 'Hallway', 'Living', 'Kitchen', 'Bedroom', 'Hallway', 'Utility', 'Kitchen', 'Utility'], ['Hallway', 'Utility', 'Kitchen', 'Utility', 'Kitchen', 'Utility', 'Hallway', 'Living', 'Kitchen', 'Bedroom', 'Utility', 'Hallway', 'Living', 'Kitchen', 'Bedroom', 'Hallway', 'Utility', 'Kitchen', 'Utility']]\n"
          ]
        }
      ]
    },
    {
      "cell_type": "code",
      "metadata": {
        "id": "sKE7FBRL9bL9"
      },
      "source": [
        "\n",
        "import nltk\n",
        "from nltk.corpus import stopwords\n",
        "# add appropriate words that will be ignored in the analysis\n",
        "\n",
        "import matplotlib.pyplot as plt"
      ],
      "execution_count": 24,
      "outputs": []
    },
    {
      "cell_type": "code",
      "metadata": {
        "colab": {
          "base_uri": "https://localhost:8080/"
        },
        "id": "KwZhyiKK8LYW",
        "outputId": "bf5dcd2f-ffaa-40b4-e631-6010effd9c5d"
      },
      "source": [
        "from nltk.util import pad_sequence\n",
        "l=[]\n",
        "final=[]\n",
        "for t in final_data:\n",
        "  d=list(pad_sequence(t,pad_left=True, left_pad_symbol=\"<s>\",pad_right=True, right_pad_symbol=\"</s>\",n=2))\n",
        "  final.append(d)\n",
        "l=[]\n",
        "print(final)\n",
        "for t in final:\n",
        "  e=list(ngrams(t, n=3))\n",
        "  for li in e:\n",
        "    l.append(li)\n",
        "print(l);\n"
      ],
      "execution_count": 25,
      "outputs": [
        {
          "output_type": "stream",
          "name": "stdout",
          "text": [
            "[['<s>', 'Hallway', 'Utility', 'Kitchen', 'Utility', 'Kitchen', 'Utility', 'Hallway', 'Living', 'Kitchen', 'Bedroom', 'Utility', 'Hallway', 'Living', 'Kitchen', 'Bedroom', 'Hallway', 'Utility', 'Kitchen', 'Utility', '</s>'], ['<s>', 'Hallway', 'Utility', 'Kitchen', 'Utility', 'Kitchen', 'Utility', 'Hallway', 'Living', 'Kitchen', 'Bedroom', 'Utility', 'Hallway', 'Living', 'Kitchen', 'Bedroom', 'Hallway', 'Utility', 'Kitchen', 'Utility', '</s>'], ['<s>', 'Hallway', 'Utility', 'Kitchen', 'Utility', 'Kitchen', 'Utility', 'Hallway', 'Living', 'Kitchen', 'Bedroom', 'Utility', 'Hallway', 'Living', 'Kitchen', 'Bedroom', 'Hallway', 'Utility', 'Kitchen', 'Utility', '</s>'], ['<s>', 'Hallway', 'Utility', 'Kitchen', 'Utility', 'Kitchen', 'Utility', 'Hallway', 'Living', 'Kitchen', 'Bedroom', 'Utility', 'Hallway', 'Living', 'Kitchen', 'Bedroom', 'Hallway', 'Utility', 'Kitchen', 'Utility', '</s>'], ['<s>', 'Hallway', 'Utility', 'Kitchen', 'Utility', 'Kitchen', 'Utility', 'Hallway', 'Living', 'Kitchen', 'Bedroom', 'Utility', 'Hallway', 'Living', 'Kitchen', 'Bedroom', 'Hallway', 'Utility', 'Kitchen', 'Utility', '</s>'], ['<s>', 'Hallway', 'Utility', 'Kitchen', 'Utility', 'Kitchen', 'Utility', 'Hallway', 'Living', 'Kitchen', 'Bedroom', 'Utility', 'Hallway', 'Living', 'Kitchen', 'Bedroom', 'Hallway', 'Utility', 'Kitchen', 'Utility', '</s>']]\n[('<s>', 'Hallway', 'Utility'), ('Hallway', 'Utility', 'Kitchen'), ('Utility', 'Kitchen', 'Utility'), ('Kitchen', 'Utility', 'Kitchen'), ('Utility', 'Kitchen', 'Utility'), ('Kitchen', 'Utility', 'Hallway'), ('Utility', 'Hallway', 'Living'), ('Hallway', 'Living', 'Kitchen'), ('Living', 'Kitchen', 'Bedroom'), ('Kitchen', 'Bedroom', 'Utility'), ('Bedroom', 'Utility', 'Hallway'), ('Utility', 'Hallway', 'Living'), ('Hallway', 'Living', 'Kitchen'), ('Living', 'Kitchen', 'Bedroom'), ('Kitchen', 'Bedroom', 'Hallway'), ('Bedroom', 'Hallway', 'Utility'), ('Hallway', 'Utility', 'Kitchen'), ('Utility', 'Kitchen', 'Utility'), ('Kitchen', 'Utility', '</s>'), ('<s>', 'Hallway', 'Utility'), ('Hallway', 'Utility', 'Kitchen'), ('Utility', 'Kitchen', 'Utility'), ('Kitchen', 'Utility', 'Kitchen'), ('Utility', 'Kitchen', 'Utility'), ('Kitchen', 'Utility', 'Hallway'), ('Utility', 'Hallway', 'Living'), ('Hallway', 'Living', 'Kitchen'), ('Living', 'Kitchen', 'Bedroom'), ('Kitchen', 'Bedroom', 'Utility'), ('Bedroom', 'Utility', 'Hallway'), ('Utility', 'Hallway', 'Living'), ('Hallway', 'Living', 'Kitchen'), ('Living', 'Kitchen', 'Bedroom'), ('Kitchen', 'Bedroom', 'Hallway'), ('Bedroom', 'Hallway', 'Utility'), ('Hallway', 'Utility', 'Kitchen'), ('Utility', 'Kitchen', 'Utility'), ('Kitchen', 'Utility', '</s>'), ('<s>', 'Hallway', 'Utility'), ('Hallway', 'Utility', 'Kitchen'), ('Utility', 'Kitchen', 'Utility'), ('Kitchen', 'Utility', 'Kitchen'), ('Utility', 'Kitchen', 'Utility'), ('Kitchen', 'Utility', 'Hallway'), ('Utility', 'Hallway', 'Living'), ('Hallway', 'Living', 'Kitchen'), ('Living', 'Kitchen', 'Bedroom'), ('Kitchen', 'Bedroom', 'Utility'), ('Bedroom', 'Utility', 'Hallway'), ('Utility', 'Hallway', 'Living'), ('Hallway', 'Living', 'Kitchen'), ('Living', 'Kitchen', 'Bedroom'), ('Kitchen', 'Bedroom', 'Hallway'), ('Bedroom', 'Hallway', 'Utility'), ('Hallway', 'Utility', 'Kitchen'), ('Utility', 'Kitchen', 'Utility'), ('Kitchen', 'Utility', '</s>'), ('<s>', 'Hallway', 'Utility'), ('Hallway', 'Utility', 'Kitchen'), ('Utility', 'Kitchen', 'Utility'), ('Kitchen', 'Utility', 'Kitchen'), ('Utility', 'Kitchen', 'Utility'), ('Kitchen', 'Utility', 'Hallway'), ('Utility', 'Hallway', 'Living'), ('Hallway', 'Living', 'Kitchen'), ('Living', 'Kitchen', 'Bedroom'), ('Kitchen', 'Bedroom', 'Utility'), ('Bedroom', 'Utility', 'Hallway'), ('Utility', 'Hallway', 'Living'), ('Hallway', 'Living', 'Kitchen'), ('Living', 'Kitchen', 'Bedroom'), ('Kitchen', 'Bedroom', 'Hallway'), ('Bedroom', 'Hallway', 'Utility'), ('Hallway', 'Utility', 'Kitchen'), ('Utility', 'Kitchen', 'Utility'), ('Kitchen', 'Utility', '</s>'), ('<s>', 'Hallway', 'Utility'), ('Hallway', 'Utility', 'Kitchen'), ('Utility', 'Kitchen', 'Utility'), ('Kitchen', 'Utility', 'Kitchen'), ('Utility', 'Kitchen', 'Utility'), ('Kitchen', 'Utility', 'Hallway'), ('Utility', 'Hallway', 'Living'), ('Hallway', 'Living', 'Kitchen'), ('Living', 'Kitchen', 'Bedroom'), ('Kitchen', 'Bedroom', 'Utility'), ('Bedroom', 'Utility', 'Hallway'), ('Utility', 'Hallway', 'Living'), ('Hallway', 'Living', 'Kitchen'), ('Living', 'Kitchen', 'Bedroom'), ('Kitchen', 'Bedroom', 'Hallway'), ('Bedroom', 'Hallway', 'Utility'), ('Hallway', 'Utility', 'Kitchen'), ('Utility', 'Kitchen', 'Utility'), ('Kitchen', 'Utility', '</s>'), ('<s>', 'Hallway', 'Utility'), ('Hallway', 'Utility', 'Kitchen'), ('Utility', 'Kitchen', 'Utility'), ('Kitchen', 'Utility', 'Kitchen'), ('Utility', 'Kitchen', 'Utility'), ('Kitchen', 'Utility', 'Hallway'), ('Utility', 'Hallway', 'Living'), ('Hallway', 'Living', 'Kitchen'), ('Living', 'Kitchen', 'Bedroom'), ('Kitchen', 'Bedroom', 'Utility'), ('Bedroom', 'Utility', 'Hallway'), ('Utility', 'Hallway', 'Living'), ('Hallway', 'Living', 'Kitchen'), ('Living', 'Kitchen', 'Bedroom'), ('Kitchen', 'Bedroom', 'Hallway'), ('Bedroom', 'Hallway', 'Utility'), ('Hallway', 'Utility', 'Kitchen'), ('Utility', 'Kitchen', 'Utility'), ('Kitchen', 'Utility', '</s>')]\n"
          ]
        }
      ]
    },
    {
      "cell_type": "code",
      "metadata": {
        "colab": {
          "base_uri": "https://localhost:8080/",
          "height": 500
        },
        "id": "SkaJv4zA9KhX",
        "outputId": "bd5c5b73-e4b8-4567-b48e-bcef83643258"
      },
      "source": [
        "trigrams_series = pd.Series(l).value_counts()\n",
        "trigrams_series.sort_values().plot.barh(color='blue', width=.9, figsize=(12, 8))"
      ],
      "execution_count": 26,
      "outputs": [
        {
          "output_type": "execute_result",
          "data": {
            "text/plain": [
              "<AxesSubplot:>"
            ]
          },
          "metadata": {},
          "execution_count": 26
        },
        {
          "output_type": "display_data",
          "data": {
            "text/plain": "<Figure size 864x576 with 1 Axes>",
            "image/svg+xml": "<?xml version=\"1.0\" encoding=\"utf-8\" standalone=\"no\"?>\r\n<!DOCTYPE svg PUBLIC \"-//W3C//DTD SVG 1.1//EN\"\r\n  \"http://www.w3.org/Graphics/SVG/1.1/DTD/svg11.dtd\">\r\n<!-- Created with matplotlib (https://matplotlib.org/) -->\r\n<svg height=\"465.958125pt\" version=\"1.1\" viewBox=\"0 0 833.754687 465.958125\" width=\"833.754687pt\" xmlns=\"http://www.w3.org/2000/svg\" xmlns:xlink=\"http://www.w3.org/1999/xlink\">\r\n <metadata>\r\n  <rdf:RDF xmlns:cc=\"http://creativecommons.org/ns#\" xmlns:dc=\"http://purl.org/dc/elements/1.1/\" xmlns:rdf=\"http://www.w3.org/1999/02/22-rdf-syntax-ns#\">\r\n   <cc:Work>\r\n    <dc:type rdf:resource=\"http://purl.org/dc/dcmitype/StillImage\"/>\r\n    <dc:date>2021-06-08T08:01:12.898063</dc:date>\r\n    <dc:format>image/svg+xml</dc:format>\r\n    <dc:creator>\r\n     <cc:Agent>\r\n      <dc:title>Matplotlib v3.3.2, https://matplotlib.org/</dc:title>\r\n     </cc:Agent>\r\n    </dc:creator>\r\n   </cc:Work>\r\n  </rdf:RDF>\r\n </metadata>\r\n <defs>\r\n  <style type=\"text/css\">*{stroke-linecap:butt;stroke-linejoin:round;}</style>\r\n </defs>\r\n <g id=\"figure_1\">\r\n  <g id=\"patch_1\">\r\n   <path d=\"M 0 465.958125 \r\nL 833.754687 465.958125 \r\nL 833.754687 0 \r\nL 0 0 \r\nz\r\n\" style=\"fill:none;\"/>\r\n  </g>\r\n  <g id=\"axes_1\">\r\n   <g id=\"patch_2\">\r\n    <path d=\"M 156.954688 442.08 \r\nL 826.554688 442.08 \r\nL 826.554688 7.2 \r\nL 156.954688 7.2 \r\nz\r\n\" style=\"fill:#ffffff;\"/>\r\n   </g>\r\n   <g id=\"patch_3\">\r\n    <path clip-path=\"url(#p2cd162be92)\" d=\"M 156.954688 433.966567 \r\nL 369.526116 433.966567 \r\nL 369.526116 404.758209 \r\nL 156.954688 404.758209 \r\nz\r\n\" style=\"fill:#0000ff;\"/>\r\n   </g>\r\n   <g id=\"patch_4\">\r\n    <path clip-path=\"url(#p2cd162be92)\" d=\"M 156.954688 401.512836 \r\nL 369.526116 401.512836 \r\nL 369.526116 372.304478 \r\nL 156.954688 372.304478 \r\nz\r\n\" style=\"fill:#0000ff;\"/>\r\n   </g>\r\n   <g id=\"patch_5\">\r\n    <path clip-path=\"url(#p2cd162be92)\" d=\"M 156.954688 369.059104 \r\nL 369.526116 369.059104 \r\nL 369.526116 339.850746 \r\nL 156.954688 339.850746 \r\nz\r\n\" style=\"fill:#0000ff;\"/>\r\n   </g>\r\n   <g id=\"patch_6\">\r\n    <path clip-path=\"url(#p2cd162be92)\" d=\"M 156.954688 336.605373 \r\nL 369.526116 336.605373 \r\nL 369.526116 307.397015 \r\nL 156.954688 307.397015 \r\nz\r\n\" style=\"fill:#0000ff;\"/>\r\n   </g>\r\n   <g id=\"patch_7\">\r\n    <path clip-path=\"url(#p2cd162be92)\" d=\"M 156.954688 304.151642 \r\nL 369.526116 304.151642 \r\nL 369.526116 274.943284 \r\nL 156.954688 274.943284 \r\nz\r\n\" style=\"fill:#0000ff;\"/>\r\n   </g>\r\n   <g id=\"patch_8\">\r\n    <path clip-path=\"url(#p2cd162be92)\" d=\"M 156.954688 271.69791 \r\nL 369.526116 271.69791 \r\nL 369.526116 242.489552 \r\nL 156.954688 242.489552 \r\nz\r\n\" style=\"fill:#0000ff;\"/>\r\n   </g>\r\n   <g id=\"patch_9\">\r\n    <path clip-path=\"url(#p2cd162be92)\" d=\"M 156.954688 239.244179 \r\nL 369.526116 239.244179 \r\nL 369.526116 210.035821 \r\nL 156.954688 210.035821 \r\nz\r\n\" style=\"fill:#0000ff;\"/>\r\n   </g>\r\n   <g id=\"patch_10\">\r\n    <path clip-path=\"url(#p2cd162be92)\" d=\"M 156.954688 206.790448 \r\nL 369.526116 206.790448 \r\nL 369.526116 177.58209 \r\nL 156.954688 177.58209 \r\nz\r\n\" style=\"fill:#0000ff;\"/>\r\n   </g>\r\n   <g id=\"patch_11\">\r\n    <path clip-path=\"url(#p2cd162be92)\" d=\"M 156.954688 174.336716 \r\nL 582.097545 174.336716 \r\nL 582.097545 145.128358 \r\nL 156.954688 145.128358 \r\nz\r\n\" style=\"fill:#0000ff;\"/>\r\n   </g>\r\n   <g id=\"patch_12\">\r\n    <path clip-path=\"url(#p2cd162be92)\" d=\"M 156.954688 141.882985 \r\nL 582.097545 141.882985 \r\nL 582.097545 112.674627 \r\nL 156.954688 112.674627 \r\nz\r\n\" style=\"fill:#0000ff;\"/>\r\n   </g>\r\n   <g id=\"patch_13\">\r\n    <path clip-path=\"url(#p2cd162be92)\" d=\"M 156.954688 109.429254 \r\nL 582.097545 109.429254 \r\nL 582.097545 80.220896 \r\nL 156.954688 80.220896 \r\nz\r\n\" style=\"fill:#0000ff;\"/>\r\n   </g>\r\n   <g id=\"patch_14\">\r\n    <path clip-path=\"url(#p2cd162be92)\" d=\"M 156.954688 76.975522 \r\nL 582.097545 76.975522 \r\nL 582.097545 47.767164 \r\nL 156.954688 47.767164 \r\nz\r\n\" style=\"fill:#0000ff;\"/>\r\n   </g>\r\n   <g id=\"patch_15\">\r\n    <path clip-path=\"url(#p2cd162be92)\" d=\"M 156.954688 44.521791 \r\nL 794.668973 44.521791 \r\nL 794.668973 15.313433 \r\nL 156.954688 15.313433 \r\nz\r\n\" style=\"fill:#0000ff;\"/>\r\n   </g>\r\n   <g id=\"matplotlib.axis_1\">\r\n    <g id=\"xtick_1\">\r\n     <g id=\"line2d_1\">\r\n      <defs>\r\n       <path d=\"M 0 0 \r\nL 0 3.5 \r\n\" id=\"m76156c05e1\" style=\"stroke:#000000;stroke-width:0.8;\"/>\r\n      </defs>\r\n      <g>\r\n       <use style=\"stroke:#000000;stroke-width:0.8;\" x=\"156.954688\" xlink:href=\"#m76156c05e1\" y=\"442.08\"/>\r\n      </g>\r\n     </g>\r\n     <g id=\"text_1\">\r\n      <!-- 0.0 -->\r\n      <g transform=\"translate(149.003125 456.678437)scale(0.1 -0.1)\">\r\n       <defs>\r\n        <path d=\"M 31.78125 66.40625 \r\nQ 24.171875 66.40625 20.328125 58.90625 \r\nQ 16.5 51.421875 16.5 36.375 \r\nQ 16.5 21.390625 20.328125 13.890625 \r\nQ 24.171875 6.390625 31.78125 6.390625 \r\nQ 39.453125 6.390625 43.28125 13.890625 \r\nQ 47.125 21.390625 47.125 36.375 \r\nQ 47.125 51.421875 43.28125 58.90625 \r\nQ 39.453125 66.40625 31.78125 66.40625 \r\nz\r\nM 31.78125 74.21875 \r\nQ 44.046875 74.21875 50.515625 64.515625 \r\nQ 56.984375 54.828125 56.984375 36.375 \r\nQ 56.984375 17.96875 50.515625 8.265625 \r\nQ 44.046875 -1.421875 31.78125 -1.421875 \r\nQ 19.53125 -1.421875 13.0625 8.265625 \r\nQ 6.59375 17.96875 6.59375 36.375 \r\nQ 6.59375 54.828125 13.0625 64.515625 \r\nQ 19.53125 74.21875 31.78125 74.21875 \r\nz\r\n\" id=\"DejaVuSans-48\"/>\r\n        <path d=\"M 10.6875 12.40625 \r\nL 21 12.40625 \r\nL 21 0 \r\nL 10.6875 0 \r\nz\r\n\" id=\"DejaVuSans-46\"/>\r\n       </defs>\r\n       <use xlink:href=\"#DejaVuSans-48\"/>\r\n       <use x=\"63.623047\" xlink:href=\"#DejaVuSans-46\"/>\r\n       <use x=\"95.410156\" xlink:href=\"#DejaVuSans-48\"/>\r\n      </g>\r\n     </g>\r\n    </g>\r\n    <g id=\"xtick_2\">\r\n     <g id=\"line2d_2\">\r\n      <g>\r\n       <use style=\"stroke:#000000;stroke-width:0.8;\" x=\"245.526116\" xlink:href=\"#m76156c05e1\" y=\"442.08\"/>\r\n      </g>\r\n     </g>\r\n     <g id=\"text_2\">\r\n      <!-- 2.5 -->\r\n      <g transform=\"translate(237.574554 456.678437)scale(0.1 -0.1)\">\r\n       <defs>\r\n        <path d=\"M 19.1875 8.296875 \r\nL 53.609375 8.296875 \r\nL 53.609375 0 \r\nL 7.328125 0 \r\nL 7.328125 8.296875 \r\nQ 12.9375 14.109375 22.625 23.890625 \r\nQ 32.328125 33.6875 34.8125 36.53125 \r\nQ 39.546875 41.84375 41.421875 45.53125 \r\nQ 43.3125 49.21875 43.3125 52.78125 \r\nQ 43.3125 58.59375 39.234375 62.25 \r\nQ 35.15625 65.921875 28.609375 65.921875 \r\nQ 23.96875 65.921875 18.8125 64.3125 \r\nQ 13.671875 62.703125 7.8125 59.421875 \r\nL 7.8125 69.390625 \r\nQ 13.765625 71.78125 18.9375 73 \r\nQ 24.125 74.21875 28.421875 74.21875 \r\nQ 39.75 74.21875 46.484375 68.546875 \r\nQ 53.21875 62.890625 53.21875 53.421875 \r\nQ 53.21875 48.921875 51.53125 44.890625 \r\nQ 49.859375 40.875 45.40625 35.40625 \r\nQ 44.1875 33.984375 37.640625 27.21875 \r\nQ 31.109375 20.453125 19.1875 8.296875 \r\nz\r\n\" id=\"DejaVuSans-50\"/>\r\n        <path d=\"M 10.796875 72.90625 \r\nL 49.515625 72.90625 \r\nL 49.515625 64.59375 \r\nL 19.828125 64.59375 \r\nL 19.828125 46.734375 \r\nQ 21.96875 47.46875 24.109375 47.828125 \r\nQ 26.265625 48.1875 28.421875 48.1875 \r\nQ 40.625 48.1875 47.75 41.5 \r\nQ 54.890625 34.8125 54.890625 23.390625 \r\nQ 54.890625 11.625 47.5625 5.09375 \r\nQ 40.234375 -1.421875 26.90625 -1.421875 \r\nQ 22.3125 -1.421875 17.546875 -0.640625 \r\nQ 12.796875 0.140625 7.71875 1.703125 \r\nL 7.71875 11.625 \r\nQ 12.109375 9.234375 16.796875 8.0625 \r\nQ 21.484375 6.890625 26.703125 6.890625 \r\nQ 35.15625 6.890625 40.078125 11.328125 \r\nQ 45.015625 15.765625 45.015625 23.390625 \r\nQ 45.015625 31 40.078125 35.4375 \r\nQ 35.15625 39.890625 26.703125 39.890625 \r\nQ 22.75 39.890625 18.8125 39.015625 \r\nQ 14.890625 38.140625 10.796875 36.28125 \r\nz\r\n\" id=\"DejaVuSans-53\"/>\r\n       </defs>\r\n       <use xlink:href=\"#DejaVuSans-50\"/>\r\n       <use x=\"63.623047\" xlink:href=\"#DejaVuSans-46\"/>\r\n       <use x=\"95.410156\" xlink:href=\"#DejaVuSans-53\"/>\r\n      </g>\r\n     </g>\r\n    </g>\r\n    <g id=\"xtick_3\">\r\n     <g id=\"line2d_3\">\r\n      <g>\r\n       <use style=\"stroke:#000000;stroke-width:0.8;\" x=\"334.097545\" xlink:href=\"#m76156c05e1\" y=\"442.08\"/>\r\n      </g>\r\n     </g>\r\n     <g id=\"text_3\">\r\n      <!-- 5.0 -->\r\n      <g transform=\"translate(326.145982 456.678437)scale(0.1 -0.1)\">\r\n       <use xlink:href=\"#DejaVuSans-53\"/>\r\n       <use x=\"63.623047\" xlink:href=\"#DejaVuSans-46\"/>\r\n       <use x=\"95.410156\" xlink:href=\"#DejaVuSans-48\"/>\r\n      </g>\r\n     </g>\r\n    </g>\r\n    <g id=\"xtick_4\">\r\n     <g id=\"line2d_4\">\r\n      <g>\r\n       <use style=\"stroke:#000000;stroke-width:0.8;\" x=\"422.668973\" xlink:href=\"#m76156c05e1\" y=\"442.08\"/>\r\n      </g>\r\n     </g>\r\n     <g id=\"text_4\">\r\n      <!-- 7.5 -->\r\n      <g transform=\"translate(414.717411 456.678437)scale(0.1 -0.1)\">\r\n       <defs>\r\n        <path d=\"M 8.203125 72.90625 \r\nL 55.078125 72.90625 \r\nL 55.078125 68.703125 \r\nL 28.609375 0 \r\nL 18.3125 0 \r\nL 43.21875 64.59375 \r\nL 8.203125 64.59375 \r\nz\r\n\" id=\"DejaVuSans-55\"/>\r\n       </defs>\r\n       <use xlink:href=\"#DejaVuSans-55\"/>\r\n       <use x=\"63.623047\" xlink:href=\"#DejaVuSans-46\"/>\r\n       <use x=\"95.410156\" xlink:href=\"#DejaVuSans-53\"/>\r\n      </g>\r\n     </g>\r\n    </g>\r\n    <g id=\"xtick_5\">\r\n     <g id=\"line2d_5\">\r\n      <g>\r\n       <use style=\"stroke:#000000;stroke-width:0.8;\" x=\"511.240402\" xlink:href=\"#m76156c05e1\" y=\"442.08\"/>\r\n      </g>\r\n     </g>\r\n     <g id=\"text_5\">\r\n      <!-- 10.0 -->\r\n      <g transform=\"translate(500.107589 456.678437)scale(0.1 -0.1)\">\r\n       <defs>\r\n        <path d=\"M 12.40625 8.296875 \r\nL 28.515625 8.296875 \r\nL 28.515625 63.921875 \r\nL 10.984375 60.40625 \r\nL 10.984375 69.390625 \r\nL 28.421875 72.90625 \r\nL 38.28125 72.90625 \r\nL 38.28125 8.296875 \r\nL 54.390625 8.296875 \r\nL 54.390625 0 \r\nL 12.40625 0 \r\nz\r\n\" id=\"DejaVuSans-49\"/>\r\n       </defs>\r\n       <use xlink:href=\"#DejaVuSans-49\"/>\r\n       <use x=\"63.623047\" xlink:href=\"#DejaVuSans-48\"/>\r\n       <use x=\"127.246094\" xlink:href=\"#DejaVuSans-46\"/>\r\n       <use x=\"159.033203\" xlink:href=\"#DejaVuSans-48\"/>\r\n      </g>\r\n     </g>\r\n    </g>\r\n    <g id=\"xtick_6\">\r\n     <g id=\"line2d_6\">\r\n      <g>\r\n       <use style=\"stroke:#000000;stroke-width:0.8;\" x=\"599.81183\" xlink:href=\"#m76156c05e1\" y=\"442.08\"/>\r\n      </g>\r\n     </g>\r\n     <g id=\"text_6\">\r\n      <!-- 12.5 -->\r\n      <g transform=\"translate(588.679018 456.678437)scale(0.1 -0.1)\">\r\n       <use xlink:href=\"#DejaVuSans-49\"/>\r\n       <use x=\"63.623047\" xlink:href=\"#DejaVuSans-50\"/>\r\n       <use x=\"127.246094\" xlink:href=\"#DejaVuSans-46\"/>\r\n       <use x=\"159.033203\" xlink:href=\"#DejaVuSans-53\"/>\r\n      </g>\r\n     </g>\r\n    </g>\r\n    <g id=\"xtick_7\">\r\n     <g id=\"line2d_7\">\r\n      <g>\r\n       <use style=\"stroke:#000000;stroke-width:0.8;\" x=\"688.383259\" xlink:href=\"#m76156c05e1\" y=\"442.08\"/>\r\n      </g>\r\n     </g>\r\n     <g id=\"text_7\">\r\n      <!-- 15.0 -->\r\n      <g transform=\"translate(677.250446 456.678437)scale(0.1 -0.1)\">\r\n       <use xlink:href=\"#DejaVuSans-49\"/>\r\n       <use x=\"63.623047\" xlink:href=\"#DejaVuSans-53\"/>\r\n       <use x=\"127.246094\" xlink:href=\"#DejaVuSans-46\"/>\r\n       <use x=\"159.033203\" xlink:href=\"#DejaVuSans-48\"/>\r\n      </g>\r\n     </g>\r\n    </g>\r\n    <g id=\"xtick_8\">\r\n     <g id=\"line2d_8\">\r\n      <g>\r\n       <use style=\"stroke:#000000;stroke-width:0.8;\" x=\"776.954687\" xlink:href=\"#m76156c05e1\" y=\"442.08\"/>\r\n      </g>\r\n     </g>\r\n     <g id=\"text_8\">\r\n      <!-- 17.5 -->\r\n      <g transform=\"translate(765.821875 456.678437)scale(0.1 -0.1)\">\r\n       <use xlink:href=\"#DejaVuSans-49\"/>\r\n       <use x=\"63.623047\" xlink:href=\"#DejaVuSans-55\"/>\r\n       <use x=\"127.246094\" xlink:href=\"#DejaVuSans-46\"/>\r\n       <use x=\"159.033203\" xlink:href=\"#DejaVuSans-53\"/>\r\n      </g>\r\n     </g>\r\n    </g>\r\n   </g>\r\n   <g id=\"matplotlib.axis_2\">\r\n    <g id=\"ytick_1\">\r\n     <g id=\"line2d_9\">\r\n      <defs>\r\n       <path d=\"M 0 0 \r\nL -3.5 0 \r\n\" id=\"m7a1d387452\" style=\"stroke:#000000;stroke-width:0.8;\"/>\r\n      </defs>\r\n      <g>\r\n       <use style=\"stroke:#000000;stroke-width:0.8;\" x=\"156.954688\" xlink:href=\"#m7a1d387452\" y=\"419.362388\"/>\r\n      </g>\r\n     </g>\r\n     <g id=\"text_9\">\r\n      <!-- (Kitchen, Bedroom, Hallway) -->\r\n      <g transform=\"translate(7.2 423.161607)scale(0.1 -0.1)\">\r\n       <defs>\r\n        <path d=\"M 31 75.875 \r\nQ 24.46875 64.65625 21.28125 53.65625 \r\nQ 18.109375 42.671875 18.109375 31.390625 \r\nQ 18.109375 20.125 21.3125 9.0625 \r\nQ 24.515625 -2 31 -13.1875 \r\nL 23.1875 -13.1875 \r\nQ 15.875 -1.703125 12.234375 9.375 \r\nQ 8.59375 20.453125 8.59375 31.390625 \r\nQ 8.59375 42.28125 12.203125 53.3125 \r\nQ 15.828125 64.359375 23.1875 75.875 \r\nz\r\n\" id=\"DejaVuSans-40\"/>\r\n        <path d=\"M 9.8125 72.90625 \r\nL 19.671875 72.90625 \r\nL 19.671875 42.09375 \r\nL 52.390625 72.90625 \r\nL 65.09375 72.90625 \r\nL 28.90625 38.921875 \r\nL 67.671875 0 \r\nL 54.6875 0 \r\nL 19.671875 35.109375 \r\nL 19.671875 0 \r\nL 9.8125 0 \r\nz\r\n\" id=\"DejaVuSans-75\"/>\r\n        <path d=\"M 9.421875 54.6875 \r\nL 18.40625 54.6875 \r\nL 18.40625 0 \r\nL 9.421875 0 \r\nz\r\nM 9.421875 75.984375 \r\nL 18.40625 75.984375 \r\nL 18.40625 64.59375 \r\nL 9.421875 64.59375 \r\nz\r\n\" id=\"DejaVuSans-105\"/>\r\n        <path d=\"M 18.3125 70.21875 \r\nL 18.3125 54.6875 \r\nL 36.8125 54.6875 \r\nL 36.8125 47.703125 \r\nL 18.3125 47.703125 \r\nL 18.3125 18.015625 \r\nQ 18.3125 11.328125 20.140625 9.421875 \r\nQ 21.96875 7.515625 27.59375 7.515625 \r\nL 36.8125 7.515625 \r\nL 36.8125 0 \r\nL 27.59375 0 \r\nQ 17.1875 0 13.234375 3.875 \r\nQ 9.28125 7.765625 9.28125 18.015625 \r\nL 9.28125 47.703125 \r\nL 2.6875 47.703125 \r\nL 2.6875 54.6875 \r\nL 9.28125 54.6875 \r\nL 9.28125 70.21875 \r\nz\r\n\" id=\"DejaVuSans-116\"/>\r\n        <path d=\"M 48.78125 52.59375 \r\nL 48.78125 44.1875 \r\nQ 44.96875 46.296875 41.140625 47.34375 \r\nQ 37.3125 48.390625 33.40625 48.390625 \r\nQ 24.65625 48.390625 19.8125 42.84375 \r\nQ 14.984375 37.3125 14.984375 27.296875 \r\nQ 14.984375 17.28125 19.8125 11.734375 \r\nQ 24.65625 6.203125 33.40625 6.203125 \r\nQ 37.3125 6.203125 41.140625 7.25 \r\nQ 44.96875 8.296875 48.78125 10.40625 \r\nL 48.78125 2.09375 \r\nQ 45.015625 0.34375 40.984375 -0.53125 \r\nQ 36.96875 -1.421875 32.421875 -1.421875 \r\nQ 20.0625 -1.421875 12.78125 6.34375 \r\nQ 5.515625 14.109375 5.515625 27.296875 \r\nQ 5.515625 40.671875 12.859375 48.328125 \r\nQ 20.21875 56 33.015625 56 \r\nQ 37.15625 56 41.109375 55.140625 \r\nQ 45.0625 54.296875 48.78125 52.59375 \r\nz\r\n\" id=\"DejaVuSans-99\"/>\r\n        <path d=\"M 54.890625 33.015625 \r\nL 54.890625 0 \r\nL 45.90625 0 \r\nL 45.90625 32.71875 \r\nQ 45.90625 40.484375 42.875 44.328125 \r\nQ 39.84375 48.1875 33.796875 48.1875 \r\nQ 26.515625 48.1875 22.3125 43.546875 \r\nQ 18.109375 38.921875 18.109375 30.90625 \r\nL 18.109375 0 \r\nL 9.078125 0 \r\nL 9.078125 75.984375 \r\nL 18.109375 75.984375 \r\nL 18.109375 46.1875 \r\nQ 21.34375 51.125 25.703125 53.5625 \r\nQ 30.078125 56 35.796875 56 \r\nQ 45.21875 56 50.046875 50.171875 \r\nQ 54.890625 44.34375 54.890625 33.015625 \r\nz\r\n\" id=\"DejaVuSans-104\"/>\r\n        <path d=\"M 56.203125 29.59375 \r\nL 56.203125 25.203125 \r\nL 14.890625 25.203125 \r\nQ 15.484375 15.921875 20.484375 11.0625 \r\nQ 25.484375 6.203125 34.421875 6.203125 \r\nQ 39.59375 6.203125 44.453125 7.46875 \r\nQ 49.3125 8.734375 54.109375 11.28125 \r\nL 54.109375 2.78125 \r\nQ 49.265625 0.734375 44.1875 -0.34375 \r\nQ 39.109375 -1.421875 33.890625 -1.421875 \r\nQ 20.796875 -1.421875 13.15625 6.1875 \r\nQ 5.515625 13.8125 5.515625 26.8125 \r\nQ 5.515625 40.234375 12.765625 48.109375 \r\nQ 20.015625 56 32.328125 56 \r\nQ 43.359375 56 49.78125 48.890625 \r\nQ 56.203125 41.796875 56.203125 29.59375 \r\nz\r\nM 47.21875 32.234375 \r\nQ 47.125 39.59375 43.09375 43.984375 \r\nQ 39.0625 48.390625 32.421875 48.390625 \r\nQ 24.90625 48.390625 20.390625 44.140625 \r\nQ 15.875 39.890625 15.1875 32.171875 \r\nz\r\n\" id=\"DejaVuSans-101\"/>\r\n        <path d=\"M 54.890625 33.015625 \r\nL 54.890625 0 \r\nL 45.90625 0 \r\nL 45.90625 32.71875 \r\nQ 45.90625 40.484375 42.875 44.328125 \r\nQ 39.84375 48.1875 33.796875 48.1875 \r\nQ 26.515625 48.1875 22.3125 43.546875 \r\nQ 18.109375 38.921875 18.109375 30.90625 \r\nL 18.109375 0 \r\nL 9.078125 0 \r\nL 9.078125 54.6875 \r\nL 18.109375 54.6875 \r\nL 18.109375 46.1875 \r\nQ 21.34375 51.125 25.703125 53.5625 \r\nQ 30.078125 56 35.796875 56 \r\nQ 45.21875 56 50.046875 50.171875 \r\nQ 54.890625 44.34375 54.890625 33.015625 \r\nz\r\n\" id=\"DejaVuSans-110\"/>\r\n        <path d=\"M 11.71875 12.40625 \r\nL 22.015625 12.40625 \r\nL 22.015625 4 \r\nL 14.015625 -11.625 \r\nL 7.71875 -11.625 \r\nL 11.71875 4 \r\nz\r\n\" id=\"DejaVuSans-44\"/>\r\n        <path id=\"DejaVuSans-32\"/>\r\n        <path d=\"M 19.671875 34.8125 \r\nL 19.671875 8.109375 \r\nL 35.5 8.109375 \r\nQ 43.453125 8.109375 47.28125 11.40625 \r\nQ 51.125 14.703125 51.125 21.484375 \r\nQ 51.125 28.328125 47.28125 31.5625 \r\nQ 43.453125 34.8125 35.5 34.8125 \r\nz\r\nM 19.671875 64.796875 \r\nL 19.671875 42.828125 \r\nL 34.28125 42.828125 \r\nQ 41.5 42.828125 45.03125 45.53125 \r\nQ 48.578125 48.25 48.578125 53.8125 \r\nQ 48.578125 59.328125 45.03125 62.0625 \r\nQ 41.5 64.796875 34.28125 64.796875 \r\nz\r\nM 9.8125 72.90625 \r\nL 35.015625 72.90625 \r\nQ 46.296875 72.90625 52.390625 68.21875 \r\nQ 58.5 63.53125 58.5 54.890625 \r\nQ 58.5 48.1875 55.375 44.234375 \r\nQ 52.25 40.28125 46.1875 39.3125 \r\nQ 53.46875 37.75 57.5 32.78125 \r\nQ 61.53125 27.828125 61.53125 20.40625 \r\nQ 61.53125 10.640625 54.890625 5.3125 \r\nQ 48.25 0 35.984375 0 \r\nL 9.8125 0 \r\nz\r\n\" id=\"DejaVuSans-66\"/>\r\n        <path d=\"M 45.40625 46.390625 \r\nL 45.40625 75.984375 \r\nL 54.390625 75.984375 \r\nL 54.390625 0 \r\nL 45.40625 0 \r\nL 45.40625 8.203125 \r\nQ 42.578125 3.328125 38.25 0.953125 \r\nQ 33.9375 -1.421875 27.875 -1.421875 \r\nQ 17.96875 -1.421875 11.734375 6.484375 \r\nQ 5.515625 14.40625 5.515625 27.296875 \r\nQ 5.515625 40.1875 11.734375 48.09375 \r\nQ 17.96875 56 27.875 56 \r\nQ 33.9375 56 38.25 53.625 \r\nQ 42.578125 51.265625 45.40625 46.390625 \r\nz\r\nM 14.796875 27.296875 \r\nQ 14.796875 17.390625 18.875 11.75 \r\nQ 22.953125 6.109375 30.078125 6.109375 \r\nQ 37.203125 6.109375 41.296875 11.75 \r\nQ 45.40625 17.390625 45.40625 27.296875 \r\nQ 45.40625 37.203125 41.296875 42.84375 \r\nQ 37.203125 48.484375 30.078125 48.484375 \r\nQ 22.953125 48.484375 18.875 42.84375 \r\nQ 14.796875 37.203125 14.796875 27.296875 \r\nz\r\n\" id=\"DejaVuSans-100\"/>\r\n        <path d=\"M 41.109375 46.296875 \r\nQ 39.59375 47.171875 37.8125 47.578125 \r\nQ 36.03125 48 33.890625 48 \r\nQ 26.265625 48 22.1875 43.046875 \r\nQ 18.109375 38.09375 18.109375 28.8125 \r\nL 18.109375 0 \r\nL 9.078125 0 \r\nL 9.078125 54.6875 \r\nL 18.109375 54.6875 \r\nL 18.109375 46.1875 \r\nQ 20.953125 51.171875 25.484375 53.578125 \r\nQ 30.03125 56 36.53125 56 \r\nQ 37.453125 56 38.578125 55.875 \r\nQ 39.703125 55.765625 41.0625 55.515625 \r\nz\r\n\" id=\"DejaVuSans-114\"/>\r\n        <path d=\"M 30.609375 48.390625 \r\nQ 23.390625 48.390625 19.1875 42.75 \r\nQ 14.984375 37.109375 14.984375 27.296875 \r\nQ 14.984375 17.484375 19.15625 11.84375 \r\nQ 23.34375 6.203125 30.609375 6.203125 \r\nQ 37.796875 6.203125 41.984375 11.859375 \r\nQ 46.1875 17.53125 46.1875 27.296875 \r\nQ 46.1875 37.015625 41.984375 42.703125 \r\nQ 37.796875 48.390625 30.609375 48.390625 \r\nz\r\nM 30.609375 56 \r\nQ 42.328125 56 49.015625 48.375 \r\nQ 55.71875 40.765625 55.71875 27.296875 \r\nQ 55.71875 13.875 49.015625 6.21875 \r\nQ 42.328125 -1.421875 30.609375 -1.421875 \r\nQ 18.84375 -1.421875 12.171875 6.21875 \r\nQ 5.515625 13.875 5.515625 27.296875 \r\nQ 5.515625 40.765625 12.171875 48.375 \r\nQ 18.84375 56 30.609375 56 \r\nz\r\n\" id=\"DejaVuSans-111\"/>\r\n        <path d=\"M 52 44.1875 \r\nQ 55.375 50.25 60.0625 53.125 \r\nQ 64.75 56 71.09375 56 \r\nQ 79.640625 56 84.28125 50.015625 \r\nQ 88.921875 44.046875 88.921875 33.015625 \r\nL 88.921875 0 \r\nL 79.890625 0 \r\nL 79.890625 32.71875 \r\nQ 79.890625 40.578125 77.09375 44.375 \r\nQ 74.3125 48.1875 68.609375 48.1875 \r\nQ 61.625 48.1875 57.5625 43.546875 \r\nQ 53.515625 38.921875 53.515625 30.90625 \r\nL 53.515625 0 \r\nL 44.484375 0 \r\nL 44.484375 32.71875 \r\nQ 44.484375 40.625 41.703125 44.40625 \r\nQ 38.921875 48.1875 33.109375 48.1875 \r\nQ 26.21875 48.1875 22.15625 43.53125 \r\nQ 18.109375 38.875 18.109375 30.90625 \r\nL 18.109375 0 \r\nL 9.078125 0 \r\nL 9.078125 54.6875 \r\nL 18.109375 54.6875 \r\nL 18.109375 46.1875 \r\nQ 21.1875 51.21875 25.484375 53.609375 \r\nQ 29.78125 56 35.6875 56 \r\nQ 41.65625 56 45.828125 52.96875 \r\nQ 50 49.953125 52 44.1875 \r\nz\r\n\" id=\"DejaVuSans-109\"/>\r\n        <path d=\"M 9.8125 72.90625 \r\nL 19.671875 72.90625 \r\nL 19.671875 43.015625 \r\nL 55.515625 43.015625 \r\nL 55.515625 72.90625 \r\nL 65.375 72.90625 \r\nL 65.375 0 \r\nL 55.515625 0 \r\nL 55.515625 34.71875 \r\nL 19.671875 34.71875 \r\nL 19.671875 0 \r\nL 9.8125 0 \r\nz\r\n\" id=\"DejaVuSans-72\"/>\r\n        <path d=\"M 34.28125 27.484375 \r\nQ 23.390625 27.484375 19.1875 25 \r\nQ 14.984375 22.515625 14.984375 16.5 \r\nQ 14.984375 11.71875 18.140625 8.90625 \r\nQ 21.296875 6.109375 26.703125 6.109375 \r\nQ 34.1875 6.109375 38.703125 11.40625 \r\nQ 43.21875 16.703125 43.21875 25.484375 \r\nL 43.21875 27.484375 \r\nz\r\nM 52.203125 31.203125 \r\nL 52.203125 0 \r\nL 43.21875 0 \r\nL 43.21875 8.296875 \r\nQ 40.140625 3.328125 35.546875 0.953125 \r\nQ 30.953125 -1.421875 24.3125 -1.421875 \r\nQ 15.921875 -1.421875 10.953125 3.296875 \r\nQ 6 8.015625 6 15.921875 \r\nQ 6 25.140625 12.171875 29.828125 \r\nQ 18.359375 34.515625 30.609375 34.515625 \r\nL 43.21875 34.515625 \r\nL 43.21875 35.40625 \r\nQ 43.21875 41.609375 39.140625 45 \r\nQ 35.0625 48.390625 27.6875 48.390625 \r\nQ 23 48.390625 18.546875 47.265625 \r\nQ 14.109375 46.140625 10.015625 43.890625 \r\nL 10.015625 52.203125 \r\nQ 14.9375 54.109375 19.578125 55.046875 \r\nQ 24.21875 56 28.609375 56 \r\nQ 40.484375 56 46.34375 49.84375 \r\nQ 52.203125 43.703125 52.203125 31.203125 \r\nz\r\n\" id=\"DejaVuSans-97\"/>\r\n        <path d=\"M 9.421875 75.984375 \r\nL 18.40625 75.984375 \r\nL 18.40625 0 \r\nL 9.421875 0 \r\nz\r\n\" id=\"DejaVuSans-108\"/>\r\n        <path d=\"M 4.203125 54.6875 \r\nL 13.1875 54.6875 \r\nL 24.421875 12.015625 \r\nL 35.59375 54.6875 \r\nL 46.1875 54.6875 \r\nL 57.421875 12.015625 \r\nL 68.609375 54.6875 \r\nL 77.59375 54.6875 \r\nL 63.28125 0 \r\nL 52.6875 0 \r\nL 40.921875 44.828125 \r\nL 29.109375 0 \r\nL 18.5 0 \r\nz\r\n\" id=\"DejaVuSans-119\"/>\r\n        <path d=\"M 32.171875 -5.078125 \r\nQ 28.375 -14.84375 24.75 -17.8125 \r\nQ 21.140625 -20.796875 15.09375 -20.796875 \r\nL 7.90625 -20.796875 \r\nL 7.90625 -13.28125 \r\nL 13.1875 -13.28125 \r\nQ 16.890625 -13.28125 18.9375 -11.515625 \r\nQ 21 -9.765625 23.484375 -3.21875 \r\nL 25.09375 0.875 \r\nL 2.984375 54.6875 \r\nL 12.5 54.6875 \r\nL 29.59375 11.921875 \r\nL 46.6875 54.6875 \r\nL 56.203125 54.6875 \r\nz\r\n\" id=\"DejaVuSans-121\"/>\r\n        <path d=\"M 8.015625 75.875 \r\nL 15.828125 75.875 \r\nQ 23.140625 64.359375 26.78125 53.3125 \r\nQ 30.421875 42.28125 30.421875 31.390625 \r\nQ 30.421875 20.453125 26.78125 9.375 \r\nQ 23.140625 -1.703125 15.828125 -13.1875 \r\nL 8.015625 -13.1875 \r\nQ 14.5 -2 17.703125 9.0625 \r\nQ 20.90625 20.125 20.90625 31.390625 \r\nQ 20.90625 42.671875 17.703125 53.65625 \r\nQ 14.5 64.65625 8.015625 75.875 \r\nz\r\n\" id=\"DejaVuSans-41\"/>\r\n       </defs>\r\n       <use xlink:href=\"#DejaVuSans-40\"/>\r\n       <use x=\"39.013672\" xlink:href=\"#DejaVuSans-75\"/>\r\n       <use x=\"104.589844\" xlink:href=\"#DejaVuSans-105\"/>\r\n       <use x=\"132.373047\" xlink:href=\"#DejaVuSans-116\"/>\r\n       <use x=\"171.582031\" xlink:href=\"#DejaVuSans-99\"/>\r\n       <use x=\"226.5625\" xlink:href=\"#DejaVuSans-104\"/>\r\n       <use x=\"289.941406\" xlink:href=\"#DejaVuSans-101\"/>\r\n       <use x=\"351.464844\" xlink:href=\"#DejaVuSans-110\"/>\r\n       <use x=\"414.84375\" xlink:href=\"#DejaVuSans-44\"/>\r\n       <use x=\"446.630859\" xlink:href=\"#DejaVuSans-32\"/>\r\n       <use x=\"478.417969\" xlink:href=\"#DejaVuSans-66\"/>\r\n       <use x=\"547.021484\" xlink:href=\"#DejaVuSans-101\"/>\r\n       <use x=\"608.544922\" xlink:href=\"#DejaVuSans-100\"/>\r\n       <use x=\"672.021484\" xlink:href=\"#DejaVuSans-114\"/>\r\n       <use x=\"710.884766\" xlink:href=\"#DejaVuSans-111\"/>\r\n       <use x=\"772.066406\" xlink:href=\"#DejaVuSans-111\"/>\r\n       <use x=\"833.248047\" xlink:href=\"#DejaVuSans-109\"/>\r\n       <use x=\"930.660156\" xlink:href=\"#DejaVuSans-44\"/>\r\n       <use x=\"962.447266\" xlink:href=\"#DejaVuSans-32\"/>\r\n       <use x=\"994.234375\" xlink:href=\"#DejaVuSans-72\"/>\r\n       <use x=\"1069.429688\" xlink:href=\"#DejaVuSans-97\"/>\r\n       <use x=\"1130.708984\" xlink:href=\"#DejaVuSans-108\"/>\r\n       <use x=\"1158.492188\" xlink:href=\"#DejaVuSans-108\"/>\r\n       <use x=\"1186.275391\" xlink:href=\"#DejaVuSans-119\"/>\r\n       <use x=\"1268.0625\" xlink:href=\"#DejaVuSans-97\"/>\r\n       <use x=\"1329.341797\" xlink:href=\"#DejaVuSans-121\"/>\r\n       <use x=\"1388.521484\" xlink:href=\"#DejaVuSans-41\"/>\r\n      </g>\r\n     </g>\r\n    </g>\r\n    <g id=\"ytick_2\">\r\n     <g id=\"line2d_10\">\r\n      <g>\r\n       <use style=\"stroke:#000000;stroke-width:0.8;\" x=\"156.954688\" xlink:href=\"#m7a1d387452\" y=\"386.908657\"/>\r\n      </g>\r\n     </g>\r\n     <g id=\"text_10\">\r\n      <!-- (Bedroom, Utility, Hallway) -->\r\n      <g transform=\"translate(15.370313 390.707875)scale(0.1 -0.1)\">\r\n       <defs>\r\n        <path d=\"M 8.6875 72.90625 \r\nL 18.609375 72.90625 \r\nL 18.609375 28.609375 \r\nQ 18.609375 16.890625 22.84375 11.734375 \r\nQ 27.09375 6.59375 36.625 6.59375 \r\nQ 46.09375 6.59375 50.34375 11.734375 \r\nQ 54.59375 16.890625 54.59375 28.609375 \r\nL 54.59375 72.90625 \r\nL 64.5 72.90625 \r\nL 64.5 27.390625 \r\nQ 64.5 13.140625 57.4375 5.859375 \r\nQ 50.390625 -1.421875 36.625 -1.421875 \r\nQ 22.796875 -1.421875 15.734375 5.859375 \r\nQ 8.6875 13.140625 8.6875 27.390625 \r\nz\r\n\" id=\"DejaVuSans-85\"/>\r\n       </defs>\r\n       <use xlink:href=\"#DejaVuSans-40\"/>\r\n       <use x=\"39.013672\" xlink:href=\"#DejaVuSans-66\"/>\r\n       <use x=\"107.617188\" xlink:href=\"#DejaVuSans-101\"/>\r\n       <use x=\"169.140625\" xlink:href=\"#DejaVuSans-100\"/>\r\n       <use x=\"232.617188\" xlink:href=\"#DejaVuSans-114\"/>\r\n       <use x=\"271.480469\" xlink:href=\"#DejaVuSans-111\"/>\r\n       <use x=\"332.662109\" xlink:href=\"#DejaVuSans-111\"/>\r\n       <use x=\"393.84375\" xlink:href=\"#DejaVuSans-109\"/>\r\n       <use x=\"491.255859\" xlink:href=\"#DejaVuSans-44\"/>\r\n       <use x=\"523.042969\" xlink:href=\"#DejaVuSans-32\"/>\r\n       <use x=\"554.830078\" xlink:href=\"#DejaVuSans-85\"/>\r\n       <use x=\"628.023438\" xlink:href=\"#DejaVuSans-116\"/>\r\n       <use x=\"667.232422\" xlink:href=\"#DejaVuSans-105\"/>\r\n       <use x=\"695.015625\" xlink:href=\"#DejaVuSans-108\"/>\r\n       <use x=\"722.798828\" xlink:href=\"#DejaVuSans-105\"/>\r\n       <use x=\"750.582031\" xlink:href=\"#DejaVuSans-116\"/>\r\n       <use x=\"789.791016\" xlink:href=\"#DejaVuSans-121\"/>\r\n       <use x=\"848.970703\" xlink:href=\"#DejaVuSans-44\"/>\r\n       <use x=\"880.757812\" xlink:href=\"#DejaVuSans-32\"/>\r\n       <use x=\"912.544922\" xlink:href=\"#DejaVuSans-72\"/>\r\n       <use x=\"987.740234\" xlink:href=\"#DejaVuSans-97\"/>\r\n       <use x=\"1049.019531\" xlink:href=\"#DejaVuSans-108\"/>\r\n       <use x=\"1076.802734\" xlink:href=\"#DejaVuSans-108\"/>\r\n       <use x=\"1104.585938\" xlink:href=\"#DejaVuSans-119\"/>\r\n       <use x=\"1186.373047\" xlink:href=\"#DejaVuSans-97\"/>\r\n       <use x=\"1247.652344\" xlink:href=\"#DejaVuSans-121\"/>\r\n       <use x=\"1306.832031\" xlink:href=\"#DejaVuSans-41\"/>\r\n      </g>\r\n     </g>\r\n    </g>\r\n    <g id=\"ytick_3\">\r\n     <g id=\"line2d_11\">\r\n      <g>\r\n       <use style=\"stroke:#000000;stroke-width:0.8;\" x=\"156.954688\" xlink:href=\"#m7a1d387452\" y=\"354.454925\"/>\r\n      </g>\r\n     </g>\r\n     <g id=\"text_11\">\r\n      <!-- (Kitchen, Bedroom, Utility) -->\r\n      <g transform=\"translate(17.217187 358.254144)scale(0.1 -0.1)\">\r\n       <use xlink:href=\"#DejaVuSans-40\"/>\r\n       <use x=\"39.013672\" xlink:href=\"#DejaVuSans-75\"/>\r\n       <use x=\"104.589844\" xlink:href=\"#DejaVuSans-105\"/>\r\n       <use x=\"132.373047\" xlink:href=\"#DejaVuSans-116\"/>\r\n       <use x=\"171.582031\" xlink:href=\"#DejaVuSans-99\"/>\r\n       <use x=\"226.5625\" xlink:href=\"#DejaVuSans-104\"/>\r\n       <use x=\"289.941406\" xlink:href=\"#DejaVuSans-101\"/>\r\n       <use x=\"351.464844\" xlink:href=\"#DejaVuSans-110\"/>\r\n       <use x=\"414.84375\" xlink:href=\"#DejaVuSans-44\"/>\r\n       <use x=\"446.630859\" xlink:href=\"#DejaVuSans-32\"/>\r\n       <use x=\"478.417969\" xlink:href=\"#DejaVuSans-66\"/>\r\n       <use x=\"547.021484\" xlink:href=\"#DejaVuSans-101\"/>\r\n       <use x=\"608.544922\" xlink:href=\"#DejaVuSans-100\"/>\r\n       <use x=\"672.021484\" xlink:href=\"#DejaVuSans-114\"/>\r\n       <use x=\"710.884766\" xlink:href=\"#DejaVuSans-111\"/>\r\n       <use x=\"772.066406\" xlink:href=\"#DejaVuSans-111\"/>\r\n       <use x=\"833.248047\" xlink:href=\"#DejaVuSans-109\"/>\r\n       <use x=\"930.660156\" xlink:href=\"#DejaVuSans-44\"/>\r\n       <use x=\"962.447266\" xlink:href=\"#DejaVuSans-32\"/>\r\n       <use x=\"994.234375\" xlink:href=\"#DejaVuSans-85\"/>\r\n       <use x=\"1067.427734\" xlink:href=\"#DejaVuSans-116\"/>\r\n       <use x=\"1106.636719\" xlink:href=\"#DejaVuSans-105\"/>\r\n       <use x=\"1134.419922\" xlink:href=\"#DejaVuSans-108\"/>\r\n       <use x=\"1162.203125\" xlink:href=\"#DejaVuSans-105\"/>\r\n       <use x=\"1189.986328\" xlink:href=\"#DejaVuSans-116\"/>\r\n       <use x=\"1229.195312\" xlink:href=\"#DejaVuSans-121\"/>\r\n       <use x=\"1288.375\" xlink:href=\"#DejaVuSans-41\"/>\r\n      </g>\r\n     </g>\r\n    </g>\r\n    <g id=\"ytick_4\">\r\n     <g id=\"line2d_12\">\r\n      <g>\r\n       <use style=\"stroke:#000000;stroke-width:0.8;\" x=\"156.954688\" xlink:href=\"#m7a1d387452\" y=\"322.001194\"/>\r\n      </g>\r\n     </g>\r\n     <g id=\"text_12\">\r\n      <!-- (Bedroom, Hallway, Utility) -->\r\n      <g transform=\"translate(15.370313 325.800413)scale(0.1 -0.1)\">\r\n       <use xlink:href=\"#DejaVuSans-40\"/>\r\n       <use x=\"39.013672\" xlink:href=\"#DejaVuSans-66\"/>\r\n       <use x=\"107.617188\" xlink:href=\"#DejaVuSans-101\"/>\r\n       <use x=\"169.140625\" xlink:href=\"#DejaVuSans-100\"/>\r\n       <use x=\"232.617188\" xlink:href=\"#DejaVuSans-114\"/>\r\n       <use x=\"271.480469\" xlink:href=\"#DejaVuSans-111\"/>\r\n       <use x=\"332.662109\" xlink:href=\"#DejaVuSans-111\"/>\r\n       <use x=\"393.84375\" xlink:href=\"#DejaVuSans-109\"/>\r\n       <use x=\"491.255859\" xlink:href=\"#DejaVuSans-44\"/>\r\n       <use x=\"523.042969\" xlink:href=\"#DejaVuSans-32\"/>\r\n       <use x=\"554.830078\" xlink:href=\"#DejaVuSans-72\"/>\r\n       <use x=\"630.025391\" xlink:href=\"#DejaVuSans-97\"/>\r\n       <use x=\"691.304688\" xlink:href=\"#DejaVuSans-108\"/>\r\n       <use x=\"719.087891\" xlink:href=\"#DejaVuSans-108\"/>\r\n       <use x=\"746.871094\" xlink:href=\"#DejaVuSans-119\"/>\r\n       <use x=\"828.658203\" xlink:href=\"#DejaVuSans-97\"/>\r\n       <use x=\"889.9375\" xlink:href=\"#DejaVuSans-121\"/>\r\n       <use x=\"949.117188\" xlink:href=\"#DejaVuSans-44\"/>\r\n       <use x=\"980.904297\" xlink:href=\"#DejaVuSans-32\"/>\r\n       <use x=\"1012.691406\" xlink:href=\"#DejaVuSans-85\"/>\r\n       <use x=\"1085.884766\" xlink:href=\"#DejaVuSans-116\"/>\r\n       <use x=\"1125.09375\" xlink:href=\"#DejaVuSans-105\"/>\r\n       <use x=\"1152.876953\" xlink:href=\"#DejaVuSans-108\"/>\r\n       <use x=\"1180.660156\" xlink:href=\"#DejaVuSans-105\"/>\r\n       <use x=\"1208.443359\" xlink:href=\"#DejaVuSans-116\"/>\r\n       <use x=\"1247.652344\" xlink:href=\"#DejaVuSans-121\"/>\r\n       <use x=\"1306.832031\" xlink:href=\"#DejaVuSans-41\"/>\r\n      </g>\r\n     </g>\r\n    </g>\r\n    <g id=\"ytick_5\">\r\n     <g id=\"line2d_13\">\r\n      <g>\r\n       <use style=\"stroke:#000000;stroke-width:0.8;\" x=\"156.954688\" xlink:href=\"#m7a1d387452\" y=\"289.547463\"/>\r\n      </g>\r\n     </g>\r\n     <g id=\"text_13\">\r\n      <!-- (Kitchen, Utility, Hallway) -->\r\n      <g transform=\"translate(23.014062 293.346681)scale(0.1 -0.1)\">\r\n       <use xlink:href=\"#DejaVuSans-40\"/>\r\n       <use x=\"39.013672\" xlink:href=\"#DejaVuSans-75\"/>\r\n       <use x=\"104.589844\" xlink:href=\"#DejaVuSans-105\"/>\r\n       <use x=\"132.373047\" xlink:href=\"#DejaVuSans-116\"/>\r\n       <use x=\"171.582031\" xlink:href=\"#DejaVuSans-99\"/>\r\n       <use x=\"226.5625\" xlink:href=\"#DejaVuSans-104\"/>\r\n       <use x=\"289.941406\" xlink:href=\"#DejaVuSans-101\"/>\r\n       <use x=\"351.464844\" xlink:href=\"#DejaVuSans-110\"/>\r\n       <use x=\"414.84375\" xlink:href=\"#DejaVuSans-44\"/>\r\n       <use x=\"446.630859\" xlink:href=\"#DejaVuSans-32\"/>\r\n       <use x=\"478.417969\" xlink:href=\"#DejaVuSans-85\"/>\r\n       <use x=\"551.611328\" xlink:href=\"#DejaVuSans-116\"/>\r\n       <use x=\"590.820312\" xlink:href=\"#DejaVuSans-105\"/>\r\n       <use x=\"618.603516\" xlink:href=\"#DejaVuSans-108\"/>\r\n       <use x=\"646.386719\" xlink:href=\"#DejaVuSans-105\"/>\r\n       <use x=\"674.169922\" xlink:href=\"#DejaVuSans-116\"/>\r\n       <use x=\"713.378906\" xlink:href=\"#DejaVuSans-121\"/>\r\n       <use x=\"772.558594\" xlink:href=\"#DejaVuSans-44\"/>\r\n       <use x=\"804.345703\" xlink:href=\"#DejaVuSans-32\"/>\r\n       <use x=\"836.132812\" xlink:href=\"#DejaVuSans-72\"/>\r\n       <use x=\"911.328125\" xlink:href=\"#DejaVuSans-97\"/>\r\n       <use x=\"972.607422\" xlink:href=\"#DejaVuSans-108\"/>\r\n       <use x=\"1000.390625\" xlink:href=\"#DejaVuSans-108\"/>\r\n       <use x=\"1028.173828\" xlink:href=\"#DejaVuSans-119\"/>\r\n       <use x=\"1109.960938\" xlink:href=\"#DejaVuSans-97\"/>\r\n       <use x=\"1171.240234\" xlink:href=\"#DejaVuSans-121\"/>\r\n       <use x=\"1230.419922\" xlink:href=\"#DejaVuSans-41\"/>\r\n      </g>\r\n     </g>\r\n    </g>\r\n    <g id=\"ytick_6\">\r\n     <g id=\"line2d_14\">\r\n      <g>\r\n       <use style=\"stroke:#000000;stroke-width:0.8;\" x=\"156.954688\" xlink:href=\"#m7a1d387452\" y=\"257.093731\"/>\r\n      </g>\r\n     </g>\r\n     <g id=\"text_14\">\r\n      <!-- (&lt;s&gt;, Hallway, Utility) -->\r\n      <g transform=\"translate(38.628125 260.89295)scale(0.1 -0.1)\">\r\n       <defs>\r\n        <path d=\"M 73.1875 49.21875 \r\nL 22.796875 31.296875 \r\nL 73.1875 13.484375 \r\nL 73.1875 4.59375 \r\nL 10.59375 27.296875 \r\nL 10.59375 35.40625 \r\nL 73.1875 58.109375 \r\nz\r\n\" id=\"DejaVuSans-60\"/>\r\n        <path d=\"M 44.28125 53.078125 \r\nL 44.28125 44.578125 \r\nQ 40.484375 46.53125 36.375 47.5 \r\nQ 32.28125 48.484375 27.875 48.484375 \r\nQ 21.1875 48.484375 17.84375 46.4375 \r\nQ 14.5 44.390625 14.5 40.28125 \r\nQ 14.5 37.15625 16.890625 35.375 \r\nQ 19.28125 33.59375 26.515625 31.984375 \r\nL 29.59375 31.296875 \r\nQ 39.15625 29.25 43.1875 25.515625 \r\nQ 47.21875 21.78125 47.21875 15.09375 \r\nQ 47.21875 7.46875 41.1875 3.015625 \r\nQ 35.15625 -1.421875 24.609375 -1.421875 \r\nQ 20.21875 -1.421875 15.453125 -0.5625 \r\nQ 10.6875 0.296875 5.421875 2 \r\nL 5.421875 11.28125 \r\nQ 10.40625 8.6875 15.234375 7.390625 \r\nQ 20.0625 6.109375 24.8125 6.109375 \r\nQ 31.15625 6.109375 34.5625 8.28125 \r\nQ 37.984375 10.453125 37.984375 14.40625 \r\nQ 37.984375 18.0625 35.515625 20.015625 \r\nQ 33.0625 21.96875 24.703125 23.78125 \r\nL 21.578125 24.515625 \r\nQ 13.234375 26.265625 9.515625 29.90625 \r\nQ 5.8125 33.546875 5.8125 39.890625 \r\nQ 5.8125 47.609375 11.28125 51.796875 \r\nQ 16.75 56 26.8125 56 \r\nQ 31.78125 56 36.171875 55.265625 \r\nQ 40.578125 54.546875 44.28125 53.078125 \r\nz\r\n\" id=\"DejaVuSans-115\"/>\r\n        <path d=\"M 10.59375 49.21875 \r\nL 10.59375 58.109375 \r\nL 73.1875 35.40625 \r\nL 73.1875 27.296875 \r\nL 10.59375 4.59375 \r\nL 10.59375 13.484375 \r\nL 60.890625 31.296875 \r\nz\r\n\" id=\"DejaVuSans-62\"/>\r\n       </defs>\r\n       <use xlink:href=\"#DejaVuSans-40\"/>\r\n       <use x=\"39.013672\" xlink:href=\"#DejaVuSans-60\"/>\r\n       <use x=\"122.802734\" xlink:href=\"#DejaVuSans-115\"/>\r\n       <use x=\"174.902344\" xlink:href=\"#DejaVuSans-62\"/>\r\n       <use x=\"258.691406\" xlink:href=\"#DejaVuSans-44\"/>\r\n       <use x=\"290.478516\" xlink:href=\"#DejaVuSans-32\"/>\r\n       <use x=\"322.265625\" xlink:href=\"#DejaVuSans-72\"/>\r\n       <use x=\"397.460938\" xlink:href=\"#DejaVuSans-97\"/>\r\n       <use x=\"458.740234\" xlink:href=\"#DejaVuSans-108\"/>\r\n       <use x=\"486.523438\" xlink:href=\"#DejaVuSans-108\"/>\r\n       <use x=\"514.306641\" xlink:href=\"#DejaVuSans-119\"/>\r\n       <use x=\"596.09375\" xlink:href=\"#DejaVuSans-97\"/>\r\n       <use x=\"657.373047\" xlink:href=\"#DejaVuSans-121\"/>\r\n       <use x=\"716.552734\" xlink:href=\"#DejaVuSans-44\"/>\r\n       <use x=\"748.339844\" xlink:href=\"#DejaVuSans-32\"/>\r\n       <use x=\"780.126953\" xlink:href=\"#DejaVuSans-85\"/>\r\n       <use x=\"853.320312\" xlink:href=\"#DejaVuSans-116\"/>\r\n       <use x=\"892.529297\" xlink:href=\"#DejaVuSans-105\"/>\r\n       <use x=\"920.3125\" xlink:href=\"#DejaVuSans-108\"/>\r\n       <use x=\"948.095703\" xlink:href=\"#DejaVuSans-105\"/>\r\n       <use x=\"975.878906\" xlink:href=\"#DejaVuSans-116\"/>\r\n       <use x=\"1015.087891\" xlink:href=\"#DejaVuSans-121\"/>\r\n       <use x=\"1074.267578\" xlink:href=\"#DejaVuSans-41\"/>\r\n      </g>\r\n     </g>\r\n    </g>\r\n    <g id=\"ytick_7\">\r\n     <g id=\"line2d_15\">\r\n      <g>\r\n       <use style=\"stroke:#000000;stroke-width:0.8;\" x=\"156.954688\" xlink:href=\"#m7a1d387452\" y=\"224.64\"/>\r\n      </g>\r\n     </g>\r\n     <g id=\"text_15\">\r\n      <!-- (Kitchen, Utility, Kitchen) -->\r\n      <g transform=\"translate(24.860938 228.439219)scale(0.1 -0.1)\">\r\n       <use xlink:href=\"#DejaVuSans-40\"/>\r\n       <use x=\"39.013672\" xlink:href=\"#DejaVuSans-75\"/>\r\n       <use x=\"104.589844\" xlink:href=\"#DejaVuSans-105\"/>\r\n       <use x=\"132.373047\" xlink:href=\"#DejaVuSans-116\"/>\r\n       <use x=\"171.582031\" xlink:href=\"#DejaVuSans-99\"/>\r\n       <use x=\"226.5625\" xlink:href=\"#DejaVuSans-104\"/>\r\n       <use x=\"289.941406\" xlink:href=\"#DejaVuSans-101\"/>\r\n       <use x=\"351.464844\" xlink:href=\"#DejaVuSans-110\"/>\r\n       <use x=\"414.84375\" xlink:href=\"#DejaVuSans-44\"/>\r\n       <use x=\"446.630859\" xlink:href=\"#DejaVuSans-32\"/>\r\n       <use x=\"478.417969\" xlink:href=\"#DejaVuSans-85\"/>\r\n       <use x=\"551.611328\" xlink:href=\"#DejaVuSans-116\"/>\r\n       <use x=\"590.820312\" xlink:href=\"#DejaVuSans-105\"/>\r\n       <use x=\"618.603516\" xlink:href=\"#DejaVuSans-108\"/>\r\n       <use x=\"646.386719\" xlink:href=\"#DejaVuSans-105\"/>\r\n       <use x=\"674.169922\" xlink:href=\"#DejaVuSans-116\"/>\r\n       <use x=\"713.378906\" xlink:href=\"#DejaVuSans-121\"/>\r\n       <use x=\"772.558594\" xlink:href=\"#DejaVuSans-44\"/>\r\n       <use x=\"804.345703\" xlink:href=\"#DejaVuSans-32\"/>\r\n       <use x=\"836.132812\" xlink:href=\"#DejaVuSans-75\"/>\r\n       <use x=\"901.708984\" xlink:href=\"#DejaVuSans-105\"/>\r\n       <use x=\"929.492188\" xlink:href=\"#DejaVuSans-116\"/>\r\n       <use x=\"968.701172\" xlink:href=\"#DejaVuSans-99\"/>\r\n       <use x=\"1023.681641\" xlink:href=\"#DejaVuSans-104\"/>\r\n       <use x=\"1087.060547\" xlink:href=\"#DejaVuSans-101\"/>\r\n       <use x=\"1148.583984\" xlink:href=\"#DejaVuSans-110\"/>\r\n       <use x=\"1211.962891\" xlink:href=\"#DejaVuSans-41\"/>\r\n      </g>\r\n     </g>\r\n    </g>\r\n    <g id=\"ytick_8\">\r\n     <g id=\"line2d_16\">\r\n      <g>\r\n       <use style=\"stroke:#000000;stroke-width:0.8;\" x=\"156.954688\" xlink:href=\"#m7a1d387452\" y=\"192.186269\"/>\r\n      </g>\r\n     </g>\r\n     <g id=\"text_16\">\r\n      <!-- (Kitchen, Utility, &lt;/s&gt;) -->\r\n      <g transform=\"translate(37.10625 195.985487)scale(0.1 -0.1)\">\r\n       <defs>\r\n        <path d=\"M 25.390625 72.90625 \r\nL 33.6875 72.90625 \r\nL 8.296875 -9.28125 \r\nL 0 -9.28125 \r\nz\r\n\" id=\"DejaVuSans-47\"/>\r\n       </defs>\r\n       <use xlink:href=\"#DejaVuSans-40\"/>\r\n       <use x=\"39.013672\" xlink:href=\"#DejaVuSans-75\"/>\r\n       <use x=\"104.589844\" xlink:href=\"#DejaVuSans-105\"/>\r\n       <use x=\"132.373047\" xlink:href=\"#DejaVuSans-116\"/>\r\n       <use x=\"171.582031\" xlink:href=\"#DejaVuSans-99\"/>\r\n       <use x=\"226.5625\" xlink:href=\"#DejaVuSans-104\"/>\r\n       <use x=\"289.941406\" xlink:href=\"#DejaVuSans-101\"/>\r\n       <use x=\"351.464844\" xlink:href=\"#DejaVuSans-110\"/>\r\n       <use x=\"414.84375\" xlink:href=\"#DejaVuSans-44\"/>\r\n       <use x=\"446.630859\" xlink:href=\"#DejaVuSans-32\"/>\r\n       <use x=\"478.417969\" xlink:href=\"#DejaVuSans-85\"/>\r\n       <use x=\"551.611328\" xlink:href=\"#DejaVuSans-116\"/>\r\n       <use x=\"590.820312\" xlink:href=\"#DejaVuSans-105\"/>\r\n       <use x=\"618.603516\" xlink:href=\"#DejaVuSans-108\"/>\r\n       <use x=\"646.386719\" xlink:href=\"#DejaVuSans-105\"/>\r\n       <use x=\"674.169922\" xlink:href=\"#DejaVuSans-116\"/>\r\n       <use x=\"713.378906\" xlink:href=\"#DejaVuSans-121\"/>\r\n       <use x=\"772.558594\" xlink:href=\"#DejaVuSans-44\"/>\r\n       <use x=\"804.345703\" xlink:href=\"#DejaVuSans-32\"/>\r\n       <use x=\"836.132812\" xlink:href=\"#DejaVuSans-60\"/>\r\n       <use x=\"919.921875\" xlink:href=\"#DejaVuSans-47\"/>\r\n       <use x=\"953.613281\" xlink:href=\"#DejaVuSans-115\"/>\r\n       <use x=\"1005.712891\" xlink:href=\"#DejaVuSans-62\"/>\r\n       <use x=\"1089.501953\" xlink:href=\"#DejaVuSans-41\"/>\r\n      </g>\r\n     </g>\r\n    </g>\r\n    <g id=\"ytick_9\">\r\n     <g id=\"line2d_17\">\r\n      <g>\r\n       <use style=\"stroke:#000000;stroke-width:0.8;\" x=\"156.954688\" xlink:href=\"#m7a1d387452\" y=\"159.732537\"/>\r\n      </g>\r\n     </g>\r\n     <g id=\"text_17\">\r\n      <!-- (Hallway, Utility, Kitchen) -->\r\n      <g transform=\"translate(23.014062 163.531756)scale(0.1 -0.1)\">\r\n       <use xlink:href=\"#DejaVuSans-40\"/>\r\n       <use x=\"39.013672\" xlink:href=\"#DejaVuSans-72\"/>\r\n       <use x=\"114.208984\" xlink:href=\"#DejaVuSans-97\"/>\r\n       <use x=\"175.488281\" xlink:href=\"#DejaVuSans-108\"/>\r\n       <use x=\"203.271484\" xlink:href=\"#DejaVuSans-108\"/>\r\n       <use x=\"231.054688\" xlink:href=\"#DejaVuSans-119\"/>\r\n       <use x=\"312.841797\" xlink:href=\"#DejaVuSans-97\"/>\r\n       <use x=\"374.121094\" xlink:href=\"#DejaVuSans-121\"/>\r\n       <use x=\"433.300781\" xlink:href=\"#DejaVuSans-44\"/>\r\n       <use x=\"465.087891\" xlink:href=\"#DejaVuSans-32\"/>\r\n       <use x=\"496.875\" xlink:href=\"#DejaVuSans-85\"/>\r\n       <use x=\"570.068359\" xlink:href=\"#DejaVuSans-116\"/>\r\n       <use x=\"609.277344\" xlink:href=\"#DejaVuSans-105\"/>\r\n       <use x=\"637.060547\" xlink:href=\"#DejaVuSans-108\"/>\r\n       <use x=\"664.84375\" xlink:href=\"#DejaVuSans-105\"/>\r\n       <use x=\"692.626953\" xlink:href=\"#DejaVuSans-116\"/>\r\n       <use x=\"731.835938\" xlink:href=\"#DejaVuSans-121\"/>\r\n       <use x=\"791.015625\" xlink:href=\"#DejaVuSans-44\"/>\r\n       <use x=\"822.802734\" xlink:href=\"#DejaVuSans-32\"/>\r\n       <use x=\"854.589844\" xlink:href=\"#DejaVuSans-75\"/>\r\n       <use x=\"920.166016\" xlink:href=\"#DejaVuSans-105\"/>\r\n       <use x=\"947.949219\" xlink:href=\"#DejaVuSans-116\"/>\r\n       <use x=\"987.158203\" xlink:href=\"#DejaVuSans-99\"/>\r\n       <use x=\"1042.138672\" xlink:href=\"#DejaVuSans-104\"/>\r\n       <use x=\"1105.517578\" xlink:href=\"#DejaVuSans-101\"/>\r\n       <use x=\"1167.041016\" xlink:href=\"#DejaVuSans-110\"/>\r\n       <use x=\"1230.419922\" xlink:href=\"#DejaVuSans-41\"/>\r\n      </g>\r\n     </g>\r\n    </g>\r\n    <g id=\"ytick_10\">\r\n     <g id=\"line2d_18\">\r\n      <g>\r\n       <use style=\"stroke:#000000;stroke-width:0.8;\" x=\"156.954688\" xlink:href=\"#m7a1d387452\" y=\"127.278806\"/>\r\n      </g>\r\n     </g>\r\n     <g id=\"text_18\">\r\n      <!-- (Living, Kitchen, Bedroom) -->\r\n      <g transform=\"translate(16.896875 131.078025)scale(0.1 -0.1)\">\r\n       <defs>\r\n        <path d=\"M 9.8125 72.90625 \r\nL 19.671875 72.90625 \r\nL 19.671875 8.296875 \r\nL 55.171875 8.296875 \r\nL 55.171875 0 \r\nL 9.8125 0 \r\nz\r\n\" id=\"DejaVuSans-76\"/>\r\n        <path d=\"M 2.984375 54.6875 \r\nL 12.5 54.6875 \r\nL 29.59375 8.796875 \r\nL 46.6875 54.6875 \r\nL 56.203125 54.6875 \r\nL 35.6875 0 \r\nL 23.484375 0 \r\nz\r\n\" id=\"DejaVuSans-118\"/>\r\n        <path d=\"M 45.40625 27.984375 \r\nQ 45.40625 37.75 41.375 43.109375 \r\nQ 37.359375 48.484375 30.078125 48.484375 \r\nQ 22.859375 48.484375 18.828125 43.109375 \r\nQ 14.796875 37.75 14.796875 27.984375 \r\nQ 14.796875 18.265625 18.828125 12.890625 \r\nQ 22.859375 7.515625 30.078125 7.515625 \r\nQ 37.359375 7.515625 41.375 12.890625 \r\nQ 45.40625 18.265625 45.40625 27.984375 \r\nz\r\nM 54.390625 6.78125 \r\nQ 54.390625 -7.171875 48.1875 -13.984375 \r\nQ 42 -20.796875 29.203125 -20.796875 \r\nQ 24.46875 -20.796875 20.265625 -20.09375 \r\nQ 16.0625 -19.390625 12.109375 -17.921875 \r\nL 12.109375 -9.1875 \r\nQ 16.0625 -11.328125 19.921875 -12.34375 \r\nQ 23.78125 -13.375 27.78125 -13.375 \r\nQ 36.625 -13.375 41.015625 -8.765625 \r\nQ 45.40625 -4.15625 45.40625 5.171875 \r\nL 45.40625 9.625 \r\nQ 42.625 4.78125 38.28125 2.390625 \r\nQ 33.9375 0 27.875 0 \r\nQ 17.828125 0 11.671875 7.65625 \r\nQ 5.515625 15.328125 5.515625 27.984375 \r\nQ 5.515625 40.671875 11.671875 48.328125 \r\nQ 17.828125 56 27.875 56 \r\nQ 33.9375 56 38.28125 53.609375 \r\nQ 42.625 51.21875 45.40625 46.390625 \r\nL 45.40625 54.6875 \r\nL 54.390625 54.6875 \r\nz\r\n\" id=\"DejaVuSans-103\"/>\r\n       </defs>\r\n       <use xlink:href=\"#DejaVuSans-40\"/>\r\n       <use x=\"39.013672\" xlink:href=\"#DejaVuSans-76\"/>\r\n       <use x=\"94.726562\" xlink:href=\"#DejaVuSans-105\"/>\r\n       <use x=\"122.509766\" xlink:href=\"#DejaVuSans-118\"/>\r\n       <use x=\"181.689453\" xlink:href=\"#DejaVuSans-105\"/>\r\n       <use x=\"209.472656\" xlink:href=\"#DejaVuSans-110\"/>\r\n       <use x=\"272.851562\" xlink:href=\"#DejaVuSans-103\"/>\r\n       <use x=\"336.328125\" xlink:href=\"#DejaVuSans-44\"/>\r\n       <use x=\"368.115234\" xlink:href=\"#DejaVuSans-32\"/>\r\n       <use x=\"399.902344\" xlink:href=\"#DejaVuSans-75\"/>\r\n       <use x=\"465.478516\" xlink:href=\"#DejaVuSans-105\"/>\r\n       <use x=\"493.261719\" xlink:href=\"#DejaVuSans-116\"/>\r\n       <use x=\"532.470703\" xlink:href=\"#DejaVuSans-99\"/>\r\n       <use x=\"587.451172\" xlink:href=\"#DejaVuSans-104\"/>\r\n       <use x=\"650.830078\" xlink:href=\"#DejaVuSans-101\"/>\r\n       <use x=\"712.353516\" xlink:href=\"#DejaVuSans-110\"/>\r\n       <use x=\"775.732422\" xlink:href=\"#DejaVuSans-44\"/>\r\n       <use x=\"807.519531\" xlink:href=\"#DejaVuSans-32\"/>\r\n       <use x=\"839.306641\" xlink:href=\"#DejaVuSans-66\"/>\r\n       <use x=\"907.910156\" xlink:href=\"#DejaVuSans-101\"/>\r\n       <use x=\"969.433594\" xlink:href=\"#DejaVuSans-100\"/>\r\n       <use x=\"1032.910156\" xlink:href=\"#DejaVuSans-114\"/>\r\n       <use x=\"1071.773438\" xlink:href=\"#DejaVuSans-111\"/>\r\n       <use x=\"1132.955078\" xlink:href=\"#DejaVuSans-111\"/>\r\n       <use x=\"1194.136719\" xlink:href=\"#DejaVuSans-109\"/>\r\n       <use x=\"1291.548828\" xlink:href=\"#DejaVuSans-41\"/>\r\n      </g>\r\n     </g>\r\n    </g>\r\n    <g id=\"ytick_11\">\r\n     <g id=\"line2d_19\">\r\n      <g>\r\n       <use style=\"stroke:#000000;stroke-width:0.8;\" x=\"156.954688\" xlink:href=\"#m7a1d387452\" y=\"94.825075\"/>\r\n      </g>\r\n     </g>\r\n     <g id=\"text_19\">\r\n      <!-- (Hallway, Living, Kitchen) -->\r\n      <g transform=\"translate(22.69375 98.624293)scale(0.1 -0.1)\">\r\n       <use xlink:href=\"#DejaVuSans-40\"/>\r\n       <use x=\"39.013672\" xlink:href=\"#DejaVuSans-72\"/>\r\n       <use x=\"114.208984\" xlink:href=\"#DejaVuSans-97\"/>\r\n       <use x=\"175.488281\" xlink:href=\"#DejaVuSans-108\"/>\r\n       <use x=\"203.271484\" xlink:href=\"#DejaVuSans-108\"/>\r\n       <use x=\"231.054688\" xlink:href=\"#DejaVuSans-119\"/>\r\n       <use x=\"312.841797\" xlink:href=\"#DejaVuSans-97\"/>\r\n       <use x=\"374.121094\" xlink:href=\"#DejaVuSans-121\"/>\r\n       <use x=\"433.300781\" xlink:href=\"#DejaVuSans-44\"/>\r\n       <use x=\"465.087891\" xlink:href=\"#DejaVuSans-32\"/>\r\n       <use x=\"496.875\" xlink:href=\"#DejaVuSans-76\"/>\r\n       <use x=\"552.587891\" xlink:href=\"#DejaVuSans-105\"/>\r\n       <use x=\"580.371094\" xlink:href=\"#DejaVuSans-118\"/>\r\n       <use x=\"639.550781\" xlink:href=\"#DejaVuSans-105\"/>\r\n       <use x=\"667.333984\" xlink:href=\"#DejaVuSans-110\"/>\r\n       <use x=\"730.712891\" xlink:href=\"#DejaVuSans-103\"/>\r\n       <use x=\"794.189453\" xlink:href=\"#DejaVuSans-44\"/>\r\n       <use x=\"825.976562\" xlink:href=\"#DejaVuSans-32\"/>\r\n       <use x=\"857.763672\" xlink:href=\"#DejaVuSans-75\"/>\r\n       <use x=\"923.339844\" xlink:href=\"#DejaVuSans-105\"/>\r\n       <use x=\"951.123047\" xlink:href=\"#DejaVuSans-116\"/>\r\n       <use x=\"990.332031\" xlink:href=\"#DejaVuSans-99\"/>\r\n       <use x=\"1045.3125\" xlink:href=\"#DejaVuSans-104\"/>\r\n       <use x=\"1108.691406\" xlink:href=\"#DejaVuSans-101\"/>\r\n       <use x=\"1170.214844\" xlink:href=\"#DejaVuSans-110\"/>\r\n       <use x=\"1233.59375\" xlink:href=\"#DejaVuSans-41\"/>\r\n      </g>\r\n     </g>\r\n    </g>\r\n    <g id=\"ytick_12\">\r\n     <g id=\"line2d_20\">\r\n      <g>\r\n       <use style=\"stroke:#000000;stroke-width:0.8;\" x=\"156.954688\" xlink:href=\"#m7a1d387452\" y=\"62.371343\"/>\r\n      </g>\r\n     </g>\r\n     <g id=\"text_20\">\r\n      <!-- (Utility, Hallway, Living) -->\r\n      <g transform=\"translate(30.864063 66.170562)scale(0.1 -0.1)\">\r\n       <use xlink:href=\"#DejaVuSans-40\"/>\r\n       <use x=\"39.013672\" xlink:href=\"#DejaVuSans-85\"/>\r\n       <use x=\"112.207031\" xlink:href=\"#DejaVuSans-116\"/>\r\n       <use x=\"151.416016\" xlink:href=\"#DejaVuSans-105\"/>\r\n       <use x=\"179.199219\" xlink:href=\"#DejaVuSans-108\"/>\r\n       <use x=\"206.982422\" xlink:href=\"#DejaVuSans-105\"/>\r\n       <use x=\"234.765625\" xlink:href=\"#DejaVuSans-116\"/>\r\n       <use x=\"273.974609\" xlink:href=\"#DejaVuSans-121\"/>\r\n       <use x=\"333.154297\" xlink:href=\"#DejaVuSans-44\"/>\r\n       <use x=\"364.941406\" xlink:href=\"#DejaVuSans-32\"/>\r\n       <use x=\"396.728516\" xlink:href=\"#DejaVuSans-72\"/>\r\n       <use x=\"471.923828\" xlink:href=\"#DejaVuSans-97\"/>\r\n       <use x=\"533.203125\" xlink:href=\"#DejaVuSans-108\"/>\r\n       <use x=\"560.986328\" xlink:href=\"#DejaVuSans-108\"/>\r\n       <use x=\"588.769531\" xlink:href=\"#DejaVuSans-119\"/>\r\n       <use x=\"670.556641\" xlink:href=\"#DejaVuSans-97\"/>\r\n       <use x=\"731.835938\" xlink:href=\"#DejaVuSans-121\"/>\r\n       <use x=\"791.015625\" xlink:href=\"#DejaVuSans-44\"/>\r\n       <use x=\"822.802734\" xlink:href=\"#DejaVuSans-32\"/>\r\n       <use x=\"854.589844\" xlink:href=\"#DejaVuSans-76\"/>\r\n       <use x=\"910.302734\" xlink:href=\"#DejaVuSans-105\"/>\r\n       <use x=\"938.085938\" xlink:href=\"#DejaVuSans-118\"/>\r\n       <use x=\"997.265625\" xlink:href=\"#DejaVuSans-105\"/>\r\n       <use x=\"1025.048828\" xlink:href=\"#DejaVuSans-110\"/>\r\n       <use x=\"1088.427734\" xlink:href=\"#DejaVuSans-103\"/>\r\n       <use x=\"1151.904297\" xlink:href=\"#DejaVuSans-41\"/>\r\n      </g>\r\n     </g>\r\n    </g>\r\n    <g id=\"ytick_13\">\r\n     <g id=\"line2d_21\">\r\n      <g>\r\n       <use style=\"stroke:#000000;stroke-width:0.8;\" x=\"156.954688\" xlink:href=\"#m7a1d387452\" y=\"29.917612\"/>\r\n      </g>\r\n     </g>\r\n     <g id=\"text_21\">\r\n      <!-- (Utility, Kitchen, Utility) -->\r\n      <g transform=\"translate(33.03125 33.716831)scale(0.1 -0.1)\">\r\n       <use xlink:href=\"#DejaVuSans-40\"/>\r\n       <use x=\"39.013672\" xlink:href=\"#DejaVuSans-85\"/>\r\n       <use x=\"112.207031\" xlink:href=\"#DejaVuSans-116\"/>\r\n       <use x=\"151.416016\" xlink:href=\"#DejaVuSans-105\"/>\r\n       <use x=\"179.199219\" xlink:href=\"#DejaVuSans-108\"/>\r\n       <use x=\"206.982422\" xlink:href=\"#DejaVuSans-105\"/>\r\n       <use x=\"234.765625\" xlink:href=\"#DejaVuSans-116\"/>\r\n       <use x=\"273.974609\" xlink:href=\"#DejaVuSans-121\"/>\r\n       <use x=\"333.154297\" xlink:href=\"#DejaVuSans-44\"/>\r\n       <use x=\"364.941406\" xlink:href=\"#DejaVuSans-32\"/>\r\n       <use x=\"396.728516\" xlink:href=\"#DejaVuSans-75\"/>\r\n       <use x=\"462.304688\" xlink:href=\"#DejaVuSans-105\"/>\r\n       <use x=\"490.087891\" xlink:href=\"#DejaVuSans-116\"/>\r\n       <use x=\"529.296875\" xlink:href=\"#DejaVuSans-99\"/>\r\n       <use x=\"584.277344\" xlink:href=\"#DejaVuSans-104\"/>\r\n       <use x=\"647.65625\" xlink:href=\"#DejaVuSans-101\"/>\r\n       <use x=\"709.179688\" xlink:href=\"#DejaVuSans-110\"/>\r\n       <use x=\"772.558594\" xlink:href=\"#DejaVuSans-44\"/>\r\n       <use x=\"804.345703\" xlink:href=\"#DejaVuSans-32\"/>\r\n       <use x=\"836.132812\" xlink:href=\"#DejaVuSans-85\"/>\r\n       <use x=\"909.326172\" xlink:href=\"#DejaVuSans-116\"/>\r\n       <use x=\"948.535156\" xlink:href=\"#DejaVuSans-105\"/>\r\n       <use x=\"976.318359\" xlink:href=\"#DejaVuSans-108\"/>\r\n       <use x=\"1004.101562\" xlink:href=\"#DejaVuSans-105\"/>\r\n       <use x=\"1031.884766\" xlink:href=\"#DejaVuSans-116\"/>\r\n       <use x=\"1071.09375\" xlink:href=\"#DejaVuSans-121\"/>\r\n       <use x=\"1130.273438\" xlink:href=\"#DejaVuSans-41\"/>\r\n      </g>\r\n     </g>\r\n    </g>\r\n   </g>\r\n   <g id=\"patch_16\">\r\n    <path d=\"M 156.954688 442.08 \r\nL 156.954688 7.2 \r\n\" style=\"fill:none;stroke:#000000;stroke-linecap:square;stroke-linejoin:miter;stroke-width:0.8;\"/>\r\n   </g>\r\n   <g id=\"patch_17\">\r\n    <path d=\"M 826.554688 442.08 \r\nL 826.554688 7.2 \r\n\" style=\"fill:none;stroke:#000000;stroke-linecap:square;stroke-linejoin:miter;stroke-width:0.8;\"/>\r\n   </g>\r\n   <g id=\"patch_18\">\r\n    <path d=\"M 156.954688 442.08 \r\nL 826.554688 442.08 \r\n\" style=\"fill:none;stroke:#000000;stroke-linecap:square;stroke-linejoin:miter;stroke-width:0.8;\"/>\r\n   </g>\r\n   <g id=\"patch_19\">\r\n    <path d=\"M 156.954688 7.2 \r\nL 826.554688 7.2 \r\n\" style=\"fill:none;stroke:#000000;stroke-linecap:square;stroke-linejoin:miter;stroke-width:0.8;\"/>\r\n   </g>\r\n  </g>\r\n </g>\r\n <defs>\r\n  <clipPath id=\"p2cd162be92\">\r\n   <rect height=\"434.88\" width=\"669.6\" x=\"156.954688\" y=\"7.2\"/>\r\n  </clipPath>\r\n </defs>\r\n</svg>\r\n",
            "image/png": "[encoded data removed]"
          },
          "metadata": {
            "needs_background": "light"
          }
        }
      ]
    },
    {
      "cell_type": "code",
      "metadata": {
        "colab": {
          "base_uri": "https://localhost:8080/"
        },
        "id": "Ef5FP2x3__La",
        "outputId": "46cb3032-1625-4d35-86ac-74a9bfda15ee"
      },
      "source": [
        "print(final)"
      ],
      "execution_count": 27,
      "outputs": [
        {
          "output_type": "stream",
          "name": "stdout",
          "text": [
            "[['<s>', 'Hallway', 'Utility', 'Kitchen', 'Utility', 'Kitchen', 'Utility', 'Hallway', 'Living', 'Kitchen', 'Bedroom', 'Utility', 'Hallway', 'Living', 'Kitchen', 'Bedroom', 'Hallway', 'Utility', 'Kitchen', 'Utility', '</s>'], ['<s>', 'Hallway', 'Utility', 'Kitchen', 'Utility', 'Kitchen', 'Utility', 'Hallway', 'Living', 'Kitchen', 'Bedroom', 'Utility', 'Hallway', 'Living', 'Kitchen', 'Bedroom', 'Hallway', 'Utility', 'Kitchen', 'Utility', '</s>'], ['<s>', 'Hallway', 'Utility', 'Kitchen', 'Utility', 'Kitchen', 'Utility', 'Hallway', 'Living', 'Kitchen', 'Bedroom', 'Utility', 'Hallway', 'Living', 'Kitchen', 'Bedroom', 'Hallway', 'Utility', 'Kitchen', 'Utility', '</s>'], ['<s>', 'Hallway', 'Utility', 'Kitchen', 'Utility', 'Kitchen', 'Utility', 'Hallway', 'Living', 'Kitchen', 'Bedroom', 'Utility', 'Hallway', 'Living', 'Kitchen', 'Bedroom', 'Hallway', 'Utility', 'Kitchen', 'Utility', '</s>'], ['<s>', 'Hallway', 'Utility', 'Kitchen', 'Utility', 'Kitchen', 'Utility', 'Hallway', 'Living', 'Kitchen', 'Bedroom', 'Utility', 'Hallway', 'Living', 'Kitchen', 'Bedroom', 'Hallway', 'Utility', 'Kitchen', 'Utility', '</s>'], ['<s>', 'Hallway', 'Utility', 'Kitchen', 'Utility', 'Kitchen', 'Utility', 'Hallway', 'Living', 'Kitchen', 'Bedroom', 'Utility', 'Hallway', 'Living', 'Kitchen', 'Bedroom', 'Hallway', 'Utility', 'Kitchen', 'Utility', '</s>']]\n"
          ]
        }
      ]
    },
    {
      "cell_type": "code",
      "metadata": {
        "colab": {
          "base_uri": "https://localhost:8080/"
        },
        "id": "FflbkE2jWE5S",
        "outputId": "ec5698ca-f88e-4f59-e83a-cfe49360b9ea"
      },
      "source": [
        "from nltk.util import everygrams\n",
        "from nltk.lm.preprocessing import padded_everygram_pipeline\n",
        "n = 3\n",
        "train_data, padded_sents = padded_everygram_pipeline(n, final)\n",
        "from nltk.lm import MLE\n",
        "model = MLE(n) # Lets train a 3-grams model, previously we set n=3\n",
        "print(\"Length of Model Before Training: \",len(model.vocab))\n",
        "model.fit(train_data, padded_sents)\n",
        "print(\"Length of Model After Training: \",len(model.vocab))"
      ],
      "execution_count": 28,
      "outputs": [
        {
          "output_type": "stream",
          "name": "stdout",
          "text": [
            "Length of Model Before Training:  0\nLength of Model After Training:  8\n"
          ]
        }
      ]
    },
    {
      "cell_type": "code",
      "metadata": {
        "colab": {
          "base_uri": "https://localhost:8080/"
        },
        "id": "4liwA_aFafyc",
        "outputId": "96da0c82-e267-45ba-99df-f52fe4c84c19"
      },
      "source": [
        "print(model.vocab.lookup(final[2]))"
      ],
      "execution_count": 29,
      "outputs": [
        {
          "output_type": "stream",
          "name": "stdout",
          "text": [
            "('<s>', 'Hallway', 'Utility', 'Kitchen', 'Utility', 'Kitchen', 'Utility', 'Hallway', 'Living', 'Kitchen', 'Bedroom', 'Utility', 'Hallway', 'Living', 'Kitchen', 'Bedroom', 'Hallway', 'Utility', 'Kitchen', 'Utility', '</s>')\n"
          ]
        }
      ]
    },
    {
      "cell_type": "code",
      "metadata": {
        "colab": {
          "base_uri": "https://localhost:8080/"
        },
        "id": "cC7_FuRZbcWM",
        "outputId": "926c71c1-50d8-43b8-9794-1b0f0c0bfc09"
      },
      "source": [
        "print(model.counts)"
      ],
      "execution_count": 30,
      "outputs": [
        {
          "output_type": "stream",
          "name": "stdout",
          "text": [
            "<NgramCounter with 3 ngram orders and 432 ngrams>\n"
          ]
        }
      ]
    },
    {
      "cell_type": "code",
      "metadata": {
        "colab": {
          "base_uri": "https://localhost:8080/"
        },
        "id": "JbqP3ls8cB3U",
        "outputId": "d00141af-cdb1-4320-9f4d-35764dcc0305"
      },
      "source": [
        "model.counts[['Utility', 'Kitchen']]['Utility'] # i.e. Count('Utility'|'Utility Kitchen')"
      ],
      "execution_count": 31,
      "outputs": [
        {
          "output_type": "execute_result",
          "data": {
            "text/plain": [
              "18"
            ]
          },
          "metadata": {},
          "execution_count": 31
        }
      ]
    },
    {
      "cell_type": "code",
      "metadata": {
        "colab": {
          "base_uri": "https://localhost:8080/"
        },
        "id": "6Yj1npoycamb",
        "outputId": "3e517cb4-3b24-4072-c637-7ae506455a59"
      },
      "source": [
        "model.score('Utility', 'Utility Kitchen'.split())"
      ],
      "execution_count": 32,
      "outputs": [
        {
          "output_type": "execute_result",
          "data": {
            "text/plain": [
              "1.0"
            ]
          },
          "metadata": {},
          "execution_count": 32
        }
      ]
    },
    {
      "cell_type": "code",
      "execution_count": 33,
      "metadata": {},
      "outputs": [
        {
          "output_type": "stream",
          "name": "stdout",
          "text": [
            "Requirement already satisfied: dill in c:\\users\\soul\\anaconda3\\lib\\site-packages (0.3.3)\n"
          ]
        }
      ],
      "source": [
        "!pip install dill"
      ]
    },
    {
      "cell_type": "code",
      "execution_count": 34,
      "metadata": {},
      "outputs": [],
      "source": [
        "import dill as pickle "
      ]
    },
    {
      "cell_type": "code",
      "metadata": {
        "id": "UDll-pWhyhkA"
      },
      "source": [
        "with open('./maid_monitoring.pkl', 'wb') as fout:\n",
        "    pickle.dump(model, fout)\n"
      ],
      "execution_count": 35,
      "outputs": []
    },
    {
      "cell_type": "code",
      "execution_count": 36,
      "metadata": {},
      "outputs": [],
      "source": [
        "with open('./maid_monitoring.pkl', 'rb') as fin:\n",
        "    model_loaded = pickle.load(fin)"
      ]
    },
    {
      "cell_type": "code",
      "metadata": {
        "colab": {
          "base_uri": "https://localhost:8080/"
        },
        "id": "XXA_yB7PzcVT",
        "outputId": "8aa6ae52-0a89-468a-f017-ff3630584a7d"
      },
      "source": [
        "model_loaded.score('Utility', 'Utility Kitchen'.split())"
      ],
      "execution_count": 37,
      "outputs": [
        {
          "output_type": "execute_result",
          "data": {
            "text/plain": [
              "1.0"
            ]
          },
          "metadata": {},
          "execution_count": 37
        }
      ]
    },
    {
      "cell_type": "code",
      "execution_count": null,
      "metadata": {},
      "outputs": [],
      "source": []
    }
  ]
}